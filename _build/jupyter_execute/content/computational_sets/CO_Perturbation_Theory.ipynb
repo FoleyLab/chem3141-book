{
 "cells": [
  {
   "cell_type": "markdown",
   "id": "947240ff",
   "metadata": {
    "id": "947240ff"
   },
   "source": [
    "## Computing Fundamental Transition of CO under different levels of approximation\n",
    "We will illustrate approximations to the vibrational transition energies, specifically the fundamental ($n=0 \\rightarrow n=1$) transition, using the diatomic molecule CO.  \n",
    "\n",
    "We will use the Morse potential as a model for the \"exact\" interatomic potential, and we will approximate this potential by different orders of a Taylor expansion: including up to quadratic (which is the harmonic oscillator approximation), cubic, and quartic terms.  The harmonic and Morse potentials are exactly solvable, and the eigenfunctions and eigenvalues of the vibrational Hamiltonian with cubic and quartic potentials can be approximated using perturbation theory.  Therefore, we will\n",
    "compare the fundamental  transition computed exactly for harmonic and Morse potentials, and approximately at 2nd order of perturbation theory for cubic and quartic potentials to see the impact of various levels of potential truncation and approximation.\n",
    "\n",
    "\n",
    "Within the Morse model, the vibrational Hamiltonian can be written as\n",
    "\\begin{equation}\n",
    "\\hat{H}_{vib} = -\\frac{\\hbar^2}{2\\mu} \\frac{d^2}{dr^2} + V_{Morse}(r), \\tag{1}\n",
    "\\end{equation}\n",
    "where\n",
    "\\begin{equation}\n",
    "V_{Morse}(r) = D_e \\left(1 - e^{-\\beta(r-r_{eq})} \\right)^2. \\tag{2}\n",
    "\\end{equation}\n",
    "\n",
    "The Morse parameters for ${\\rm CO}$ are as follows: $D_e = 11.225 \\: {\\rm eV}$, $r_{eq} = 1.1283 \\: {\\rm Ang.}$, $\\beta = 2.5944 \\: {\\rm Ang.}^{-1}$,\n",
    "and $\\mu = 6.8606 \\: {\\rm amu}$.\n",
    "\n",
    "The exact energy eigenvalues for Equation (1) can be written as\n",
    "\\begin{equation}\n",
    "E_n = \\hbar \\omega \\left( \\left(n+ \\frac{1}{2} \\right) - \\chi_e \\left(n+ \\frac{1}{2} \\right)^2 \\right) \\tag{3}\n",
    "\\end{equation}\n",
    "where\n",
    "\\begin{equation}\n",
    "\\omega = \\sqrt{\\frac{2D_e \\beta^2}{\\mu}} \\tag{4}\n",
    "\\end{equation}\n",
    "and\n",
    "\\begin{equation}\n",
    "\\chi_e = \\frac{\\hbar \\omega}{4 D_e}. \\tag{5}\n",
    "\\end{equation}\n",
    "\n",
    "The Morse potential can be approximated by a Taylor expansion as follows:\n",
    "\\begin{equation}\n",
    "V_T(r) = \\sum_{n=0}^{\\infty} \\frac{ f^{(n)}(r_{eq})}{n!} \\left(r-r_{eq} \\right)^n, \\tag{6}\n",
    "\\end{equation}\n",
    "where $f^{(n)}(r_{eq})$ is the $n^{th}$-order derivative of the Morse potential evaluated at the equilibrium bondlength, e.g. $f^{(1)}(r_{eq}) = \\frac{d}{dr}V_{Morse}(r_{eq}).$\n",
    "\n",
    "We will define the Harmonic approximation to the potential as\n",
    "\\begin{equation}\n",
    "V_H(r) =  \\frac{ f^{''}(r_{eq})}{2} \\left(r-r_{eq} \\right)^2 = \\frac{1}{2} k \\left(r-r_{eq} \\right)^2 \\tag{7}\n",
    "\\end{equation}\n",
    "the cubic approximation to the potential as\n",
    "\\begin{equation}\n",
    "V_C(r) =  V_H(r) + \\frac{ f^{'''}(r_{eq})}{6} \\left(r-r_{eq} \\right)^3 = V_H(r) + \\frac{1}{6} g \\left(r-r_{eq} \\right)^3,   \\tag{8}\n",
    "\\end{equation}\n",
    "and the quartic approximation as\n",
    "\\begin{equation}\n",
    "V_Q(r) =  V_C(r) + \\frac{ f^{''''}(r_{eq})}{24} \\left(r-r_{eq} \\right)^4 =  V_C(r) + \\frac{1}{24}h(r-r_{eq})^4.  \\tag{9}\n",
    "\\end{equation}\n",
    "\n",
    "Because we are using the Morse model as the \"exact\" interatomic potential in this notebook, we can compute these derivatives at $r_{eq}$ analytically:\n",
    "\\begin{align}\n",
    "k = 2 D_e \\beta^2 \\\\\n",
    "g = -6 D_e \\beta^3 \\tag{10} \\\\\n",
    "h = 14 D_e \\beta^4.\n",
    "\\end{align}\n",
    "However, in general we do not have an analytical form for the interatomic potential, so we must rely on numerical derivatives of the potential evaluated at the $r_{eq}$.  In the context of interatomic potentials computed by quantum chemistry methods (e.g. CCSD(T)), one must first identify the equilibrium geometry, and then compute derivatives by taking a number of single point calculations along all displacement coordinates to compute differences among.  We will write the explicit expression for the second derivative using centered finite differences along the one displacement coordinate relevant for our ${\\rm CO}$ molecule:\n",
    "\\begin{equation}\n",
    "k=\\frac{V_{Morse}(r_{eq}+\\Delta r)-2V_{Morse}(r_{eq})+V_{Morse}(r_{eq}-\\Delta r)}{\\Delta r^2}+\\mathcal O (\\Delta r^2) \\tag{11}\n",
    "\\end{equation}\n",
    "where $\\Delta r$ represents a small displacement along the coordinate $r$.  Higher-order derivatives can also be computed, but will require larger numbers of displacements and therefore more energy evaluations by your quantum chemistry method.  Expressions for higher-order derivatives along a single coordinate can be found by using this calculator [here](https://web.media.mit.edu/~crtaylor/calculator.html). Note that the number of displacement coordinates $N$ grows linearly with the number of atoms, and that the number of displacements required to form the $n^{{\\rm th}}$-order approximation to the potential grows as $N^n$.\n",
    "\n",
    "### Perturbation Theory\n",
    "We can compute the exact vibrational transition energies for the Morse oscillator and the Harmonic oscillator using Equation (3), where the Harmonic oscillator transition energies come from Equation (3) with $\\chi_e = 0$.  However, the transition energies when the potential is approximated as $V_C(r)$ or $V_Q(r)$ must be approximated.  We will illustrate the use of Perturbation Theory approximate these transition energies.  \n",
    "\n",
    "Here we will consider the Hamiltonian\n",
    "\\begin{equation}\n",
    "\\hat{H}_{vib} = -\\frac{\\hbar^2}{2\\mu} \\frac{d^2}{dr^2} + V_{H}(r) + V'(r) = \\hat{H}_0 + V'(r) \\tag{12},\n",
    "\\end{equation}\n",
    "where $\\hat{H}_0$ is exactly solved by the Harmonic oscillator energy eigenfunctions and eigenvalues ($\\psi^{(0)}_n(r)$, $E^{(0)}_n$), and $V'(r)$ is the perturbation which will take the form of either\n",
    "$V'(r) = \\frac{1}{6}g(r-r_{eq})^3$ or $V'(r) = \\frac{1}{6}g(r-r_{eq})^3 + \\frac{1}{24}h(r-r_{eq})^4$ in the cubic and quartic approximations, respectively.\n",
    "\n",
    "We can calculate the energy of state $n$ at 2nd order of perturbation theory as follows:\n",
    "\\begin{equation}\n",
    "E_n = E_n^{(0)} +  \\langle \\psi_n^{(0)} | V'(r) | \\psi_n^{(0)} \\rangle + \\sum_{k \\neq n} \\frac{|\\langle \\psi_k^{(0)} | V'(r) | \\psi_n^{(0)}|^2}{E_n^{(0)}-E_k^{(0)}}. \\tag{13}\n",
    "\\end{equation}\n",
    "\n",
    "Recall that for the zeroth-order functions have the form\n",
    "\\begin{align}\n",
    "\\psi_n^{(0)}(r) &= \\sqrt{\\frac{1}{2^n n!}} \\cdot \\left(\\frac{\\alpha}{\\pi} \\right)^{1/4} \\cdot H_n \\left(\\sqrt{\\alpha} r \\right) \\cdot {\\rm exp}\\left(\\frac{-\\alpha }{2} r^2 \\right) \\\\\n",
    "\\alpha &= \\frac{\\mu \\omega}{\\hbar} \\\\\n",
    "\\omega &= \\sqrt{\\frac{k}{\\mu}}\n",
    "\\end{align}\n",
    "\n",
    "### Approach\n",
    "We will compute the fundamental transition ($E_1 - E_0$) using the following approaches:\n",
    "1. Harmonic approximation: $E_1 - E_0 = \\hbar \\omega$\n",
    "2. Exact solution for Morse Hamiltonian: $E_1 - E_0 = \\hbar \\omega (1 - 2\\chi_e)$\n",
    "3. Evaluation of Eq. (13) for $n=0$ and $n=1$ utilizing the cubic contribution for $V'(r)$\n",
    "4. Evaluation of Eq. (13) for $n=0$ and $n=1$ utilizing the cubic and quartic contribution for $V'(r)$\n"
   ]
  },
  {
   "cell_type": "markdown",
   "id": "ed081f6f",
   "metadata": {
    "id": "ed081f6f"
   },
   "source": [
    "### Setting up Morse Oscillator Parameters\n",
    "The following block will establish the parameters for $\\hat{H}_{vib}$ with the Morse potential for the CO molecule."
   ]
  },
  {
   "cell_type": "code",
   "execution_count": 1,
   "id": "6703398e",
   "metadata": {
    "id": "6703398e"
   },
   "outputs": [],
   "source": [
    "# library imports for the entire notebook\n",
    "import numpy as np\n",
    "from matplotlib import pyplot as plt\n",
    "import numpy as np\n",
    "from numpy import trapz\n",
    "from scipy.special import hermite\n",
    "from math import factorial\n",
    "\n",
    "# dissociation energy in eV\n",
    "De_eV = 11.225\n",
    "\n",
    "# equilibrium bondlength in Angstroms\n",
    "r_eq_ang = 1.1283\n",
    "\n",
    "# reduced mass in amu\n",
    "mu_amu = 6.8606\n",
    "\n",
    "# potential curvature in inverse angstromgs\n",
    "beta_inv_ang = 2.5994"
   ]
  },
  {
   "cell_type": "markdown",
   "id": "a55e3cda",
   "metadata": {
    "id": "a55e3cda"
   },
   "source": [
    "### Unit conversion\n",
    "We will use atomic units for our calculations and convert to spectroscopic units later.  In the following block, we will store different conversion factors as variables for later use.  "
   ]
  },
  {
   "cell_type": "code",
   "execution_count": 2,
   "id": "225e5cbe",
   "metadata": {
    "id": "225e5cbe"
   },
   "outputs": [],
   "source": [
    "# atomic mass units to kg\n",
    "amu_to_kg = 1.66054e-27\n",
    "\n",
    "# angstroms to meters\n",
    "ang_to_m = 1e-10\n",
    "\n",
    "# electron volts to Jouls\n",
    "eV_to_J = 1.60218e-19\n",
    "\n",
    "# electron volts to atomic units of energy (Hartrees)\n",
    "eV_to_au = 1 / 27.211 #0.0367493\n",
    "\n",
    "# angstroms to atomic units of length (Bohr radii)\n",
    "au_to_ang = 0.52917721067121\n",
    "\n",
    "# atomic mass units to atomic units of mass\n",
    "amu_to_au = 1822.89"
   ]
  },
  {
   "cell_type": "markdown",
   "id": "0026139c",
   "metadata": {
    "id": "0026139c"
   },
   "source": [
    "The fllowing block will use the conversion factors above to store the Morse oscillator parameters in atomic units."
   ]
  },
  {
   "cell_type": "code",
   "execution_count": 3,
   "id": "9b0ee0fb",
   "metadata": {
    "id": "9b0ee0fb",
    "outputId": "219735c5-18f8-4061-a55e-143c74bb5496"
   },
   "outputs": [
    {
     "name": "stdout",
     "output_type": "stream",
     "text": [
      "2.132177987349192\n",
      "De_eV 11.225\n",
      "mu_amu 6.8606\n",
      "beta_inv_ang 2.5994\n",
      "r_eq_ang 1.1283\n",
      "De_au 0.4125169968027636\n",
      "mu_au 12506.119134\n",
      "beta_au 1.3755432414187434\n",
      "r_eq_au 2.132177987349192\n"
     ]
    }
   ],
   "source": [
    "\n",
    "# dissociation energy in au\n",
    "De_au = De_eV * eV_to_au\n",
    "\n",
    "# reduced mass in SI\n",
    "mu_au = mu_amu * amu_to_au\n",
    "\n",
    "# equilibrium bondlength in SI\n",
    "r_eq_au = r_eq_ang / au_to_ang\n",
    "print(r_eq_au)\n",
    "# beta in SI\n",
    "beta_au = beta_inv_ang * au_to_ang\n",
    "\n",
    "# hbar in SI\n",
    "hbar_au = 1\n",
    "\n",
    "# h in SI\n",
    "h_SI = np.pi * 2\n",
    "\n",
    "print(F\"De_eV {De_eV}\")\n",
    "print(F\"mu_amu {mu_amu}\")\n",
    "print(F\"beta_inv_ang {beta_inv_ang}\")\n",
    "print(F\"r_eq_ang {r_eq_ang}\")\n",
    "\n",
    "\n",
    "print(F\"De_au {De_au}\")\n",
    "print(F\"mu_au {mu_au}\")\n",
    "print(F\"beta_au {beta_au}\")\n",
    "print(F\"r_eq_au {r_eq_au}\")\n"
   ]
  },
  {
   "cell_type": "markdown",
   "id": "0177f861",
   "metadata": {
    "id": "0177f861"
   },
   "source": [
    "### Evaluating the Morse potential in atomic units\n",
    "Here we will create an numpy array of bondlength values between $0$ and $2.5 r_{eq}$"
   ]
  },
  {
   "cell_type": "code",
   "execution_count": 4,
   "id": "d32f9742",
   "metadata": {
    "id": "d32f9742",
    "outputId": "f367f636-4a98-4da6-90ca-a8ca0b7e6756"
   },
   "outputs": [
    {
     "data": {
      "text/plain": [
       "(0.0, 1.0)"
      ]
     },
     "execution_count": 4,
     "metadata": {},
     "output_type": "execute_result"
    },
    {
     "data": {
      "image/png": "[encoded data removed]",
      "text/plain": [
       "<Figure size 640x480 with 1 Axes>"
      ]
     },
     "metadata": {},
     "output_type": "display_data"
    }
   ],
   "source": [
    "def evaluate_Morse(r, De, beta, r_eq):\n",
    "    \"\"\" Helper function to evaluate the Morse potential at a given value of r\n",
    "\n",
    "    Arguments\n",
    "    ---------\n",
    "    r : float\n",
    "        value(s) of r to evaluate potential at\n",
    "\n",
    "    De : float\n",
    "        dissociation energy of the Morse oscillator\n",
    "\n",
    "    beta : float\n",
    "        related to the curvature of the Morse oscillator\n",
    "\n",
    "    r_eq : float\n",
    "        equilibrium bondlength of the Morse oscillator\n",
    "\n",
    "    Returns\n",
    "    -------\n",
    "    V_m : float\n",
    "        value of the Morse potential at value(s) of r\n",
    "\n",
    "    \"\"\"\n",
    "    V_Morse = De*(1-np.exp(-beta*(r-r_eq)))**2\n",
    "    return V_Morse\n",
    "\n",
    "\n",
    "# array of bondlength values\n",
    "r = np.linspace(0.2, 2.5 * r_eq_au, 500)\n",
    "\n",
    "# array of Morse potential values\n",
    "V_Morse = evaluate_Morse(r, De_au, beta_au, r_eq_au)\n",
    "\n",
    "plt.plot(r, V_Morse)\n",
    "plt.xlim(0.5*r_eq_au,2.5*r_eq_au)\n",
    "plt.ylim(0,1)"
   ]
  },
  {
   "cell_type": "code",
   "execution_count": 5,
   "id": "ed96a5bc-833c-4a89-8f78-06b571f809b2",
   "metadata": {},
   "outputs": [
    {
     "data": {
      "image/png": "[encoded data removed]",
      "text/plain": [
       "<Figure size 640x480 with 1 Axes>"
      ]
     },
     "metadata": {},
     "output_type": "display_data"
    }
   ],
   "source": [
    "import numpy as np\n",
    "import matplotlib.pyplot as plt\n",
    "\n",
    "r_values = np.linspace(0.2 * r_eq_au, 2.5 * r_eq_au, 500)\n",
    "V_values = evaluate_Morse(r_values, De_au, beta_au, r_eq_au)\n",
    "\n",
    "plt.plot(r_values, V_values, label=\"Morse Potential\")\n",
    "plt.axhline(0, color='gray', linestyle='--')\n",
    "plt.axhline(0.4127, color='red', linestyle='--', label=r\"$D_e$ (Dissociation Energy)\")\n",
    "plt.axvline(2.132, color='green', linestyle='--', label=r\"$r_{eq}$ (Equilibrium Bond Length)\")\n",
    "\n",
    "plt.xlabel(\"Bond Length (au)\")\n",
    "plt.ylabel(\"Potential Energy (au)\")\n",
    "plt.title(\"Morse Potential for CO Molecule\")\n",
    "plt.tight_layout()\n",
    "plt.legend()\n",
    "plt.ylim(-0.05, 0.45)\n",
    "plt.show()"
   ]
  },
  {
   "cell_type": "markdown",
   "id": "6893b3d7",
   "metadata": {
    "id": "6893b3d7"
   },
   "source": [
    "### Expanding the Morse potential as a Taylor series\n",
    "In the following block, we will compute the analytical $k$, $g$, and $h$ terms defined in Equation 10.  We will compare the value of $k$ computed analytically to the value computed numerically by Eq. (11), as well.\n",
    "\n",
    "Recall Equation (10) was:\n",
    "\\begin{align}\n",
    "k = 2 D_e \\beta^2 \\\\\n",
    "g = -6 D_e \\beta^3  \\\\\n",
    "h = 14 D_e \\beta^4.\n",
    "\\end{align}\n",
    "\n",
    "and (11) was:\n",
    "\n",
    "\\begin{equation}\n",
    "k=\\frac{V_{Morse}(r_{eq}+\\Delta r)-2V_{Morse}(r_{eq})+V_{Morse}(r_{eq}-\\Delta r)}{\\Delta r^2}+O (\\Delta r^2)\n",
    "\\end{equation}"
   ]
  },
  {
   "cell_type": "code",
   "execution_count": 6,
   "id": "f3b5756d",
   "metadata": {
    "id": "f3b5756d",
    "outputId": "245bd2b2-4cc9-4476-b52e-cba9e7ce71a6"
   },
   "outputs": [
    {
     "name": "stdout",
     "output_type": "stream",
     "text": [
      "1.5610705004791825 1.561062667389548\n",
      " The numerical and analytical values for k agree to within +/- 0.0001 atomic units.\n"
     ]
    }
   ],
   "source": [
    "# Insert analytical evaluation of k\n",
    "k = 2 * De_au * beta_au **2\n",
    "\n",
    "# Insert analytical evaluation of g\n",
    "g = -6 * De_au * beta_au **3\n",
    "\n",
    "# analytical evalution of h\n",
    "h = 14 * De_au * beta_au **4\n",
    "\n",
    "# numerical evaluation of k\n",
    "# small displacement along r\n",
    "delta_r = 0.001 * r_eq_au\n",
    "\n",
    "# value of Morse potential at forward displacement\n",
    "V_f = evaluate_Morse(r_eq_au + delta_r, De_au, beta_au, r_eq_au)\n",
    "\n",
    "# value of Morse potential at equilibrium\n",
    "V_eq = evaluate_Morse(r_eq_au, De_au, beta_au, r_eq_au)\n",
    "\n",
    "# value of Morse potential at backward displacement\n",
    "V_b = evaluate_Morse(r_eq_au - delta_r, De_au, beta_au, r_eq_au)\n",
    "\n",
    "# CFD scheme 2nd order approximation to k\n",
    "k_num = (V_f - 2 * V_eq + V_b) / (delta_r **2)\n",
    "\n",
    "# compare the numerical and analytic evaluation of k\n",
    "print(k_num, k)\n",
    "if np.isclose(k, k_num):\n",
    "    print(\" The numerical and analytical values for k agree to within +/- 0.0001 atomic units.\")\n"
   ]
  },
  {
   "cell_type": "markdown",
   "id": "83d28077",
   "metadata": {
    "id": "83d28077"
   },
   "source": [
    "Next we will evaluate the Harmonic, cubic, and quartic models for the interatomic potential and plot all against the Morse potential."
   ]
  },
  {
   "cell_type": "code",
   "execution_count": 7,
   "id": "1d82af2c",
   "metadata": {
    "id": "1d82af2c",
    "outputId": "965fb51b-e015-4063-f3b3-e547e8573219"
   },
   "outputs": [
    {
     "data": {
      "image/png": "[encoded data removed]",
      "text/plain": [
       "<Figure size 640x480 with 1 Axes>"
      ]
     },
     "metadata": {},
     "output_type": "display_data"
    }
   ],
   "source": [
    "# Harmonic potential\n",
    "V_H = 1/2 * k * (r -r_eq_au) ** 2\n",
    "\n",
    "# cubic\n",
    "V_C = V_H + 1/6 * g * (r - r_eq_au) ** 3\n",
    "\n",
    "# quartic\n",
    "V_Q = V_C + 1/24 * h * (r - r_eq_au) ** 4\n",
    "\n",
    "\n",
    "plt.plot(r, V_Morse, color='purple', label=\"Morse Potential\")\n",
    "plt.plot(r, V_H, 'r--', label=\"Harmonic Potential\")\n",
    "plt.plot(r, V_C, 'b--', label=\"Cubic Potential\")\n",
    "plt.plot(r, V_Q, 'g--', label=\"Quartic Potential\")\n",
    "\n",
    "# Mark equilibrium bond length (r_eq)\n",
    "plt.axvline(r_eq_au, color='green', linestyle='--', label=r'$r_{eq}$')\n",
    "\n",
    "# Mark dissociation energy (D_e)\n",
    "plt.axhline(De_au, color='red', linestyle='--', label=r'$D_e$')\n",
    "\n",
    "plt.xlim(0.5 * r_eq_au, 2.5 * r_eq_au)\n",
    "plt.ylim(0, 1)\n",
    "plt.xlabel(\"Bond Length (Bohr radii)\")\n",
    "plt.ylabel(\"Energy (Hartrees)\")\n",
    "plt.title(\"Comparison of Morse Potential and Taylor Expansions\")\n",
    "plt.legend()\n",
    "plt.show()\n"
   ]
  },
  {
   "cell_type": "markdown",
   "id": "77d0019a",
   "metadata": {
    "id": "77d0019a"
   },
   "source": [
    "### Compute $E_1$ and $E_2$ using Perturbation Theory\n",
    "We will need access to the zeroth-order states $\\psi_n^{(0)}(r)$ to compute the 1st and 2nd order energy corrections.\n",
    "The following helper functions will give us access to these states and will also perform the operations necessary to compute the perturbative corrections."
   ]
  },
  {
   "cell_type": "code",
   "execution_count": 8,
   "id": "0f435d79-3593-4559-866f-1c475313c2c0",
   "metadata": {},
   "outputs": [
    {
     "name": "stdout",
     "output_type": "stream",
     "text": [
      "Transition Energies (cm^-1):\n",
      "Transition                 Morse    Harmonic\n",
      "Fundamental (0->1):      2418.87     2452.07\n",
      "First overtone (0->2):      4804.53     4904.14\n",
      "First hot band (1->2):      2385.66     2452.07\n"
     ]
    }
   ],
   "source": [
    "# Conversion factor from Hartree to cm^-1\n",
    "hartree_to_cm = 219474.63\n",
    "\n",
    "# Compute omega and chi_e using the Morse parameters\n",
    "omega = np.sqrt(2 * De_au * beta_au**2 / mu_au)\n",
    "chi_e = (omega) / (4 * De_au)\n",
    "\n",
    "# Define functions to compute energy levels\n",
    "\n",
    "def E_morse(n):\n",
    "    \"\"\"Compute Morse oscillator energy level E_n (in atomic units)\"\"\"\n",
    "    return omega * (n + 0.5 - chi_e * (n + 0.5)**2)\n",
    "\n",
    "def E_harmonic(n):\n",
    "    \"\"\"Compute Harmonic oscillator energy level E_n (in atomic units)\"\"\"\n",
    "    return omega * (n + 0.5)\n",
    "\n",
    "# Compute energy levels for n=0,1,2\n",
    "E0_morse = E_morse(0)\n",
    "E1_morse = E_morse(1)\n",
    "E2_morse = E_morse(2)\n",
    "\n",
    "E0_harm = E_harmonic(0)\n",
    "E1_harm = E_harmonic(1)\n",
    "E2_harm = E_harmonic(2)\n",
    "\n",
    "# Calculate transition energies (in atomic units)\n",
    "\n",
    "# Fundamental transition: n=0 -> n=1\n",
    "fund_morse = E1_morse - E0_morse\n",
    "fund_harm = E1_harm - E0_harm\n",
    "\n",
    "# First overtone: n=0 -> n=2\n",
    "overtone_morse = E2_morse - E0_morse\n",
    "overtone_harm = E2_harm - E0_harm\n",
    "\n",
    "# First hot band: n=1 -> n=2\n",
    "hotband_morse = E2_morse - E1_morse\n",
    "hotband_harm = E2_harm - E1_harm\n",
    "\n",
    "# Convert transition energies to cm^-1\n",
    "fund_morse_cm = fund_morse * hartree_to_cm\n",
    "fund_harm_cm = fund_harm * hartree_to_cm\n",
    "\n",
    "overtone_morse_cm = overtone_morse * hartree_to_cm\n",
    "overtone_harm_cm = overtone_harm * hartree_to_cm\n",
    "\n",
    "hotband_morse_cm = hotband_morse * hartree_to_cm\n",
    "hotband_harm_cm = hotband_harm * hartree_to_cm\n",
    "\n",
    "# Print the results\n",
    "print(f\"Transition Energies (cm^-1):\")\n",
    "print(f\"{'Transition':<20}{'Morse':>12}{'Harmonic':>12}\")\n",
    "print(f\"Fundamental (0->1): {fund_morse_cm:12.2f}{fund_harm_cm:12.2f}\")\n",
    "print(f\"First overtone (0->2): {overtone_morse_cm:12.2f}{overtone_harm_cm:12.2f}\")\n",
    "print(f\"First hot band (1->2): {hotband_morse_cm:12.2f}{hotband_harm_cm:12.2f}\")\n"
   ]
  },
  {
   "cell_type": "code",
   "execution_count": 9,
   "id": "67da5a03",
   "metadata": {
    "id": "67da5a03"
   },
   "outputs": [
    {
     "name": "stderr",
     "output_type": "stream",
     "text": [
      "<>:2: SyntaxWarning: invalid escape sequence '\\s'\n",
      "<>:2: SyntaxWarning: invalid escape sequence '\\s'\n",
      "/var/folders/x2/ggtknn9s49s3dcq96ckcgfgh0000gn/T/ipykernel_16876/281799414.py:2: SyntaxWarning: invalid escape sequence '\\s'\n",
      "  \"\"\" Helper function to compute \\alpha = \\sqrt{mu * \\omega / \\hbar}\n"
     ]
    }
   ],
   "source": [
    "def compute_alpha(k, mu, hbar):\n",
    "    \"\"\" Helper function to compute \\alpha = \\sqrt{mu * \\omega / \\hbar}\n",
    "\n",
    "    Arguments\n",
    "    ---------\n",
    "    k : float\n",
    "        the Harmonic force constant\n",
    "\n",
    "    mu : float\n",
    "        the reduced mass\n",
    "\n",
    "    hbar : float\n",
    "        reduced planck's constant\n",
    "\n",
    "    Returns\n",
    "    -------\n",
    "    alpha : float\n",
    "        \\alpha = \\sqrt{k * \\omega / \\hbar}\n",
    "\n",
    "    \"\"\"\n",
    "    # compute omega\n",
    "    omega = np.sqrt(k/mu)\n",
    "\n",
    "    # compute alpha\n",
    "    alpha = mu * omega / hbar\n",
    "\n",
    "    # return alpha\n",
    "    return alpha\n",
    "\n",
    "def N(n, alpha):\n",
    "    \"\"\" Helper function to take the quantum number n of the Harmonic Oscillator and return the normalization constant\n",
    "\n",
    "    Arguments\n",
    "    ---------\n",
    "    n : int\n",
    "        the quantum state of the harmonic oscillator\n",
    "\n",
    "    Returns\n",
    "    -------\n",
    "    N_n : float\n",
    "        the normalization constant\n",
    "    \"\"\"\n",
    "\n",
    "    return  np.sqrt( 1 / (2 ** n * factorial(n)) ) * ( alpha / np.pi ) ** (1/4)\n",
    "\n",
    "def psi(n, alpha, r, r_eq):\n",
    "    \"\"\" Helper function to evaluate the Harmonic Oscillator energy eigenfunction for state n\n",
    "\n",
    "    Arguments\n",
    "    ---------\n",
    "    n : int\n",
    "        the quantum state of the harmonic oscillator\n",
    "\n",
    "    alpha : float\n",
    "        alpha value\n",
    "\n",
    "\n",
    "    r : float\n",
    "        position at which psi_n will be evaluated\n",
    "\n",
    "    r_eq : float\n",
    "        equilibrium bondlength\n",
    "\n",
    "    Returns\n",
    "    -------\n",
    "    psi_n : float\n",
    "        value of the harmonic oscillator energy eigenfunction\n",
    "\n",
    "    \"\"\"\n",
    "\n",
    "    Hr = hermite(n)\n",
    "\n",
    "    psi_n = N(n, alpha) * Hr( np.sqrt(alpha) * ( r - r_eq )) * np.exp( -0.5 * alpha  * (r - r_eq)**2)\n",
    "\n",
    "    return psi_n\n",
    "\n",
    "def harmonic_eigenvalue(n, k, mu, hbar):\n",
    "    \"\"\" Helper function to evaluate the energy eigenvalue of the harmonic oscillator for state n\"\"\"\n",
    "\n",
    "    return hbar * np.sqrt(k/mu) * (n + 1/2)\n",
    "\n",
    "def morse_eigenvalue(n, k, mu, De, hbar):\n",
    "    \"\"\" Helper function to evaluate the energy eigenvalue of the Morse oscillator for state n\"\"\"\n",
    "\n",
    "    omega = np.sqrt( k / mu )\n",
    "    xi = hbar * omega / (4 * De)\n",
    "\n",
    "    return hbar * omega * ( (n + 1/2) - xi * (n + 1/2) ** 2)\n",
    "\n",
    "def potential_matrix_element(n, m, alpha, r, r_eq, V_p):\n",
    "    \"\"\" Helper function to compute <n|V_p|m> where V_p is the perturbing potential\n",
    "\n",
    "    Arguments\n",
    "    ---------\n",
    "    n : int\n",
    "        quantum number of the bra state\n",
    "\n",
    "    m : int\n",
    "        quantum number of the ket state\n",
    "\n",
    "    alpha : float\n",
    "        alpha constant for bra/ket states\n",
    "\n",
    "    r : float\n",
    "        position grid for bra/ket states\n",
    "\n",
    "    r_eq : float\n",
    "        equilibrium bondlength for bra/ket states\n",
    "\n",
    "    V_p : float\n",
    "        potential array\n",
    "\n",
    "    Returns\n",
    "    -------\n",
    "    V_nm : float\n",
    "        <n | V_p | m >\n",
    "\n",
    "    \"\"\"\n",
    "    # bra\n",
    "    psi_n = psi(n, alpha, r, r_eq)\n",
    "\n",
    "    # ket\n",
    "    psi_m = psi(m, alpha, r, r_eq)\n",
    "\n",
    "    # integrand\n",
    "    integrand = np.conj(psi_n) * V_p * psi_m\n",
    "\n",
    "    # integrate\n",
    "    V_nm = np.trapz(integrand, r)\n",
    "\n",
    "    return V_nm"
   ]
  },
  {
   "cell_type": "markdown",
   "id": "3200b113",
   "metadata": {
    "id": "3200b113"
   },
   "source": [
    "# Test out the eigenfunctions\n",
    "Here we will plot $\\psi_0^{(0)}$ against the Harmonic potential and will also test to make sure it is properly normalized."
   ]
  },
  {
   "cell_type": "code",
   "execution_count": 10,
   "id": "3a6cf336",
   "metadata": {
    "id": "3a6cf336",
    "outputId": "9f62ad43-2bad-4fc1-c31c-cc4928d70e63"
   },
   "outputs": [
    {
     "name": "stdout",
     "output_type": "stream",
     "text": [
      "1.0\n"
     ]
    },
    {
     "name": "stderr",
     "output_type": "stream",
     "text": [
      "<>:14: SyntaxWarning: invalid escape sequence '\\p'\n",
      "<>:14: SyntaxWarning: invalid escape sequence '\\p'\n",
      "/var/folders/x2/ggtknn9s49s3dcq96ckcgfgh0000gn/T/ipykernel_16876/2633302150.py:14: SyntaxWarning: invalid escape sequence '\\p'\n",
      "  plt.plot(r, psi_0, label='$\\psi_0$')\n",
      "/var/folders/x2/ggtknn9s49s3dcq96ckcgfgh0000gn/T/ipykernel_16876/2633302150.py:8: DeprecationWarning: `trapz` is deprecated. Use `trapezoid` instead, or one of the numerical integration functions in `scipy.integrate`.\n",
      "  Integral = trapz(psi_0 ** 2, r)\n"
     ]
    },
    {
     "data": {
      "image/png": "[encoded data removed]",
      "text/plain": [
       "<Figure size 640x480 with 1 Axes>"
      ]
     },
     "metadata": {},
     "output_type": "display_data"
    }
   ],
   "source": [
    "# compute alpha\n",
    "alpha = compute_alpha(k, mu_au, hbar_au)\n",
    "\n",
    "# compute psi_0 along the r grid\n",
    "psi_0 =psi(0, alpha, r, r_eq_au)\n",
    "\n",
    "# is it normalized?\n",
    "Integral = trapz(psi_0 ** 2, r)\n",
    "\n",
    "assert np.isclose(Integral, 1.0)\n",
    "print(Integral)\n",
    "\n",
    "# Harmonic potential\n",
    "plt.plot(r, psi_0, label='$\\psi_0$')\n",
    "plt.plot(r, V_H, 'r--', label=\"Harmonic Potential\")\n",
    "plt.xlim(0, 2 * r_eq_au)\n",
    "plt.legend()\n",
    "plt.show()"
   ]
  },
  {
   "cell_type": "markdown",
   "id": "f48a7225",
   "metadata": {
    "id": "f48a7225"
   },
   "source": [
    "# Compute the fundamental transition energies\n",
    "Now we will compute the fundamental transition energies at all levels of theory and plot the results in both atomic units and in wavenumbers."
   ]
  },
  {
   "cell_type": "code",
   "execution_count": 11,
   "id": "979f7abd",
   "metadata": {
    "id": "979f7abd"
   },
   "outputs": [
    {
     "name": "stderr",
     "output_type": "stream",
     "text": [
      "/var/folders/x2/ggtknn9s49s3dcq96ckcgfgh0000gn/T/ipykernel_16876/281799414.py:129: DeprecationWarning: `trapz` is deprecated. Use `trapezoid` instead, or one of the numerical integration functions in `scipy.integrate`.\n",
      "  V_nm = np.trapz(integrand, r)\n"
     ]
    }
   ],
   "source": [
    "# fundamental transition energy at HO level\n",
    "fundamental_HO = harmonic_eigenvalue(1, k, mu_au, hbar_au) - harmonic_eigenvalue(0, k, mu_au, hbar_au)\n",
    "\n",
    "# fundamental transition energy at Morse level\n",
    "fundamental_Morse = morse_eigenvalue(1, k, mu_au, De_au, hbar_au) - morse_eigenvalue(0, k, mu_au, De_au, hbar_au)\n",
    "\n",
    "# 1st order correction using the cubic potential\n",
    "pt1_cubic = potential_matrix_element(0, 0, alpha, r, r_eq_au, (V_C - V_H))\n",
    "\n",
    "# 1st order correction using the quartic potential\n",
    "pt1_quartic = potential_matrix_element(0, 0, alpha, r, r_eq_au, (V_Q - V_H))\n",
    "\n",
    "# 2nd order corrections using cubic and quartic potentials\n",
    "pt2_cubic = 0\n",
    "pt2_quartic = 0\n",
    "\n",
    "# sum over |<j|V'|n>|^2/(Ej-En)\n",
    "for j in range(1, 50):\n",
    "    E_j = harmonic_eigenvalue(j, k, mu_au, hbar_au)\n",
    "    Vc_j0 = potential_matrix_element(j, 0, alpha, r, r_eq_au, (V_C - V_H))\n",
    "    pt2_cubic += Vc_j0 ** 2 / (fundamental_HO - E_j)\n",
    "    Vq_j0 = potential_matrix_element(j, 0, alpha, r, r_eq_au, (V_Q - V_H))\n",
    "    pt2_quartic += Vq_j0 ** 2 / (fundamental_HO - E_j)\n",
    "\n"
   ]
  },
  {
   "cell_type": "code",
   "execution_count": 12,
   "id": "869e407a",
   "metadata": {
    "id": "869e407a",
    "outputId": "a878b99e-07a2-4ec0-d02f-e61e23a24c5c"
   },
   "outputs": [
    {
     "data": {
      "image/png": "[encoded data removed]",
      "text/plain": [
       "<Figure size 640x480 with 1 Axes>"
      ]
     },
     "metadata": {},
     "output_type": "display_data"
    }
   ],
   "source": [
    "import matplotlib.pyplot as plt\n",
    "\n",
    "cubic_fo = fundamental_HO + pt1_cubic\n",
    "quartic_fo = fundamental_HO + pt1_quartic\n",
    "\n",
    "cubic_so = cubic_fo + pt2_cubic\n",
    "quartic_so = quartic_fo + pt2_quartic\n",
    "\n",
    "au_to_wn = 219474.63068\n",
    "\n",
    "morse_plot = np.array([fundamental_Morse * au_to_wn, 1.0])\n",
    "HO_plot = np.array([fundamental_HO * au_to_wn, 1.0])\n",
    "cubic_so_plot = np.array([cubic_so * au_to_wn, 1.0])\n",
    "quartic_so_plot = np.array([quartic_so * au_to_wn, 1.0])\n",
    "\n",
    "\n",
    "\n",
    "\n",
    "\n",
    "\n",
    "plt.stem(morse_plot[0], morse_plot[1], \"black\", label=\"Morse\")\n",
    "plt.stem(HO_plot[0], HO_plot[1], \"blue\", label=\"Harmonic\")\n",
    "plt.stem(cubic_so_plot[0], cubic_so_plot[1], \"red\", label=\"Cubic - PT2\")\n",
    "plt.stem(quartic_so_plot[0], quartic_so_plot[1], \"green\", label=\"Quartic - PT2\")\n",
    "plt.xlim(2400, 2500)\n",
    "plt.ylim(0, 1)\n",
    "plt.xlabel(\"Transition Energy (cm$^{-1}$)\")\n",
    "plt.legend()\n",
    "plt.show()\n"
   ]
  },
  {
   "cell_type": "markdown",
   "id": "2a9f7e3a",
   "metadata": {
    "id": "2a9f7e3a"
   },
   "source": [
    "Create and fit Morse potential in atomic units"
   ]
  },
  {
   "cell_type": "markdown",
   "id": "d94a598f",
   "metadata": {
    "id": "d94a598f"
   },
   "source": [
    "Now plot the potential and compute some eigenvalues"
   ]
  },
  {
   "cell_type": "code",
   "execution_count": 13,
   "id": "f1272941-1ba3-4aeb-93a6-6e072ae8dd58",
   "metadata": {
    "id": "f1272941-1ba3-4aeb-93a6-6e072ae8dd58",
    "outputId": "05fd04c5-b8e2-44f3-e0f8-f50f7a41152f"
   },
   "outputs": [
    {
     "ename": "ImportError",
     "evalue": "cannot import name 'core' from partially initialized module 'psi4' (most likely due to a circular import) (/Users/jfoley19/Code/psi4/objdir-Release/stage/lib/psi4/__init__.py)",
     "output_type": "error",
     "traceback": [
      "\u001b[31m---------------------------------------------------------------------------\u001b[39m",
      "\u001b[31mImportError\u001b[39m                               Traceback (most recent call last)",
      "\u001b[36mCell\u001b[39m\u001b[36m \u001b[39m\u001b[32mIn[13]\u001b[39m\u001b[32m, line 1\u001b[39m\n\u001b[32m----> \u001b[39m\u001b[32m1\u001b[39m \u001b[38;5;28;01mimport\u001b[39;00m\u001b[38;5;250m \u001b[39m\u001b[34;01mpsi4\u001b[39;00m\n\u001b[32m      2\u001b[39m mol_tmpl = \u001b[33m\"\"\"\u001b[39m\n\u001b[32m      3\u001b[39m \u001b[33mC\u001b[39m\n\u001b[32m      4\u001b[39m \u001b[33mO 1 **R**\u001b[39m\n\u001b[32m      5\u001b[39m \u001b[33msymmetry c2v\u001b[39m\n\u001b[32m      6\u001b[39m \u001b[33m\"\"\"\u001b[39m\n\u001b[32m      8\u001b[39m r_angstrom = np.array([\u001b[32m0.6\u001b[39m, \u001b[32m0.7\u001b[39m, \u001b[32m0.8\u001b[39m, \u001b[32m0.9\u001b[39m, \u001b[32m1.0\u001b[39m, \u001b[32m1.1\u001b[39m, \u001b[32m1.2\u001b[39m, \u001b[32m1.3\u001b[39m, \u001b[32m1.4\u001b[39m, \u001b[32m1.5\u001b[39m, \u001b[32m1.6\u001b[39m, \u001b[32m1.7\u001b[39m, \u001b[32m1.8\u001b[39m, \u001b[32m1.9\u001b[39m, \u001b[32m2.0\u001b[39m, \u001b[32m2.1\u001b[39m])\n",
      "\u001b[36mFile \u001b[39m\u001b[32m~/Code/psi4/objdir-Release/stage/lib/psi4/__init__.py:71\u001b[39m\n\u001b[32m     68\u001b[39m data_dir = \u001b[38;5;28mstr\u001b[39m(data_dir)\n\u001b[32m     70\u001b[39m \u001b[38;5;66;03m# Init core\u001b[39;00m\n\u001b[32m---> \u001b[39m\u001b[32m71\u001b[39m \u001b[38;5;28;01mfrom\u001b[39;00m\u001b[38;5;250m \u001b[39m\u001b[34;01m.\u001b[39;00m\u001b[38;5;250m \u001b[39m\u001b[38;5;28;01mimport\u001b[39;00m core\n\u001b[32m     73\u001b[39m \u001b[38;5;28;01mfrom\u001b[39;00m\u001b[38;5;250m \u001b[39m\u001b[34;01mpsi4\u001b[39;00m\u001b[34;01m.\u001b[39;00m\u001b[34;01mcore\u001b[39;00m\u001b[38;5;250m \u001b[39m\u001b[38;5;28;01mimport\u001b[39;00m get_num_threads, set_num_threads\n\u001b[32m     74\u001b[39m core.initialize()\n",
      "\u001b[31mImportError\u001b[39m: cannot import name 'core' from partially initialized module 'psi4' (most likely due to a circular import) (/Users/jfoley19/Code/psi4/objdir-Release/stage/lib/psi4/__init__.py)"
     ]
    }
   ],
   "source": [
    "import psi4\n",
    "mol_tmpl = \"\"\"\n",
    "C\n",
    "O 1 **R**\n",
    "symmetry c2v\n",
    "\"\"\"\n",
    "\n",
    "r_angstrom = np.array([0.6, 0.7, 0.8, 0.9, 1.0, 1.1, 1.2, 1.3, 1.4, 1.5, 1.6, 1.7, 1.8, 1.9, 2.0, 2.1])\n",
    "options_dict = {\n",
    "    \"basis\": \"cc-pVTZ\",\n",
    "    \"e_convergence\": 1e-10,\n",
    "    \"d_convergence\": 1e-10,\n",
    "}\n",
    "\n",
    "psi4.set_options(options_dict)\n",
    "#mol = psi4.geometry(mol_tmpl)\n",
    "\n",
    "#ccsdt_e = psi4.energy('ccsd')\n",
    "\n",
    "ccsdt_energy = []\n",
    "\n",
    "for r_val in r_angstrom:\n",
    "    mol_str = mol_tmpl.replace(\"**R**\", str(r_val))\n",
    "    mol = psi4.geometry(mol_str)\n",
    "    ccsdt_e = psi4.energy('ccsd')\n",
    "    ccsdt_energy.append(ccsdt_e)\n"
   ]
  },
  {
   "cell_type": "code",
   "execution_count": null,
   "id": "a8e9a1f5-6384-4f5c-845f-be313b06481d",
   "metadata": {
    "id": "a8e9a1f5-6384-4f5c-845f-be313b06481d",
    "outputId": "ba7ff8d7-b339-4b12-9770-a30d34cd1575"
   },
   "outputs": [],
   "source": [
    "V_min_ccsdt = np.min(ccsdt_energy)\n",
    "print(V_min_ccsdt)"
   ]
  },
  {
   "cell_type": "code",
   "execution_count": null,
   "id": "5194ba51-c1cd-46f6-b335-0c8f25a7b2b6",
   "metadata": {
    "id": "5194ba51-c1cd-46f6-b335-0c8f25a7b2b6",
    "outputId": "34f2755e-7015-402a-b1c8-b3676ff03795"
   },
   "outputs": [],
   "source": [
    "plt.plot(r, V_Morse, 'purple', label=\"Morse Potential\")\n",
    "plt.plot(r_angstrom / au_to_ang, ccsdt_energy-V_min_ccsdt, 'ro', label=\"CCSD(T)/cc-pVTZ\")\n",
    "#plt.plot(r, V_H, 'r--', label=\"Harmonic Potential\")\n",
    "#plt.plot(r, V_C, 'b--', label=\"Cubic Potential\")\n",
    "#plt.plot(r, V_Q, 'g--', label=\"Quartic Potential\")\n",
    "plt.xlim(0.5 * r_eq_au, 2.5 * r_eq_au)\n",
    "plt.ylim(0, 1)\n",
    "plt.xlabel(\"Bondlength (Bohr radii)\")\n",
    "plt.ylabel(\"Energy (Hartrees)\")\n",
    "plt.legend()\n",
    "plt.show()"
   ]
  },
  {
   "cell_type": "markdown",
   "id": "99615f64-7964-4cf3-a328-e024ffac5405",
   "metadata": {
    "id": "99615f64-7964-4cf3-a328-e024ffac5405"
   },
   "source": [
    "# Assignment\n",
    "1. Locate the equilibrium bondlength at the CCSD/cc-pVTZ level and report it in Angstroms and Bohr units.  Report the error and percentage error compared to the $R_{eq}$ used in the Morse potential.\n",
    "\n",
    "2. Utilize second-order schemes for [finite differences](https://www.mech.kth.se/~ardeshir/courses/literature/fd.pdf) to approximate $k$, $g$, and $h$ at the CCSD/cc-pVTZ level and report these in atomic units.  **Hint** Make sure your displacements are in atomic units!  Report the error and percentage error compared to these values that were derived from the Morse potential.\n",
    "\n",
    "3. Build a quartic potential model for CO using coefficients $k$, $g$, and $h$ derived from the previous step.  Plot the Harmonic, Cubic, Quartic components along with the raw CCSD/cc-pVTZ data and the original Morse potential.\n",
    "\n",
    "4. Compute the fundamental transition energy from CO using the quartic potential and 2nd-order perturbation theory.  Make a table that includes the fundamental computed using this approximation, the fundamental from the Morse model, and the experimental value for the CO fundamental.  Include a column for the percentage error of both approximations relative to the experimental value."
   ]
  },
  {
   "cell_type": "code",
   "execution_count": null,
   "id": "6cde92d3-9ca7-4149-b9bf-2480962ea804",
   "metadata": {
    "id": "6cde92d3-9ca7-4149-b9bf-2480962ea804",
    "outputId": "4332a98b-7b0d-40bf-a31a-8a0e3421ca56"
   },
   "outputs": [],
   "source": [
    "#1 To find the equilibrium bondlength, we could use a np.linspace function to isolate terms and find more points closer to min\n",
    "import numpy as np\n",
    "r_1 = 1.7\n",
    "r_3 = 2.45\n",
    "r_fine_ang = (np.linspace(r_1,r_3,10)) * au_to_ang\n",
    "print(r_fine_ang)\n",
    "\n",
    "mol_tmpl = \"\"\"\n",
    "C\n",
    "O 1 **R**\n",
    "symmetry c2v\n",
    "\"\"\"\n",
    "\n",
    "#r_angstrom = np.array([0.6, 0.7, 0.8, 0.9, 1.0, 1.1, 1.2, 1.3, 1.4, 1.5, 1.6, 1.7, 1.8, 1.9, 2.0, 2.1])\n",
    "options_dict = {\n",
    "    \"basis\": \"cc-pVTZ\",\n",
    "    \"e_convergence\": 1e-10,\n",
    "    \"d_convergence\": 1e-10,\n",
    "}\n",
    "\n",
    "psi4.set_options(options_dict)\n",
    "ccsdt_energy = []\n",
    "\n",
    "for r_val in r_fine_ang:\n",
    "    mol_str = mol_tmpl.replace(\"**R**\", str(r_val))\n",
    "    mol = psi4.geometry(mol_str)\n",
    "    ccsdt_e = psi4.energy('ccsd')\n",
    "    ccsdt_energy.append(ccsdt_e)"
   ]
  },
  {
   "cell_type": "code",
   "execution_count": null,
   "id": "7b31ba3e",
   "metadata": {
    "id": "7b31ba3e",
    "outputId": "8d84b7b7-499f-4069-e203-a81b4ddf091c"
   },
   "outputs": [],
   "source": [
    "V_min_ccsdt_1 = np.min(ccsdt_energy)\n",
    "print(V_min_ccsdt_1)"
   ]
  },
  {
   "cell_type": "code",
   "execution_count": null,
   "id": "9a2b1049",
   "metadata": {
    "id": "9a2b1049",
    "outputId": "8686883e-f942-4ad0-ce12-906716815927"
   },
   "outputs": [],
   "source": [
    "A = ccsdt_energy\n",
    "print(ccsdt_energy)\n",
    "B = np.argmin(ccsdt_energy)\n",
    "print(B)\n",
    "C = r_fine_ang\n",
    "print(C)\n",
    "r_eq_ang_1 = r_fine_ang[5]\n",
    "r_fine_au = r_fine_ang / au_to_ang\n",
    "print(r_fine_au)\n",
    "print(r_eq_ang_1)\n",
    "r_eq_au_1= r_eq_ang_1 / au_to_ang\n",
    "print(r_eq_au_1)\n",
    "Error_r_eq_au = (r_eq_au - r_eq_au_1) / r_eq_au\n",
    "print(Error_r_eq_au)\n",
    "Percent_Error = Error_r_eq_au * 100\n",
    "print(Percent_Error)"
   ]
  },
  {
   "cell_type": "code",
   "execution_count": null,
   "id": "c6d6e590",
   "metadata": {
    "id": "c6d6e590",
    "outputId": "3e01c4e8-8ab6-4144-a775-a0c791f2a7dd"
   },
   "outputs": [],
   "source": [
    "#Utilize second-order schemes for finite differences to approximate k,g,h at the CCSD/cc-pVTZ level and report these in atomic units.\n",
    "#Hint Make sure your displacements are in atomic units! Report the error and percentage error compared to these values that were derived from the Morse potential.\n",
    "\n",
    "#Insert analytical evaluation of k\n",
    "k = 2 * De_au * beta_au **2\n",
    "\n",
    "# Insert analytical evaluation of g\n",
    "g = -6 * De_au * beta_au **3\n",
    "\n",
    "# analytical evalution of h\n",
    "h = 14 * De_au * beta_au **4\n",
    "\n",
    "# numerical evaluation of k\n",
    "# small displacement along r\n",
    "delta_r_1 = 0.001 * r_eq_ang_1\n",
    "\n",
    "# value of First forward Displacement\n",
    "V_f1 = r_eq_ang_1 + 2*delta_r_1\n",
    "\n",
    "# value of forward displacement\n",
    "V_f = r_eq_ang_1 + delta_r_1\n",
    "\n",
    "# value at equilibrium\n",
    "V_eq = r_eq_ang_1\n",
    "\n",
    "# value of backward displacement\n",
    "V_b = r_eq_ang_1 - delta_r_1\n",
    "\n",
    "# value of last backward displacement\n",
    "V_b1 = r_eq_ang_1 - 2*delta_r_1\n",
    "\n",
    "import numpy as np\n",
    "#new_r_eq_ang_array\n",
    "R =np.array([V_f1, V_f, V_eq, V_b, V_b1])\n",
    "mol_tmpl = \"\"\"\n",
    "C\n",
    "O 1 **R**\n",
    "symmetry c2v\n",
    "\"\"\"\n",
    "\n",
    "#r_angstrom = np.array([0.6, 0.7, 0.8, 0.9, 1.0, 1.1, 1.2, 1.3, 1.4, 1.5, 1.6, 1.7, 1.8, 1.9, 2.0, 2.1])\n",
    "options_dict = {\n",
    "    \"basis\": \"cc-pVTZ\",\n",
    "    \"e_convergence\": 1e-10,\n",
    "    \"d_convergence\": 1e-10,\n",
    "}\n",
    "\n",
    "psi4.set_options(options_dict)\n",
    "ccsdt_energy = []\n",
    "\n",
    "for r_val in R:\n",
    "    mol_str = mol_tmpl.replace(\"**R**\", str(r_val))\n",
    "    mol = psi4.geometry(mol_str)\n",
    "    ccsdt_e = psi4.energy('ccsd')\n",
    "    ccsdt_energy.append(ccsdt_e)"
   ]
  },
  {
   "cell_type": "code",
   "execution_count": null,
   "id": "161d0b2a",
   "metadata": {
    "id": "161d0b2a",
    "outputId": "d518c465-0d2e-451b-e055-80a37c581eb8"
   },
   "outputs": [],
   "source": [
    "print(ccsdt_energy)\n",
    "delta_r_1_au = delta_r_1 / au_to_ang\n",
    "#Building the k,g,h functions from finite differences\n",
    "k_num_1 = (ccsdt_energy[1] - 2 * ccsdt_energy[2] + ccsdt_energy[3]) / (delta_r_1_au **2)\n",
    "print(k, k_num_1)\n",
    "prob_k = (k_num_1 - k) / k\n",
    "percent_prob_k = prob_k * 100\n",
    "print(prob_k, percent_prob_k)\n",
    "\n",
    "g_num_1 = (ccsdt_energy[0] - 2 * ccsdt_energy[1] + 2 * ccsdt_energy[3] - ccsdt_energy[4]) / (2 * (delta_r_1_au)**3)\n",
    "prob_g = (g_num_1 - g) / g\n",
    "percent_prob_g = prob_g * 100\n",
    "print(prob_g, percent_prob_g)\n",
    "\n",
    "h_num_1 = (ccsdt_energy[0] - 4 * ccsdt_energy[1] + 6 * ccsdt_energy[2] - 4 * ccsdt_energy[3] + ccsdt_energy[4]) / (delta_r_1_au)**4\n",
    "prob_h = (h_num_1 - h) / h\n",
    "percent_prob_h = prob_h * 100\n",
    "print(prob_h, percent_prob_h)\n"
   ]
  },
  {
   "cell_type": "code",
   "execution_count": null,
   "id": "6a768367",
   "metadata": {
    "id": "6a768367",
    "outputId": "9499705a-c144-4164-963f-18662e36c660"
   },
   "outputs": [],
   "source": [
    "#Build a quartic potential model for CO using coefficients k,g,h derived from the previous step.\n",
    "#Plot the Harmonic, Cubic, Quartic components along with the raw CCSD/cc-pVTZ data and the original Morse potential.\n",
    "from matplotlib import pyplot as plt\n",
    "# Harmonic potential\n",
    "V_H = 1/2 * k_num_1 * (r -r_eq_au_1) ** 2\n",
    "\n",
    "# cubic\n",
    "V_C = V_H + 1/6 * g_num_1 * (r - r_eq_au_1) ** 3\n",
    "\n",
    "# quartic\n",
    "V_Q = V_C + 1/24 * h_num_1 * (r - r_eq_au_1) ** 4\n",
    "\n",
    "plt.plot(r, V_Morse, 'purple', label=\"Morse Potential\")\n",
    "plt.plot(r, V_H, 'r--', label=\"Harmonic Potential\")\n",
    "plt.plot(r, V_C, 'b--', label=\"Cubic Potential\")\n",
    "plt.plot(r, V_Q, 'g--', label=\"Quartic Potential\")\n",
    "plt.xlim(0.5 * r_eq_au_1, 2.5 * r_eq_au_1)\n",
    "plt.ylim(0, 1)\n",
    "plt.xlabel(\"Bondlength (Bohr radii)\")\n",
    "plt.ylabel(\"Energy (Hartrees)\")\n",
    "plt.legend()\n",
    "plt.show()\n",
    "\n"
   ]
  },
  {
   "cell_type": "code",
   "execution_count": null,
   "id": "2389de76",
   "metadata": {
    "id": "2389de76",
    "outputId": "10798cf4-b36b-404d-a34a-70be76ed04fa"
   },
   "outputs": [],
   "source": [
    "#Compute the fundamental transition energy from CO using the quartic potential and 2nd-order perturbation theory.\n",
    "#Make a table that includes the fundamental computed using this approximation, the fundamental from the Morse model, and the experimental value for the CO fundamental.\n",
    "#Include a column for the percentage error of both approximations relative to the experimental value.\n",
    "au_to_wn = 219474.63068\n",
    "\n",
    "# fundamental transition energy at HO level\n",
    "fundamental_HO = harmonic_eigenvalue(1, k_num_1, mu_au, hbar_au) - harmonic_eigenvalue(0, k_num_1, mu_au, hbar_au)\n",
    "V_approx_H = print(fundamental_HO * au_to_wn)\n",
    "\n",
    "# fundamental transition energy at Morse level\n",
    "fundamental_Morse = morse_eigenvalue(1, k_num_1, mu_au, De_au, hbar_au) - morse_eigenvalue(0, k_num_1, mu_au, De_au, hbar_au)\n",
    "V_approx_M = print(fundamental_Morse * au_to_wn)\n",
    "\n",
    "# 1st order correction using the cubic potential\n",
    "pt1_cubic = potential_matrix_element(0, 0, alpha, r, r_eq_au_1, (V_C - V_H))\n",
    "print(pt1_cubic * au_to_wn)\n",
    "\n",
    "# 1st order correction using the quartic potential\n",
    "pt1_quartic = potential_matrix_element(0, 0, alpha, r, r_eq_au_1, (V_Q - V_H))\n",
    "print(pt1_quartic * au_to_wn)\n",
    "\n",
    "# 2nd order corrections using cubic and quartic potentials\n",
    "pt2_cubic = 0\n",
    "pt2_quartic = 0\n",
    "\n",
    "# sum over |<j|V'|n>|^2/(Ej-En)\n",
    "for j in range(1, 50):\n",
    "    E_j = harmonic_eigenvalue(j, k, mu_au, hbar_au)\n",
    "    Vc_j0 = potential_matrix_element(j, 0, alpha, r, r_eq_au_1, (V_C - V_H))\n",
    "    pt2_cubic += Vc_j0 ** 2 / (fundamental_HO - E_j)\n",
    "    Vq_j0 = potential_matrix_element(j, 0, alpha, r, r_eq_au_1, (V_Q - V_H))\n",
    "    pt2_quartic += Vq_j0 ** 2 / (fundamental_HO - E_j)\n",
    "\n",
    "import matplotlib.pyplot as plt\n",
    "\n",
    "cubic_fo = fundamental_HO + pt1_cubic\n",
    "quartic_fo = fundamental_HO + pt1_quartic\n",
    "print(cubic_fo * au_to_wn)\n",
    "print(quartic_fo * au_to_wn)\n",
    "\n",
    "\n",
    "cubic_so = cubic_fo + pt2_cubic\n",
    "quartic_so = quartic_fo + pt2_quartic\n",
    "print(cubic_so * au_to_wn)\n",
    "print(quartic_so * au_to_wn)\n",
    "\n",
    "au_to_wn = 219474.63068\n",
    "\n",
    "morse_plot = np.array([fundamental_Morse * au_to_wn, 1.0])\n",
    "HO_plot = np.array([fundamental_HO * au_to_wn, 1.0])\n",
    "cubic_so_plot = np.array([cubic_so * au_to_wn, 1.0])\n",
    "quartic_so_plot = np.array([quartic_so * au_to_wn, 1.0])\n",
    "\n",
    "\n",
    "\n",
    "\n",
    "\n",
    "\n",
    "plt.stem(morse_plot[0], morse_plot[1], \"black\", label=\"Morse\")\n",
    "plt.stem(HO_plot[0], HO_plot[1], \"blue\", label=\"Harmonic\")\n",
    "plt.stem(cubic_so_plot[0], cubic_so_plot[1], \"red\", label=\"Cubic - PT2\")\n",
    "plt.stem(quartic_so_plot[0], quartic_so_plot[1], \"green\", label=\"Quartic - PT2\")\n",
    "plt.xlim(2200, 2300)\n",
    "plt.ylim(0, 1)\n",
    "plt.xlabel(\"Transition Energy (cm$^{-1}$)\")\n",
    "plt.legend()\n",
    "plt.show()\n",
    "\n",
    "\n",
    "\n"
   ]
  },
  {
   "cell_type": "code",
   "execution_count": null,
   "id": "6477d706",
   "metadata": {
    "id": "6477d706",
    "outputId": "8c6914a3-69f2-4f5d-9d5f-2558ef581c84"
   },
   "outputs": [],
   "source": [
    "#experimental value and error\n",
    "V_ex = 2143.23\n",
    "Error_Vex_Vquart = ((quartic_so * au_to_wn) - V_ex) / V_ex\n",
    "Percent_Error_Vex_Vquart = Error_Vex_Vquart *100\n",
    "print(Error_Vex_Vquart, Percent_Error_Vex_Vquart)"
   ]
  },
  {
   "cell_type": "code",
   "execution_count": null,
   "id": "f4db71ae",
   "metadata": {
    "id": "f4db71ae"
   },
   "outputs": [],
   "source": []
  }
 ],
 "metadata": {
  "colab": {
   "provenance": []
  },
  "kernelspec": {
   "display_name": "Python 3 (ipykernel)",
   "language": "python",
   "name": "python3"
  },
  "language_info": {
   "codemirror_mode": {
    "name": "ipython",
    "version": 3
   },
   "file_extension": ".py",
   "mimetype": "text/x-python",
   "name": "python",
   "nbconvert_exporter": "python",
   "pygments_lexer": "ipython3",
   "version": "3.12.10"
  }
 },
 "nbformat": 4,
 "nbformat_minor": 5
}