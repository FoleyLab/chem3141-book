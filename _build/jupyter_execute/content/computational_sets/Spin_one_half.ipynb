{
 "cells": [
  {
   "cell_type": "markdown",
   "id": "d849ac90",
   "metadata": {
    "id": "d849ac90"
   },
   "source": [
    "# Computational Set 1: Introduction to Spin 1/2\n",
    "[Jay Foley, University of North Carolina Charlotte](https://foleylab.github.io/)\n",
    "\n",
    "#### Learning Outcomes\n",
    "By the end of this workbook, students should be able to\n",
    "- Identify the eigenstates of z-spin\n",
    "- Use the eigenstates of z-spin as a basis for computing expectation values of x-spin and y-spin \n",
    "- Explain the concept of matrix representations of operators\n",
    "- Utilize NumPy to build matrix representations of operators\n",
    "- Utilize NumPy to identify eigenstates of x-spin and y-spin\n",
    "- Utilize NumPy to confirm the commutation relations for the matrix representations of operators\n",
    "- Use the Design Recipe to compose functions\n",
    "\n",
    "\n",
    "#### Summary\n",
    "We will use Python and NumPy to illustrate basic formalism of spin 1/2 in quantum mechanics.  We assume familiarity with this formalism; for background on this topic, we recommend you read [more on spin](note05-spin-info).  \n",
    "\n",
    "Spin angular momentum is an observable in quantum mechanics and has\n",
    "associated operators with eigenstates.  Traditionally, the components of angular momentum are represented along the $x$, $y$, and $z$ axes, and we have \n",
    "Hermitian operators associated with each component ($\\hat{S}_x, \\hat{S}_y, \\hat{S}_z$), along with the square magnitude $\\hat{S}^2$.  For particles like electrons, protons, and neutrons, these component operators \n",
    "all have exactly two eigenstates with eigenvalues $\\pm \\frac{1}{2}\\hbar$; hence we talk about the formalism of spin for these systems as the formalism of spin 1/2.\n",
    "In this workbook, we will introduce matrix representations of each of these component operators, and the eigenstates will then have vector representations.  We will specifically introduce the eigenvectors of the matrix associated with $\\hat{S}_z$ as the basis vectors for any state of spin 1/2.  We will then be able to write the matrices associated with \n",
    "$\\hat{S}_x$ and $\\hat{S}_y$ in this basis, and perform useful computations with them, including finding their eigenstates and verifying so-called commutation relations between these operators."
   ]
  },
  {
   "cell_type": "markdown",
   "id": "9b6a9845",
   "metadata": {
    "id": "9b6a9845"
   },
   "source": [
    "# Import statements\n",
    "Python has intrinsic functionality as a programming language, but there are also many special-purpose libraries that are helpful.  Here we will use the library `numpy` for numerical computing."
   ]
  },
  {
   "cell_type": "code",
   "execution_count": 1,
   "id": "21528317",
   "metadata": {
    "id": "21528317"
   },
   "outputs": [],
   "source": [
    "import numpy as np\n",
    "from numpy import linalg as la"
   ]
  },
  {
   "cell_type": "markdown",
   "id": "mgSXTlJpxehq",
   "metadata": {
    "id": "mgSXTlJpxehq"
   },
   "source": [
    "# Functions\n",
    "In Python, functions are reusable blocks of code designed to perform specific tasks. They help organize code, making it more modular and easier to maintain. A function is defined using the `def` keyword, followed by a name, parentheses `()`, and a colon `:`. Inside the function, you can include any number of statements that define what the function does. Functions can take inputs, called parameters, and can return a value after processing. By calling a function by its name, you can execute the code within it whenever needed, making your programs more efficient and easier to understand.\n",
    "\n",
    "Here's an example function that multipies an input number by 3:\n",
    "\n",
    "```\n",
    "def multiply_by_three(x):\n",
    "    \"\"\"\n",
    "    Multiplies the input by three.\n",
    "    \n",
    "    Arguments\n",
    "    ---------\n",
    "    x: A number to be multiplied by three.\n",
    "    \n",
    "    Returns\n",
    "    -------\n",
    "    result: The input multiplied by three.\n",
    "    \n",
    "    Example:\n",
    "    multiply_by_three(5) == 15\n",
    "    \"\"\"\n",
    "    result = 3 * x\n",
    "    return result\n",
    "```\n",
    "\n",
    "**Important** Your function must be indented relative to the `def` statement.\n",
    "\n",
    "We will use a practice called [Design Recipe](https://www.cs.toronto.edu/~ahchinaei/teaching/20165/csc148/function_design_recipe.pdf) to design our functions.  \n",
    "The Design Recipe can be implemented in the following steps:\n",
    "\n",
    "1. **Header:** Define the function's name, input parameters, and their data types. Specify the data type of the return value.\n",
    "2. **Purpose:** Write a concise one-line description explaining the function's purpose.\n",
    "3. **Examples:** Provide examples of how to call the function with different inputs and the expected outputs. These examples will be used to test the function.\n",
    "4. **Body:** Write the actual code that implements the function's logic, based on the header, purpose, and examples.\n",
    "5. **Test** Test your function aon all your example cases; try to identify additional tricky cases.\n",
    "6. **Debug/Iterate** If your tests fail, re-read your code, check your logic, check your syntax, and fix any mistakes that you catch.  If you cannot catch mistakes, think about additional test cases that can help reveal flaws in your logic.  Continue until your function passes tests.\n",
    "\n",
    "We will illustrate this process by examining a function that will print a message some specified number of times, and also return the repeated message.  We want the repeated message to be printed all on a single line, and we do not want any spaces between the sub-messages.\n",
    "\n",
    "Let's go through this step-by-step:\n",
    "\n",
    "1. **Header** Doest the function name make sense?  Are the input parameters adequate for what we will need to pass to the function?  Is the return statement adequate for what we want the function to return?\n",
    "\n",
    "2. **Purpose** Does the purpose string adequatly capture the functions behavior?\n",
    "\n",
    "3. **Examples** One example is given; add a second example!\n",
    "\n",
    "4. **Body** Read the body of the function and track what is happening in each line.\n",
    "\n",
    "5. **Test** Test your code against your two examples!\n",
    "\n",
    "6. **Debug/Iterate** Did your tests pass?  If yes, great!  If not, you know what to do!"
   ]
  },
  {
   "cell_type": "code",
   "execution_count": 2,
   "id": "HluGlUv1ddtW",
   "metadata": {
    "colab": {
     "base_uri": "https://localhost:8080/"
    },
    "id": "HluGlUv1ddtW",
    "outputId": "1a2bfae1-f690-4678-b460-fdf2683bf5a9"
   },
   "outputs": [
    {
     "name": "stdout",
     "output_type": "stream",
     "text": [
      "HelloHelloHello\n",
      "byebye\n",
      "PChem\n"
     ]
    }
   ],
   "source": [
    "def print_message_multiple_times(message, times):\n",
    "    \"\"\"\n",
    "    Prints a given string a specified number of times and returns the concatenated result.\n",
    "\n",
    "    Arguments\n",
    "    ---------\n",
    "        message : the message you want to print\n",
    "\n",
    "        times   : The number of times the message should be repeated.\n",
    "\n",
    "    Returns:\n",
    "        repeated_message : The concatenated message repeated 'times' times.\n",
    "\n",
    "    Example:\n",
    "        print_message_multiple_times(\"Hello\", 3)\n",
    "        Output:\n",
    "        HelloHelloHello\n",
    "    \"\"\"\n",
    "    # Concatenate the message 'times' times\n",
    "    repeated_message = message * times\n",
    "\n",
    "    # print the repeated message\n",
    "    print(repeated_message)\n",
    "\n",
    "    # return it\n",
    "    return repeated_message\n",
    "\n",
    "# test against first example\n",
    "assert print_message_multiple_times(\"Hello\", 3) == \"HelloHelloHello\"\n",
    "\n",
    "assert print_message_multiple_times(\"bye\", 2) == \"byebye\"\n",
    "\n",
    "assert print_message_multiple_times(\"PChem\", 1) == \"PChem\""
   ]
  },
  {
   "cell_type": "markdown",
   "id": "9RMD24j-oJQs",
   "metadata": {
    "id": "9RMD24j-oJQs"
   },
   "source": [
    "We used an [assert](https://www.programiz.com/python-programming/assert-statement) statement to test our functions execution.  Simply put, if an assert statement is followed by something that is True, nothing happens, but if it is followed by something that is False, it gives an error.  Assert statements are used widely in testing, where you set up a test to give a False if the test fails and a True if it passes.  This way when the assert meets a passing tests, the program moves on smoothly, and if it meets a failing test, it stops immediately.\n",
    "\n",
    "**What statement evaluated to True in our first test?**\n",
    "\n",
    "**Some Questions**. Think back to our function `print_repeated_message(message, times)`.  \n",
    "\n",
    "- What type of variable was `message`?\n",
    "- What type of variable was `times`?\n",
    "- What would happen if we only included the `print(repeated_message)` statement and not the `return` statement?\n",
    "- What would happen if we only included the `return repeated_message` statment and not the `print` statement?\n"
   ]
  },
  {
   "cell_type": "markdown",
   "id": "c8f39e10",
   "metadata": {
    "id": "c8f39e10"
   },
   "source": [
    "## Numpy matrices: Spinors and spin matrices\n",
    "Numpy matrices are special types of variables that can make use of different mathematical operation in the numpy library.  We will see that a lot of linear algebra operations can be performed with numpy matrices using very simple syntax.  Numpy matrices are always 2-dimensional (unlike numpy arrays which can have arbitrary dimension),\n",
    "we will use 2-dimensional numpy matrices with\n",
    "a single column and multiple rows to denote a column vector as a representation of a ket.  We can take the Hermitian conjugate of our kets to get bras, which are represented as row vectors.\n",
    "\n",
    "Here we will introduce the vector representation of special spin states (spinors) that have precise value of z-spin, that is, they are the eigenstates of the $\\hat{S}_z$ operator:\n",
    "\n",
    "\\begin{equation}\n",
    "|\\alpha \\rangle=\n",
    "\\begin{bmatrix}\n",
    "  1 \\\\\n",
    "  0 \\\\\n",
    "\\end{bmatrix}\n",
    "\\end{equation}\n",
    "\n",
    "\n",
    "\\begin{equation}\n",
    "|\\beta \\rangle =\n",
    "\\begin{bmatrix}\n",
    "  0 \\\\\n",
    "  1 \\\\\n",
    "\\end{bmatrix}\n",
    "\\end{equation}\n",
    "\n",
    "We refer to these column vector representations of states as kets.\n",
    "\n",
    "$|\\alpha\\rangle$ can be formed using the following syntax:\n",
    "`ket_alpha = np.array([[1], [0]])`\n",
    "\n",
    "\n",
    "We can get the number of rows and number of columns (the shape) of this vector using `np.shape(ket_alpha)`."
   ]
  },
  {
   "cell_type": "code",
   "execution_count": 3,
   "id": "a36ab6a7",
   "metadata": {
    "colab": {
     "base_uri": "https://localhost:8080/"
    },
    "id": "a36ab6a7",
    "outputId": "b58e7822-8a98-4949-c7f7-9a7b3f886f94"
   },
   "outputs": [
    {
     "name": "stdout",
     "output_type": "stream",
     "text": [
      "|alpha>\n",
      "Ellipsis\n"
     ]
    },
    {
     "ename": "AttributeError",
     "evalue": "'ellipsis' object has no attribute 'shape'",
     "output_type": "error",
     "traceback": [
      "\u001b[31m---------------------------------------------------------------------------\u001b[39m",
      "\u001b[31mAttributeError\u001b[39m                            Traceback (most recent call last)",
      "\u001b[36mCell\u001b[39m\u001b[36m \u001b[39m\u001b[32mIn[3]\u001b[39m\u001b[32m, line 11\u001b[39m\n\u001b[32m      9\u001b[39m \u001b[38;5;28mprint\u001b[39m(\u001b[33m\"\u001b[39m\u001b[33m|alpha>\u001b[39m\u001b[33m\"\u001b[39m)\n\u001b[32m     10\u001b[39m \u001b[38;5;28mprint\u001b[39m(ket_alpha)\n\u001b[32m---> \u001b[39m\u001b[32m11\u001b[39m \u001b[38;5;28mprint\u001b[39m(\u001b[43mket_alpha\u001b[49m\u001b[43m.\u001b[49m\u001b[43mshape\u001b[49m)\n\u001b[32m     13\u001b[39m \u001b[38;5;28mprint\u001b[39m(\u001b[33m\"\u001b[39m\u001b[33m|beta>\u001b[39m\u001b[33m\"\u001b[39m)\n\u001b[32m     14\u001b[39m \u001b[38;5;28mprint\u001b[39m(ket_beta)\n",
      "\u001b[31mAttributeError\u001b[39m: 'ellipsis' object has no attribute 'shape'"
     ]
    }
   ],
   "source": [
    "# TODO: Assign ket_alpha as a column vector using np.array\n",
    "# Example: np.array([[...], [...]])\n",
    "ket_alpha = ...\n",
    "\n",
    "# TODO: Assign ket_beta as a column vector using np.array\n",
    "ket_beta = ...\n",
    "\n",
    "# Print both kets (already provided for you)\n",
    "print(\"|alpha>\")\n",
    "print(ket_alpha)\n",
    "print(ket_alpha.shape)\n",
    "\n",
    "print(\"|beta>\")\n",
    "print(ket_beta)"
   ]
  },
  {
   "cell_type": "markdown",
   "id": "8f75c4f8",
   "metadata": {
    "id": "8f75c4f8"
   },
   "source": [
    "We can form the bras corresponding to these kets by taking the complex conjugate and transpose of the column vectors we have just formed.  The result will be row vectors, keeping the correspondence to the \"bra\" - \"ket\" convention.\n",
    "\n",
    "$$ \\langle \\alpha | = |\\alpha \\rangle ^{\\dagger} = [1^* \\: 0^*] $$\n",
    "\n",
    "$$ \\langle \\beta| = |\\beta \\rangle ^{\\dagger} = [0^* \\: 1^*]$$\n",
    "\n",
    "This operation can be computed using the following syntax:\n",
    "`bra_alpha = ket_alpha.conj().T`\n",
    "\n",
    "You can compute the shape of the bras in the same way as you used for the kets; take note of how the shape changes."
   ]
  },
  {
   "cell_type": "code",
   "execution_count": null,
   "id": "05a0f223",
   "metadata": {
    "colab": {
     "base_uri": "https://localhost:8080/"
    },
    "id": "05a0f223",
    "outputId": "f95115c6-addc-449c-ab4d-dbbd5593c188"
   },
   "outputs": [],
   "source": [
    "# TODO: Assign bra_alpha as the Hermitian (conjugate transpose) of ket_alpha\n",
    "bra_alpha = ...\n",
    "\n",
    "# TODO: Assign bra_beta as the Hermitian (conjugate transpose) of ket_beta\n",
    "bra_beta = ...\n",
    "\n",
    "# Print both bras (already provided for you)\n",
    "print(\"<alpha|\")\n",
    "print(bra_alpha)\n",
    "\n",
    "print(\"<beta|\")\n",
    "print(bra_beta)\n"
   ]
  },
  {
   "cell_type": "markdown",
   "id": "510d294e",
   "metadata": {
    "id": "510d294e"
   },
   "source": [
    "## Computing the bra-ket\n",
    "We can view the bra-ket (also called the inner product between the bra and the ket) as a test of how much the state in the bra projects on to the state in the ket.  The answer can be anywhere between 0 (the states do not project onto each other at all, they are orthogonal states, they do not overlap at all) to 1 (these states perfectly project onto one another, they have perfect overlap, they are identical states).  We know (or will soon learn) that the spin states are orthonormal states: they have perfect overlap with themselves and zero overlap with each other.  This is codified with the following mathematical statements\n",
    "\n",
    "$$\\langle \\chi_n | \\chi_m\\rangle = \\delta_{nm} $$\n",
    "\n",
    "where where have used the Kronecker delta function $\\delta_{nm} = 0$ if $n\\neq m$ and $\\delta_{nm} = 1$ if $n=m$ and\n",
    "we are using $\\chi_n$ and $\\chi_m$ to represent arbitrary spin states.\n",
    "\n",
    "With their vector representations, we can compute the bra-ket using the dot product as follows:\n",
    "`bra_ket_aa = np.dot(bra_alpha , ket_alpha)`\n",
    "\n",
    "### 🚧 Your Task\n",
    "\n",
    "Complete the function `compute_bra_ket` so that it returns the inner product of a given bra and ket.\n",
    "\n",
    "- Remember: the bra is a row vector and the ket is a column vector.\n",
    "- Use the `@` operator to compute the product.\n",
    "- Add two more examples to the docstring to test your understanding!\n",
    "\n",
    "Think through the steps of the Design Recipe again.  Steps 1 and 2 are totally complete, but think through them anyway.  Step 3 is partially complete, and you must complete Steps 4 and 5 on your own.  \n",
    "\n",
    "1. **Header** What should we name the function?  What input parameters should the function accept?  What should their data types be?  What will the function return?  What data type will it be?\n",
    "\n",
    "2. **Purpose** What is a single sentence that describes the purpose of the function?\n",
    "\n",
    "3. **Examples** Come up with 2 examples where different messages are printed different numbers of times.\n",
    "\n",
    "4. **Body** Now attempt to write the body of your function.  \n",
    "\n",
    "5. **Test** Test your code against your examples.\n",
    "\n",
    "6. **Debug/Iterate** Did your tests pass?  If yes, great!  If not, you know what to do!"
   ]
  },
  {
   "cell_type": "code",
   "execution_count": null,
   "id": "TthbeidtHJ0H",
   "metadata": {
    "id": "TthbeidtHJ0H"
   },
   "outputs": [],
   "source": [
    "def compute_bra_ket(my_bra, my_ket):\n",
    "    \"\"\" \n",
    "    A function to compute the bra-ket ⟨bra|ket⟩ and return the value\n",
    "    \n",
    "    Arguments\n",
    "    ---------\n",
    "    my_bra : a row vector representing ⟨bra|\n",
    "    my_ket : a column vector representing |ket⟩\n",
    "    \n",
    "    Returns\n",
    "    -------\n",
    "    bra_ket : a number representing the inner product ⟨bra|ket⟩\n",
    "    \n",
    "    Examples\n",
    "    --------\n",
    "    compute_bra_ket(np.array([[1, 0]]), np.array([[1], [0]])) == 1\n",
    "    compute_bra_ket(np.array([[0, 1]]), np.array([[1], [0]])) == 0\n",
    "    # TODO: Add two additional examples of bra-kets with expected outcomes\n",
    "    \"\"\"\n",
    "    \n",
    "    # TODO: Compute the inner product and store in bra_ket\n",
    "    bra_ket = ...\n",
    "\n",
    "    return bra_ket\n"
   ]
  },
  {
   "cell_type": "markdown",
   "id": "J_-6sespG5Wh",
   "metadata": {
    "id": "J_-6sespG5Wh"
   },
   "source": [
    "### 🧪 Bra-Ket Inner Product Practice\n",
    "\n",
    "Now that you’ve defined `compute_bra_ket`, use it to evaluate the following quantum inner products:\n",
    "\n",
    "1. ⟨α | α⟩\n",
    "2. ⟨α | β⟩\n",
    "3. ⟨β | α⟩\n",
    "4. ⟨β | β⟩\n",
    "\n",
    "Then write down what you **expect** each result to be (just numbers!), based on what you know about orthonormal quantum states. After that, run the tests to confirm you’re correct.\n"
   ]
  },
  {
   "cell_type": "code",
   "execution_count": null,
   "id": "b0775882",
   "metadata": {
    "id": "b0775882"
   },
   "outputs": [],
   "source": [
    "# 🚧 TODO: Use compute_bra_ket to evaluate inner products between bras and kets\n",
    "# Example:\n",
    "# bra_ket_aa = compute_bra_ket(bra_alpha, ket_alpha)\n",
    "\n",
    "# TODO: Compute <alpha|alpha>\n",
    "bra_ket_aa = ...\n",
    "\n",
    "# TODO: Compute <alpha|beta>\n",
    "bra_ket_ab = ...\n",
    "\n",
    "# TODO: Compute <beta|alpha>\n",
    "bra_ket_ba = ...\n",
    "\n",
    "# TODO: Compute <beta|beta>\n",
    "bra_ket_bb = ...\n",
    "\n",
    "\n",
    "\n"
   ]
  },
  {
   "cell_type": "code",
   "execution_count": null,
   "id": "054e43de-f28f-4025-985a-a76dffa4c4a3",
   "metadata": {},
   "outputs": [],
   "source": [
    "# 🚧 TODO: Write what you *expect* each inner product to be based on your understanding\n",
    "# Use integers like 0 or 1 where appropriate.\n",
    "\n",
    "_expected_bra_ket_aa = ...\n",
    "_expected_bra_ket_ab = ...\n",
    "_expected_bra_ket_ba = ...\n",
    "_expected_bra_ket_bb = ...\n"
   ]
  },
  {
   "cell_type": "code",
   "execution_count": null,
   "id": "f3ec1f3c-afc3-4352-849f-ef6671b9586d",
   "metadata": {},
   "outputs": [],
   "source": [
    "# ✅ Tests — will only pass if your values and expectations are correct!\n",
    "assert np.isclose(bra_ket_aa, _expected_bra_ket_aa)\n",
    "assert np.isclose(bra_ket_ab, _expected_bra_ket_ab)\n",
    "assert np.isclose(bra_ket_ba, _expected_bra_ket_ba)\n",
    "assert np.isclose(bra_ket_bb, _expected_bra_ket_bb)\n",
    "\n",
    "print(\"✅ All bra-ket tests passed!\")\n"
   ]
  },
  {
   "cell_type": "markdown",
   "id": "dfacb04b",
   "metadata": {
    "id": "dfacb04b"
   },
   "source": [
    "### 🧩 Define the Sz Operator\n",
    "\n",
    "The spin operator $S_z$ for a spin-½ particle is defined as:\n",
    "\n",
    "\\begin{equation}\n",
    "\\mathbb{S}_z = \\frac{\\hbar}{2}\n",
    "\\begin{bmatrix}\n",
    "1 & 0 \\\\\n",
    "0 & -1\n",
    "\\end{bmatrix}\n",
    "\\end{equation}\n",
    "\n",
    "Using `np.array`, define this matrix in Python using `hbar = 1` (already provided). Then run the cell to check the printed result and confirm the shape is `(2, 2)`.\n"
   ]
  },
  {
   "cell_type": "code",
   "execution_count": null,
   "id": "a7022d3c",
   "metadata": {
    "colab": {
     "base_uri": "https://localhost:8080/"
    },
    "id": "a7022d3c",
    "outputId": "8d139a5e-1f4c-4b9b-9d69-53f66a4e2a95"
   },
   "outputs": [],
   "source": [
    "# define hbar in atomic units (already done for you)\n",
    "hbar = 1\n",
    "\n",
    "# TODO: Define the Sz matrix using np.array\n",
    "# Hint: Use hbar / 2 * np.array([[...], [...]])\n",
    "Sz = ...\n",
    "\n",
    "# Print the matrix to check your result\n",
    "print(\"Sz matrix:\")\n",
    "print(Sz)\n",
    "\n",
    "# Print the shape to verify it is a 2x2 matrix\n",
    "print(\"Shape of Sz:\", Sz.shape)\n"
   ]
  },
  {
   "cell_type": "markdown",
   "id": "5b2f67b3",
   "metadata": {
    "id": "5b2f67b3"
   },
   "source": [
    "## 🧮 Matrix-Vector Products: Operator Action on States\n",
    "\n",
    "An important property of the basis kets $|\\alpha \\rangle$ and $|\\beta \\rangle$ is that they are **eigenstates** of the $\\hat{S}_z$ operator:\n",
    "\n",
    "\\begin{equation}\n",
    "\\hat{S}_z |\\alpha \\rangle = +\\frac{\\hbar}{2}|\\alpha \\rangle\n",
    "\\quad\\text{and}\\quad\n",
    "\\hat{S}_z |\\beta \\rangle = -\\frac{\\hbar}{2}|\\beta \\rangle\n",
    "\\end{equation}\n",
    "\n",
    "In NumPy, we represent this using a **matrix-vector product** like this:\n",
    "\n",
    "```python\n",
    "Sz_ket_alpha = Sz @ ket_alpha\n",
    "```\n",
    "\n",
    "\n",
    "🧪 Design Recipe: Compute Operator on State\n",
    "Let’s build a function to apply any matrix operator to a ket state.\n",
    "\n",
    "Follow the steps below:\n",
    "\n",
    "1. **Header** What should we name the function? What arguments should it take? What types?\n",
    "\n",
    "2. **Purpose** One sentence: what does this function do?\n",
    "\n",
    "3. **Examples** Add 2 examples of input/output to show the function in action.\n",
    "\n",
    "4. **Body** Write the function code.\n",
    "\n",
    "5. **Test** Try your examples!\n",
    "\n",
    "6. **Debug/Iterate** If something doesn’t work, fix it and try again!"
   ]
  },
  {
   "cell_type": "code",
   "execution_count": null,
   "id": "SXG3_aSQH3GH",
   "metadata": {
    "id": "SXG3_aSQH3GH"
   },
   "outputs": [],
   "source": [
    "# TODO: Write a function to compute the action of an operator on a ket state\n",
    "\n",
    "def compute_operator_on_state(...):  # <-- fill in the header\n",
    "    \"\"\"\n",
    "    TODO: Write a docstring that includes:\n",
    "    - Purpose (what does this function do?)\n",
    "    - Parameters (what are the types and meanings?)\n",
    "    - Returns (what does it return?)\n",
    "    - 2 example calls with expected outputs\n",
    "    \"\"\"\n",
    "    \n",
    "    # TODO: Compute the resulting ket after applying the operator\n",
    "    result_ket = ...\n",
    "    \n",
    "    return result_ket\n"
   ]
  },
  {
   "cell_type": "markdown",
   "id": "uc_uPE2-Hyj4",
   "metadata": {
    "id": "uc_uPE2-Hyj4"
   },
   "source": [
    "### 🧪 Test Your Operator Function\n",
    "\n",
    "Let’s test your `compute_operator_on_state` function by applying the spin operator $S_z$ to each basis state:\n",
    "\n",
    "\\begin{equation}\n",
    "S_z |\\alpha\\rangle = \\frac{\\hbar}{2} |\\alpha\\rangle, \\quad\n",
    "S_z |\\beta\\rangle = -\\frac{\\hbar}{2} |\\beta\\rangle\n",
    "\\end{equation}\n",
    "\n",
    "1. Use your function to compute `Sz @ ket_alpha` and `Sz @ ket_beta`\n",
    "2. Manually define what the **expected results** should be\n",
    "3. Run the tests and confirm they pass!\n"
   ]
  },
  {
   "cell_type": "code",
   "execution_count": null,
   "id": "518f6394",
   "metadata": {
    "colab": {
     "base_uri": "https://localhost:8080/"
    },
    "id": "518f6394",
    "outputId": "bbee1d8f-f1b2-4c38-ab78-c0e1235ccc01"
   },
   "outputs": [],
   "source": [
    "# 🚧 TODO: Use your operator_state function to apply Sz to the alpha and beta kets\n",
    "\n",
    "# Compute the result of Sz acting on ket_alpha\n",
    "Sz_ket_alpha = ...\n",
    "\n",
    "# Compute the result of Sz acting on ket_beta\n",
    "Sz_ket_beta = ...\n"
   ]
  },
  {
   "cell_type": "code",
   "execution_count": null,
   "id": "4b14e5e1-5c4a-4faf-ae74-a48f0929f44d",
   "metadata": {},
   "outputs": [],
   "source": [
    "# 🚧 TODO: Define what you EXPECT these results to be\n",
    "# Remember: |alpha⟩ is an eigenvector of Sz with eigenvalue +½ hbar\n",
    "#           |beta⟩ is an eigenvector of Sz with eigenvalue -½ hbar\n",
    "\n",
    "expected_Sz_ket_alpha = ...\n",
    "expected_Sz_ket_beta = ...\n"
   ]
  },
  {
   "cell_type": "code",
   "execution_count": null,
   "id": "840077da-bb43-4aa3-8476-aa64814f3b15",
   "metadata": {},
   "outputs": [],
   "source": [
    "# ✅ Tests — if your function and expected values are correct, these will pass!\n",
    "\n",
    "assert np.allclose(Sz_ket_alpha, expected_Sz_ket_alpha), \"Sz|alpha⟩ test failed\"\n",
    "assert np.allclose(Sz_ket_beta, expected_Sz_ket_beta), \"Sz|beta⟩ test failed\"\n",
    "\n",
    "print(\"✅ Both operator-state tests passed!\")\n"
   ]
  },
  {
   "cell_type": "markdown",
   "id": "5ebbd429",
   "metadata": {
    "id": "5ebbd429"
   },
   "source": [
    "## 🔁 Hermitian Matrices\n",
    "\n",
    "In quantum mechanics, operators are represented by **Hermitian matrices**. These matrices have a special property:\n",
    "\n",
    "\\begin{equation}\n",
    "A^\\dagger = A\n",
    "\\end{equation}\n",
    "\n",
    "That is, a Hermitian matrix is **equal to its own adjoint** (or Hermitian transpose), which is defined as the **complex conjugate transpose**.\n",
    "\n",
    "For example, to verify that the spin operator $S_z$ is Hermitian:\n",
    "\n",
    "1. Compute the Hermitian adjoint of the matrix using `.conj().T`\n",
    "2. Compare it to the original using `np.allclose()` (which checks equality with tolerance for rounding errors)\n",
    "\n",
    "```python\n",
    "Sz_adjoint = Sz.conj().T\n",
    "print(np.allclose(Sz_adjoint, Sz))  # Should return True\n"
   ]
  },
  {
   "cell_type": "code",
   "execution_count": null,
   "id": "d2c7ec8b",
   "metadata": {
    "colab": {
     "base_uri": "https://localhost:8080/"
    },
    "id": "d2c7ec8b",
    "outputId": "3c96be45-878b-48e2-a567-023806a8270e"
   },
   "outputs": [],
   "source": [
    "# TODO: Compute the Hermitian adjoint of Sz using .conj().T\n",
    "Sz_adjoint = ...\n",
    "\n",
    "# TODO: Check whether Sz is Hermitian by comparing to its adjoint\n",
    "print(np.allclose(Sz_adjoint, Sz))  # Expect: True\n"
   ]
  },
  {
   "cell_type": "markdown",
   "id": "b561924d",
   "metadata": {
    "id": "b561924d"
   },
   "source": [
    "## 🎯 Eigenvalues and Eigenvectors\n",
    "\n",
    "An important property of **Hermitian matrices** is that all their **eigenvalues are real**.\n",
    "\n",
    "In quantum mechanics, the eigenvalues of Hermitian operators represent the **possible outcomes of measurements**. In this notebook, we’ve been exploring the **spin angular momentum observable**, especially its **z-component** represented by the operator $ \\hat{S}_z $.\n",
    "\n",
    "We’ve already seen that $\\hat{S}_z $ has two eigenstates:\n",
    "\n",
    "- $ |\\alpha\\rangle $ with eigenvalue $ +\\frac{\\hbar}{2} $\n",
    "- $ |\\beta\\rangle $ with eigenvalue $ -\\frac{\\hbar}{2} $\n",
    "\n",
    "These relationships are preserved in our **matrix-vector** representation.\n",
    "\n",
    "---\n",
    "\n",
    "### 📐 What Are Eigenvectors?\n",
    "\n",
    "For a matrix $ \\mathbb{M} $, a **vector** $ \\mathbf{x}$ is an **eigenvector** if:\n",
    "\n",
    "$$\n",
    "\\mathbb{M} \\mathbf{x} = \\lambda \\mathbf{x}\n",
    "$$\n",
    "\n",
    "Where:\n",
    "- $ \\lambda $ is the **eigenvalue** (a number),\n",
    "- $\\mathbf{x} $ is a **non-zero vector** that only gets **scaled** by the matrix—not rotated.\n",
    "\n",
    "This is rare and special! Normally, matrices change both the **magnitude and direction** of vectors.\n",
    "\n",
    "👉 For an intuitive and visual explanation, check out this wonderful [3Blue1Brown video on eigenvectors](https://youtu.be/PFDu9oVAE-g).\n",
    "\n",
    "---\n",
    "\n",
    "### 📌 Next Steps\n",
    "\n",
    "So far, we’ve confirmed that the **basis kets** $ |\\alpha\\rangle $, $ |\\beta\\rangle $ are eigenvectors of $\\mathbb{S}_z $.\n",
    "\n",
    "We will now:\n",
    "1. Define the matrix forms of $ \\mathbb{S}_x $ and $ \\mathbb{S}_y $,\n",
    "2. Show that the z-basis kets are **not** eigenvectors of $ \\mathbb{S}_x $ and $ \\mathbb{S}_y $,\n",
    "3. Use NumPy’s linear algebra tools to find **true eigenvectors** of $ \\mathbb{S}_x $ and $ \\mathbb{S}_y $,\n",
    "4. Interpret those new eigenvectors as **linear combinations** of the z-basis kets.\n",
    "\n",
    "---\n",
    "\n",
    "### 🏗️ Define Matrices for $\\mathbb{S}_x $ and $ \\mathbb{S}_y $\n",
    "\n",
    "The spin operators are:\n",
    "\n",
    "$$\n",
    "\\mathbb{S}_x = \\frac{\\hbar}{2}\n",
    "\\begin{bmatrix}\n",
    "0 & 1 \\\\\n",
    "1 & 0\n",
    "\\end{bmatrix}\n",
    "\\quad\\text{and}\\quad\n",
    "\\mathbb{S}_y = \\frac{\\hbar}{2}\n",
    "\\begin{bmatrix}\n",
    "0 & -i \\\\\n",
    "i & 0\n",
    "\\end{bmatrix}\n",
    "$$\n",
    "\n",
    "> 🧠 In Python, the imaginary unit \\( i \\) is written as `1j`.\n"
   ]
  },
  {
   "cell_type": "code",
   "execution_count": null,
   "id": "76254128",
   "metadata": {
    "colab": {
     "base_uri": "https://localhost:8080/"
    },
    "id": "76254128",
    "outputId": "5d5dce43-4bfe-4661-8772-5071b05bbf41"
   },
   "outputs": [],
   "source": [
    "# TODO: Define the Sx operator using np.array\n",
    "# Hint: 2x2 matrix with real values\n",
    "Sx = ...\n",
    "\n",
    "# TODO: Define the Sy operator using np.array\n",
    "# Hint: 2x2 matrix with imaginary numbers; use 1j for sqrt(-1)\n",
    "Sy = ...\n",
    "\n",
    "# Print both to verify\n",
    "print(\"Sx matrix:\")\n",
    "print(Sx)\n",
    "\n",
    "print(\"Sy matrix:\")\n",
    "print(Sy)\n"
   ]
  },
  {
   "cell_type": "markdown",
   "id": "92c6ceee",
   "metadata": {
    "id": "92c6ceee"
   },
   "source": [
    "### 🎯 Matrix-Vector Products: Are $ |\\alpha\\rangle $ and $ |\\beta\\rangle $ Eigenvectors of $\\mathbb{S}_x $ and $ \\mathbb{S}_y $?\n",
    "\n",
    "Now that you've defined the matrix forms of $ \\mathbb{S}_x $ and $ \\mathbb{S}_y $, let's apply these operators to the **z-basis kets** \\$ |\\alpha\\rangle $ and $ |\\beta\\rangle $.\n",
    "\n",
    "Specifically, compute the following matrix-vector products:\n",
    "\n",
    "$$\n",
    "\\mathbb{S}_x |\\alpha\\rangle \\qquad\n",
    "\\mathbb{S}_x |\\beta\\rangle \\qquad\n",
    "\\mathbb{S}_y |\\alpha\\rangle \\qquad\n",
    "\\mathbb{S}_y |\\beta\\rangle\n",
    "$$\n",
    "\n",
    "Use Python syntax like:\n",
    "```python\n",
    "Sx_ket_alpha = Sx @ ket_alpha\n",
    "```"
   ]
  },
  {
   "cell_type": "code",
   "execution_count": null,
   "id": "11d5d8ff",
   "metadata": {
    "id": "11d5d8ff"
   },
   "outputs": [],
   "source": [
    "# TODO: Apply Sx and Sy to both basis states\n",
    "\n",
    "Sx_ket_alpha = ...\n",
    "Sx_ket_beta = ...\n",
    "\n",
    "Sy_ket_alpha = ...\n",
    "Sy_ket_beta = ...\n",
    "\n",
    "# Print the results to inspect\n",
    "print(\"Sx |alpha⟩ =\")\n",
    "print(Sx_ket_alpha)\n",
    "\n",
    "print(\"Sx |beta⟩ =\")\n",
    "print(Sx_ket_beta)\n",
    "\n",
    "print(\"Sy |alpha⟩ =\")\n",
    "print(Sy_ket_alpha)\n",
    "\n",
    "print(\"Sy |beta⟩ =\")\n",
    "print(Sy_ket_beta)\n",
    "\n",
    "# Optionally, print their shapes\n",
    "print(\"Shape of result:\", Sx_ket_alpha.shape)"
   ]
  },
  {
   "cell_type": "markdown",
   "id": "c89a2132-6ec6-40b9-89e4-5f38c2b44594",
   "metadata": {},
   "source": [
    "### Questions to consider\n",
    "\n",
    "1. After inspecting the output of each matrix-vector product, do you think $|\\alpha\\rangle$ and $|\\beta\\rangle$ are eigenvectors of $\\mathbb{S}_x$ and $\\mathbb{S}_y$?  *Hint: What would the results look like if they were eigenvectors?*\n",
    "\n",
    "2. What is the shape of the result of each matrix-vector product?  Does the dimensionality change?  Why is that important?"
   ]
  },
  {
   "cell_type": "markdown",
   "id": "2d5951ef",
   "metadata": {
    "id": "2d5951ef"
   },
   "source": [
    "### 🧮 Use `eigh()` to Compute Eigenvalues and Eigenvectors of $ \\mathbb{S}_x $ and $ \\mathbb{S}_y $\n",
    "\n",
    "NumPy’s linear algebra library (`numpy.linalg`) provides a convenient function for computing **eigenvalues and eigenvectors of Hermitian matrices**: `eigh()`.\n",
    "\n",
    "Here’s the syntax:\n",
    "```python\n",
    "eigenvalues, eigenvectors = la.eigh(M)\n",
    "```\n",
    "\n",
    "where `eigenvalues` will store all of the eigenvectors and `eigenvectors` will store all the eigenvectors.  \n",
    "Use this method to compute the eigenvalues and eigenvectors of $\\mathbb{S}_x$ and $\\mathbb{S}_y$.\n",
    "\n",
    "**Note** `eigenvectors` is a 2D array where each column `eigenvectors[:, i]` is the normalized eigenvector corresponding to eigenvalues[i].\n",
    "\n"
   ]
  },
  {
   "cell_type": "code",
   "execution_count": null,
   "id": "17bda9c5",
   "metadata": {
    "id": "17bda9c5",
    "outputId": "91edb4fc-059a-4c05-9303-f2ddc5549044"
   },
   "outputs": [],
   "source": [
    "# TODO: Compute eigenvalues and eigenvectors of Sx\n",
    "vals_x, vecs_x = ...\n",
    "\n",
    "# TODO: Compute eigenvalues and eigenvectors of Sy\n",
    "vals_y, vecs_y = ...\n",
    "\n",
    "# TODO: Print the shapes of the result arrays\n",
    "print(\"Shape of vals_x:\", ...)\n",
    "print(\"Shape of vecs_x:\", ...)\n",
    "\n",
    "# Print out the eigenvalues and eigenvectors\n",
    "print(\"Eigenvalues of Sx:\", vals_x)\n",
    "print(\"Eigenvectors of Sx:\\n\", vecs_x)\n",
    "\n",
    "print(\"Eigenvalues of Sy:\", vals_y)\n",
    "print(\"Eigenvectors of Sy:\\n\", vecs_y)"
   ]
  },
  {
   "cell_type": "markdown",
   "id": "8acefb1a-3f79-4931-aeca-ca42820141a0",
   "metadata": {},
   "source": [
    "**Question 3:** What is the shape of the vals_x?  What is the shape of vecs_x?\n",
    "\n",
    "**Question 4:** Do these matrices have the same eigenvalues as $\\mathbb{S}_z$?  Do they have the same eigenvectors as $\\mathbb{S}_z$?"
   ]
  },
  {
   "cell_type": "markdown",
   "id": "39f546b6-1ac7-4471-9730-db8f2f036249",
   "metadata": {},
   "source": [
    "### 🔄 Expressing New Eigenvectors in Terms of $ |\\alpha\\rangle $ and $ |\\beta\\rangle $\n",
    "\n",
    "The eigenvectors of \\$ \\mathbb{S}_x $ and $ \\mathbb{S}_y $ are **not** $ |\\alpha\\rangle $ and $ |\\beta\\rangle $.  \n",
    "But that doesn’t mean they’re unrelated!\n",
    "\n",
    "In fact, the new eigenvectors are **linear combinations** (i.e., superpositions) of the basis states $ |\\alpha\\rangle $ and $ |\\beta\\rangle $.  \n",
    "This reflects the idea that the spin eigenstates along the x- and y-axes can be written in terms of the z-basis.\n",
    "\n",
    "---\n",
    "\n",
    "### 🧪 How Can We Test This?\n",
    "\n",
    "Each eigenvector from `vecs_x` or `vecs_y` should be expressible as:\n",
    "\n",
    "$$\n",
    "|\\chi\\rangle = c_1 |\\alpha\\rangle + c_2 |\\beta\\rangle\n",
    "$$\n",
    "\n",
    "This means we can **project** each eigenvector onto the z-basis to extract $ c_1 $ and \\$ c_2 $.  \n",
    "Mathematically, this looks like:\n",
    "\n",
    "```python\n",
    "c1 = bra_alpha @ eigvec\n",
    "c2 = bra_beta @ eigvec\n",
    "```\n",
    "\n",
    "You can then reconstruct the eigenvector using:\n",
    "```python\n",
    "reconstructed = c1 * ket_alpha + c2 * ket_beta\n",
    "```\n",
    "\n",
    "If your reconstruction is numerically close to the original eigenvector, then your basis decomposition is correct!"
   ]
  },
  {
   "cell_type": "code",
   "execution_count": null,
   "id": "f04cfe3e-a43d-4d70-8061-64284364458a",
   "metadata": {},
   "outputs": [],
   "source": [
    "# TODO: Choose one of the eigenvectors from Sx \n",
    "eigvec = vecs_x[:, 0]  # for example\n",
    "\n",
    "# TODO: Compute components (projections onto alpha and beta)\n",
    "c1 = ...\n",
    "c2 = ...\n",
    "\n",
    "# TODO: Reconstruct the eigenvector from the z-basis\n",
    "reconstructed = c1 * ket_alpha + c2 * ket_beta\n",
    "\n",
    "# Print and compare\n",
    "print(\"Original eigenvector:\")\n",
    "print(eigvec)\n",
    "\n",
    "print(\"Reconstructed eigenvector:\")\n",
    "print(reconstructed)\n",
    "\n",
    "# Are they close?\n",
    "print(\"Are they equal?\", np.allclose(eigvec, reconstructed))"
   ]
  },
  {
   "cell_type": "markdown",
   "id": "e3c7bbfb-8264-4b41-a2a6-457d6950f35e",
   "metadata": {},
   "source": [
    "## 📈 Expectation Values\n",
    "\n",
    "In quantum mechanics, an **expectation value** is the average result you’d expect to obtain if you repeatedly measured a quantum observable on a system in a given state.\n",
    "\n",
    "It is written as a **bra-ket sandwich**:\n",
    "\n",
    "$$\n",
    "\\langle n | \\hat{O} | m \\rangle\n",
    "$$\n",
    "\n",
    "If the bra and ket are the **same** state (i.e. $ |n\\rangle = |m\\rangle $), this gives the expectation value of operator $ \\hat{O} $ in that state.\n",
    "\n",
    "---\n",
    "\n",
    "In Python, using NumPy arrays, this looks like:\n",
    "\n",
    "```python\n",
    "expectation_value = bra.conj().T @ Operator @ ket\n",
    "```"
   ]
  },
  {
   "cell_type": "markdown",
   "id": "8a1f741d",
   "metadata": {
    "id": "8a1f741d"
   },
   "source": [
    "### Expectation values\n",
    "Another important operation in quantum mechanics is the computation of an expectation value, which can be written as a bra-ket sandwiching an operator:\n",
    "\n",
    "$$ \\langle n | \\hat{O}| m \\rangle. $$\n",
    "\n",
    "The result will depend on what $\\hat{O}$ does to $|m\\rangle$, and how the resulting ket projects upon $\\langle n|$.\n",
    "\n",
    "We can use the different eigenvectors from our last block as kets, and their adjoints as bras, along with the matrix form of the operators to compute these operations.  \n",
    "\n",
    "`expectation_value = bra @ Operator @ ket`\n",
    "\n",
    "### 🧪 Function to Compute Expectation Value\n",
    "\n",
    "Let’s write a function that computes an **expectation value** of the form:\n",
    "\n",
    "$$\n",
    "\\langle \\psi | \\hat{O} | \\psi \\rangle\n",
    "$$\n",
    "\n",
    "This function will take:\n",
    "\n",
    "- a **bra** (row vector),\n",
    "- an **operator** (2×2 matrix),\n",
    "- a **ket** (column vector),\n",
    "\n",
    "and return the resulting **scalar expectation value**.\n",
    "\n",
    "---\n",
    "\n",
    "### ✅ Follow These Design Recipe Steps\n",
    "\n",
    "1. **Header**  \n",
    "   - What should we name the function?  \n",
    "   - What arguments should it take, and what types should they be?\n",
    "\n",
    "2. **Purpose**  \n",
    "   - Write one sentence describing what this function does.\n",
    "\n",
    "3. **Examples**  \n",
    "   - Add at least 2 examples that show different inputs and expected outputs.\n",
    "\n",
    "4. **Body**  \n",
    "   - Implement the formula for the expectation value:  \n",
    "     $$\n",
    "     \\langle \\text{bra} | \\hat{O} | \\text{ket} \\rangle\n",
    "    $$\n",
    "\n",
    "5. **Test**  \n",
    "   - Run your examples to check if the function returns the correct values.\n",
    "\n",
    "6. **Debug / Iterate**  \n",
    "   - Did your function pass your tests?  \n",
    "   - If not, revise it and try again until it works!\n",
    "\n"
   ]
  },
  {
   "cell_type": "code",
   "execution_count": null,
   "id": "8dc5e6e9-e158-4092-8399-2c7c1937a2a8",
   "metadata": {},
   "outputs": [],
   "source": [
    "# TODO: Write a function to compute expectation value <bra|Op|ket>\n",
    "\n",
    "def compute_expectation(bra, Operator, ket):\n",
    "    \"\"\"\n",
    "    Compute the quantum mechanical expectation value ⟨bra|Operator|ket⟩.\n",
    "\n",
    "    Arguments\n",
    "    ---------\n",
    "    bra : 1D or 2D numpy array (row vector)\n",
    "    Operator : 2D numpy array\n",
    "    ket : 1D or 2D numpy array (column vector)\n",
    "\n",
    "    Returns\n",
    "    -------\n",
    "    expectation : complex or float scalar\n",
    "    \"\"\"\n",
    "    expectation = ...\n",
    "    return expectation"
   ]
  },
  {
   "cell_type": "markdown",
   "id": "b69b1b10-c774-4b9f-b959-c47008615320",
   "metadata": {},
   "source": [
    "\n",
    "**Question 5:** If we associate $|\\alpha^{x}\\rangle$ with `vec_x[:,1]`, what is the expectation value corresponding to $\\langle \\alpha^{x} | \\hat{S}_x | \\alpha^{x} \\rangle $?\n",
    "\n",
    "**Question 6:** If we associate $|\\alpha^{y}\\rangle$ with `vec_y[:,1]`, what is the expectation value corresponding to $\\langle \\alpha^{y} | \\hat{S}_z | \\alpha^{y}\\rangle $?"
   ]
  },
  {
   "cell_type": "code",
   "execution_count": null,
   "id": "050dc8c3",
   "metadata": {
    "id": "050dc8c3"
   },
   "outputs": [],
   "source": [
    "# TODO: Assign specific eigenvectors\n",
    "ket_x_alpha = vecs_x[:, 1]\n",
    "bra_x_alpha = ket_x_alpha.conj().T\n",
    "\n",
    "ket_y_alpha = vecs_y[:, 1]\n",
    "bra_y_alpha = ket_y_alpha.conj().T\n",
    "\n",
    "# TODO: Compute expectation values\n",
    "expect_x = ...\n",
    "expect_z = ...\n",
    "\n",
    "print(\"⟨x_alpha| Sx |x_alpha⟩ =\", expect_x)\n",
    "print(\"⟨y_alpha| Sz |y_alpha⟩ =\", expect_z)"
   ]
  },
  {
   "cell_type": "markdown",
   "id": "f4f73b71",
   "metadata": {
    "id": "f4f73b71"
   },
   "source": [
    "### 🔁 Commutators and Compatibility\n",
    "\n",
    "Later in PHYS 3141, we’ll explore the **generalized uncertainty principle**. One of the most important mathematical tools in that formulation is the **commutator**.\n",
    "\n",
    "---\n",
    "\n",
    "### 🧮 What Is a Commutator?\n",
    "\n",
    "For two operators $ \\hat{A} $ and $ \\hat{B} $, the **commutator** is defined as:\n",
    "\n",
    "$$\n",
    "[\\hat{A}, \\hat{B}] = \\hat{A} \\hat{B} - \\hat{B} \\hat{A}\n",
    "$$\n",
    "\n",
    "This same formula applies directly to **matrices** representing those operators.\n",
    "\n",
    "---\n",
    "\n",
    "### 🧠 Key Facts About Commutators\n",
    "\n",
    "1. If $[\\hat{A}, \\hat{B}] = 0 $, we say that **$ \\hat{A} $ and $ \\hat{B} $ commute**.\n",
    "2. If $ [\\hat{A}, \\hat{B}] \\ne 0 $, the operators **do not commute**.\n",
    "3. **Commuting operators share the same set of eigenstates** (their matrices share the same eigenvectors).\n",
    "4. **Commuting observables** are called **compatible observables**: you can simultaneously know their values with **unlimited precision**.\n",
    "5. **Non-commuting operators** correspond to **incompatible observables**: there is a strict limit on how precisely you can know both values at the same time.\n",
    "\n",
    "---\n",
    "\n",
    "### 📐 Commutation Relations of Spin Operators\n",
    "\n",
    "The spin operators obey the following famous commutation relations:\n",
    "\n",
    "$$\n",
    "[\\hat{S}_x, \\hat{S}_y] = i\\hbar \\hat{S}_z\n",
    "$$\n",
    "$$\n",
    "[\\hat{S}_y, \\hat{S}_z] = i\\hbar \\hat{S}_x\n",
    "$$\n",
    "$$\n",
    "[\\hat{S}_z, \\hat{S}_x] = i\\hbar \\hat{S}_y\n",
    "$$\n",
    "\n",
    "These relations tell us that **no pair of spin components is compatible** — there's inherent uncertainty in knowing any two simultaneously.\n",
    "\n",
    "---\n",
    "\n",
    "### 🧠 Conceptual Questions\n",
    "\n",
    "**Q7:** Are the observables corresponding to $\\hat{S}_x $ compatible with those corresponding to $ \\hat{S}_y $?  \n",
    "*Explain your reasoning using the commutator.*\n",
    "\n",
    "**Q8:** Verify numerically that the **matrix versions** of $ \\hat{S}_x, \\hat{S}_y, \\hat{S}_z $ obey the same commutation relations.  \n",
    "You can compute matrix products using either of the following equivalent syntaxes:\n",
    "\n",
    "```python\n",
    "SxSy = Sx @ Sy      # recommended\n",
    "# or\n",
    "SxSy = np.dot(Sx, Sy)\n",
    "```\n"
   ]
  },
  {
   "cell_type": "code",
   "execution_count": null,
   "id": "co4tmTPofMId",
   "metadata": {
    "id": "co4tmTPofMId"
   },
   "outputs": [],
   "source": [
    "# 🚧 TODO: Compute the commutators for the spin matrices\n",
    "\n",
    "# [Sx, Sy] = Sx Sy - Sy Sx\n",
    "comm_Sx_Sy = ...\n",
    "expected_Sx_Sy = 1j * hbar * Sz\n",
    "\n",
    "# [Sy, Sz] = Sy Sz - Sz Sy\n",
    "comm_Sy_Sz = ...\n",
    "expected_Sy_Sz = 1j * hbar * Sx\n",
    "\n",
    "# [Sz, Sx] = Sz Sx - Sx Sz\n",
    "comm_Sz_Sx = ...\n",
    "expected_Sz_Sx = 1j * hbar * Sy\n",
    "\n",
    "# 🚧 TODO: Compare results using np.allclose\n",
    "print(\"Does [Sx, Sy] = iħ Sz?\", np.allclose(comm_Sx_Sy, expected_Sx_Sy))\n",
    "print(\"Does [Sy, Sz] = iħ Sx?\", np.allclose(comm_Sy_Sz, expected_Sy_Sz))\n",
    "print(\"Does [Sz, Sx] = iħ Sy?\", np.allclose(comm_Sz_Sx, expected_Sz_Sx))\n",
    "\n",
    "# Optional: Print the raw commutators to inspect\n",
    "print(\"\\n[Sx, Sy] =\\n\", comm_Sx_Sy)\n",
    "print(\"Expected:\\n\", expected_Sx_Sy)\n"
   ]
  }
 ],
 "metadata": {
  "colab": {
   "provenance": []
  },
  "kernelspec": {
   "display_name": "Python 3 (ipykernel)",
   "language": "python",
   "name": "python3"
  },
  "language_info": {
   "codemirror_mode": {
    "name": "ipython",
    "version": 3
   },
   "file_extension": ".py",
   "mimetype": "text/x-python",
   "name": "python",
   "nbconvert_exporter": "python",
   "pygments_lexer": "ipython3",
   "version": "3.12.10"
  }
 },
 "nbformat": 4,
 "nbformat_minor": 5
}