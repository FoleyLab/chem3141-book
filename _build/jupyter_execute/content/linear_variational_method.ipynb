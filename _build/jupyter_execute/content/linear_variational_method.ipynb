{
 "cells": [
  {
   "cell_type": "markdown",
   "metadata": {},
   "source": [
    "# Linear Variational Method\n",
    "[Prof. Jay Foley, University of North Carolina Charlotte](https://foleylab.github.io/)\n",
    "\n",
    "#### Objectives\n",
    "- To demonstrate the use of the Linear Variational Method to the model system of the particle in a box with a delta potential\n",
    "- To illustrate the impact of basis set size on the variational energy\n",
    "\n",
    "#### Learning Outcomes\n",
    "By the end of this workbook, students should be able to\n",
    "- Implement expressions for Hamiltonian matrix elements of the particle in a box with a delta function potential into simple python code\n",
    "- Express a linear expansion of basis functions as a numpy array\n",
    "- Utilize numpy's matrix-vector operations to compute energy expectation values of different trial wavefunctions\n",
    "- Utilize numpy's `linalg.eigh` function to obtain eigenvalues and eigenvectors of a Hamiltonian matrix\n",
    "- Plot the variational ground-state wavefunction using `pyplot`\n",
    "\n",
    "\n",
    "#### Summary\n",
    "We will apply the Linear Variational Method to the particle in a box of length $10$ atomic units \n",
    "with a delta function potential centered at $x=5$ atomic units. We will plot the delta function potential and the infinite potential walls at $x = 0$ and $x = 10$ \n",
    "in the next cell using the python library `matplotlib` and the special function from the `scipy` library called\n",
    "`signal.unit_impulse`.\n",
    "\n",
    "\n"
   ]
  },
  {
   "cell_type": "code",
   "execution_count": 1,
   "metadata": {},
   "outputs": [
    {
     "ename": "ModuleNotFoundError",
     "evalue": "No module named 'scipy'",
     "output_type": "error",
     "traceback": [
      "\u001b[31m---------------------------------------------------------------------------\u001b[39m",
      "\u001b[31mModuleNotFoundError\u001b[39m                       Traceback (most recent call last)",
      "\u001b[36mCell\u001b[39m\u001b[36m \u001b[39m\u001b[32mIn[1]\u001b[39m\u001b[32m, line 2\u001b[39m\n\u001b[32m      1\u001b[39m \u001b[38;5;28;01mimport\u001b[39;00m\u001b[38;5;250m \u001b[39m\u001b[34;01mnumpy\u001b[39;00m\u001b[38;5;250m \u001b[39m\u001b[38;5;28;01mas\u001b[39;00m\u001b[38;5;250m \u001b[39m\u001b[34;01mnp\u001b[39;00m\n\u001b[32m----> \u001b[39m\u001b[32m2\u001b[39m \u001b[38;5;28;01mfrom\u001b[39;00m\u001b[38;5;250m \u001b[39m\u001b[34;01mscipy\u001b[39;00m\u001b[38;5;250m \u001b[39m\u001b[38;5;28;01mimport\u001b[39;00m signal\n\u001b[32m      3\u001b[39m \u001b[38;5;28;01mfrom\u001b[39;00m\u001b[38;5;250m \u001b[39m\u001b[34;01mmatplotlib\u001b[39;00m\u001b[38;5;250m \u001b[39m\u001b[38;5;28;01mimport\u001b[39;00m pyplot \u001b[38;5;28;01mas\u001b[39;00m plt\n\u001b[32m      5\u001b[39m \u001b[38;5;66;03m# create an array of x-values between 0 and 10\u001b[39;00m\n",
      "\u001b[31mModuleNotFoundError\u001b[39m: No module named 'scipy'"
     ]
    }
   ],
   "source": [
    "import numpy as np\n",
    "from scipy import signal\n",
    "from matplotlib import pyplot as plt\n",
    "\n",
    "# create an array of x-values between 0 and 10\n",
    "x = np.linspace(0, 10, 500)\n",
    "\n",
    "# create the delta function potential.  Need to specify that it will be in the middle \n",
    "# of 500 samples along x.  We will scale this by the amplitude of the normalized energy \n",
    "# eigenstates so that this potential appears on the same scale as the eigenfunctions\n",
    "V_x = signal.unit_impulse(500, idx='mid') * 2/10\n",
    "V_0 = signal.unit_impulse(500, 0) * 5\n",
    "V_L = signal.unit_impulse(500, 499) * 5\n",
    "V = V_x + V_0 + V_L\n",
    "\n",
    "# now plot V_x against x\n",
    "plt.plot(x, V, color='red', label=\"Potential\")\n",
    "plt.xlabel(\"Position (atomic units)\")\n",
    "plt.ylabel(\"Potential (atomic units)\")\n",
    "plt.ylim(0, np.sqrt(2/10))\n",
    "plt.legend()\n",
    "plt.show()"
   ]
  },
  {
   "cell_type": "markdown",
   "metadata": {},
   "source": [
    "# Approach\n",
    "We can write the Hamiltonian for this system between $x=0$ and $x=10$ as follows:\n",
    "\n",
    "$$\\hat{H} = -\\frac{\\hbar^2}{2m} \\frac{d^2}{dx^2} + \\delta(x-5), $$\n",
    "and we notice that this looks very similar to the Hamiltonian we know from the ordinary particle in a box\n",
    "except for the presence of this peculiar spikey potential right in the middle of the box.  We could try to find [the exact eigenfunctions for this Hamiltonian](https://arxiv.org/pdf/1001.0311.pdf), but we can also obtain insights and reasonably good results utilizing approximate methods, such as the [Variational Method](https://chem.libretexts.org/Bookshelves/Physical_and_Theoretical_Chemistry_Textbook_Maps/Supplemental_Modules_(Physical_and_Theoretical_Chemistry)/Quantum_Mechanics/17%3A_Quantum_Calculations/Variational_Method#:~:text=The%20Variational%20Method%20is%20a,the%20known%20and%20approximated%20energies) or [Perturbation Theory](https://chem.libretexts.org/Bookshelves/Physical_and_Theoretical_Chemistry_Textbook_Maps/Book%3A_Quantum_States_of_Atoms_and_Molecules_(Zielinksi_et_al)/09%3A_The_Electronic_States_of_the_Multielectron_Atoms/9.03%3A_Perturbation_Theory).  Here we will use the Variational Method.\n",
    "\n",
    "#### Form of the trial wavefunction\n",
    "In particular, we will optimize the trial wavefunction given by \n",
    "\\begin{equation}\n",
    "\\Phi(x) = \\sum_{n=1}^N c_n \\psi_n(x)\n",
    "\\end{equation}\n",
    "where the expansion coefficients $c_n$ are real numbers\n",
    "and $\\psi_n(x)$ are the energy eigenfunctions of the ordinary particle in a box that has no potential\n",
    "between $x=0$ and $x=L$.  In particular, these eigenfunctions have the form\n",
    "\\begin{equation}\n",
    "\\psi_n(x) = \\sqrt{\\frac{2}{10} } {\\rm sin}\\left(\\frac{n \\pi x}{10} \\right).\n",
    "\\end{equation}\n",
    "\n",
    "#### Form of the energy functional of the trial wavefunction\n",
    "We will seek to minimize the energy functional of the trial wavefunction through the expansion coefficients, where the\n",
    "energy functional of the trial wavefunction can be written as\n",
    "\\begin{equation}\n",
    "E_{trial} = \\frac{\\int_0^{10} \\Phi^* (x) \\: \\hat{H} \\: \\Phi(x) dx }{\\int_0^{10} \\Phi^* (x) \\: \\Phi(x) dx },\n",
    "\\end{equation}\n",
    "where we have recognized that the boundaries of the box are at $x=0$ and $x=10$, so our range of integration\n",
    "goes between these boundaries.\n",
    "\n",
    "#### Atomic Units\n",
    "We will express our Hamiltonian in atomic units where $\\hbar = 1$ and $m = 1$, so we can write the Hamiltonian in \n",
    "this unit system as:\n",
    "\\begin{equation}\n",
    "\\hat{H} = -\\frac{1}{2} \\frac{d^2}{dx^2} + \\delta(x-5).\n",
    "\\end{equation}\n",
    "We further note that the Hamiltonian can be written as a sum \n",
    "of kinetic and potential operators, $\\hat{H} = \\hat{T} + \\hat{V}$\n",
    "where $\\hat{T} = -\\frac{1}{2} \\frac{d^2}{dx^2}$ and $\\hat{V} = \\delta(x-5)$.  For the ordinary particle in a box, the Hamiltonian only contains $\\hat{T}$, so we can note that the particle in a box energy eigenfunctions obey the following eigenvalue equation with the kinetic energy operator (in atomic units)\n",
    "\\begin{equation}\n",
    "\\hat{T} \\psi_n(x) = \\frac{\\pi^2 n^2}{200} \\psi_n(x) \\equiv E_n \\psi_n(x).   \n",
    "\\end{equation}\n",
    "\n",
    "#### Solving the Linear Variational Problem\n",
    "The Linear Variational Method is carried out by minimizing $E_{trial}$ with respect to the expansion coefficients in $\\Phi(x)$.  This leads\n",
    "to the condition that the partial derivative of the trial energy with \n",
    "respect to each expansion coefficient is zero:\n",
    "\\begin{equation}\n",
    "\\frac{\\partial}{\\partial c_m} E_{trial} = 0 \\; \\; \\forall \\; m.\n",
    "\\end{equation}\n",
    "When this is true, the trial energy and the expansion\n",
    "coefficients satisfy the following equations:\n",
    "\\begin{equation}\n",
    "E_{trial} c_m = \\sum_{n=1}^N H_{nm} c_n,\n",
    "\\end{equation}\n",
    "where \n",
    "\\begin{equation}\n",
    "H_{nm} = \\int_0^{10} \\psi^*_n(x) \\hat{H} \\psi_m(x) dx. \n",
    "\\end{equation}\n",
    "This can be written as an eigenvalue equation\n",
    "\\begin{equation}\n",
    "{\\bf H} {\\bf c} = E_{trial} {\\bf c},\n",
    "\\end{equation}\n",
    "where ${\\bf H}$ is the matrix whose elements are given by $H_{nm}$ and ${\\bf c}$ is the vector of coefficients.\n",
    "\n",
    "\n"
   ]
  },
  {
   "cell_type": "markdown",
   "metadata": {},
   "source": [
    "### Questions Part 1:\n",
    "\n",
    "1. The matrix element $H_{nm}$ can be expressed as a sum of kinetic and potential matrix elements, $T_{nm} + V_{nm}$ where\n",
    "\\begin{equation}\n",
    "T_{nm} = \\int_0^{10} \\psi^*_n(x) \\hat{T} \\psi_m(x) dx \n",
    "\\end{equation}\n",
    "and\n",
    "\\begin{equation}\n",
    "V_{nm} = \\int_0^{10} \\psi^*_n(x) \\hat{V} \\psi_m(x) dx. \n",
    "\\end{equation}\n",
    "Write a general expression for the elements of $T_{nm}$ and $V_{nm}$\n",
    "for our particle in a box with a delta potential.\n",
    "\n",
    "2. Write two python functions `Kinetic_matrix_element(n, m)`, `Potential_matrix_element(n, m)` that take the indices $n$ and $m$ and return the corresponding value of $T_{nm}$ and $V_{nm}$.  Skeleton code for this function follows.  Three helper functions are provided: \n",
    "    - `def energy_eigenvalue(n, L, m)` that can provide the energy eigenvalues of the ordinary particle in a box for energy eigenstate $n$, length $L$, and mass $m$\n",
    "    - `def energy_eigenfunction(n, L, x)` that can provide the value(s) of the energy eigenfunction of the ordinary particle in a box for energy eigenstate $n$ with length $L$ evaluated at x-value(s) $x$.\n",
    "    - `def Hamiltonian_matrix_element(n, m)` that will call the `Kinetic_matrix_element` and `Potential_matrix_element` functions to return the total Hamiltonian matrix element value.\n"
   ]
  },
  {
   "cell_type": "code",
   "execution_count": 9,
   "metadata": {},
   "outputs": [],
   "source": [
    "def energy_eigenvalue(n, L, m):\n",
    "    \"\"\" Helper function to take the quantum number n of the particle in a box, the length \n",
    "        of the box L, and the mass of the particle m and return the energy eigenvalue in atomic units.\n",
    "        Both the length and mass should be in atomic units.\n",
    "        \n",
    "    Arguments\n",
    "    ---------\n",
    "    n : int\n",
    "        the quantum state of the particle in a box\n",
    "        \n",
    "    L : float\n",
    "        the length of the box in atomic units\n",
    "    m : float\n",
    "        the mass of the particle in atomic units\n",
    "    \"\"\"\n",
    "        \n",
    "    return n ** 2 * np.pi ** 2 / ( 2 * m * L ** 2)\n",
    "\n",
    "def energy_eigenfunction(n, L, x):\n",
    "    \"\"\" Helper function to take the quantum number n of the particle in a box, the length \n",
    "        of the box L, and x-coordinate value(s) (single value or list) and return the corresponding\n",
    "        energy eigenstate value(s) of the ordinary particle in a box\n",
    "        \n",
    "    Arguments\n",
    "    ---------\n",
    "    n : int\n",
    "        the quantum state of the particle in a box      \n",
    "    L : float\n",
    "        the length of the box in atomic units\n",
    "    x : float (or numpy array of floats)\n",
    "        the position variable for the energy eigenstate in atomic units\n",
    "    \"\"\"\n",
    "    return np.sqrt(2 / L) * np.sin(n * np.pi * x / L)\n",
    "\n",
    "def Hamiltonian_matrix_element(n, m):\n",
    "    \"\"\" Helper function to take two indices (n, m) and return the Hamiltonian matrix element H_{n,m}, \n",
    "        which is <n|H|m> in Dirac's Bra-Ket notation.  This will call Kinetic_matrix_element(n, m) and\n",
    "        Potential_matrix_element(n, m).\n",
    "    \n",
    "    Arguments\n",
    "    ---------\n",
    "    n : int\n",
    "        the index corresponding to the bra state\n",
    "    m : int\n",
    "        the index corresponding to the ket state \n",
    "        \n",
    "    Returns\n",
    "    -------\n",
    "    H_mn : float\n",
    "         the matrix element corresponding to <n|H|m> = <n|T|m> + <n|V|m>\n",
    "         \n",
    "    Example\n",
    "    -------\n",
    "    >>> H_12 = Hamiltonian_matrix_element(1,2)\n",
    "    >>> H_33 = Hamiltonian_matrix_element(3,3)\n",
    "    \n",
    "    Notes\n",
    "    -----\n",
    "    if n == m, you need to include kinetic and potential contributions of <n|H|n>.\n",
    "    e.g. <n|H|n> = <n|T|n> + <n|V|n> = <n|E_n|n> + <n|V|n> = E_n<n|n> + <n|V|n> = E_n + <n|V|n>\n",
    "    where E_n is the energy eigenvalue of the ordinary particle in a box state \\psi_n(x)\n",
    "    \n",
    "    if n != m, you need to include only the potential contribution <n|V|m>.\n",
    "    \n",
    "    \"\"\"\n",
    "    H_nm = Kinetic_matrix_element(n, m) + Potential_matrix_element(n, m)\n",
    "    return H_nm\n",
    "\n",
    "def Kinetic_matrix_element(n, m):\n",
    "    \"\"\" Function to take two indices (n, m) and return the Kinetic Energy matrix element T_{n,m}, \n",
    "        which is <n|T|m> in Dirac's Bra-Ket notation.  \n",
    "    \n",
    "    Arguments\n",
    "    ---------\n",
    "    n : int\n",
    "        the index corresponding to the bra state\n",
    "    m : int\n",
    "        the index corresponding to the ket state \n",
    "        \n",
    "    Returns\n",
    "    -------\n",
    "    T_nm : float\n",
    "         the matrix element corresponding to <n|T|m> = E_m <n|m>\n",
    "         \n",
    "    Example\n",
    "    -------\n",
    "    >>> T_12 = Kinetic_matrix_element(1,2) -> 0\n",
    "    >>> T_33 = Kinetic_matrix_element(3,3) -> E_3\n",
    "    \n",
    "    \"\"\"\n",
    "    T_nm = energy_eigenvalue(m, 10, 1) * (n == m)\n",
    "    return T_nm\n",
    "\n",
    "def Potential_matrix_element(n, m):\n",
    "    \"\"\" Function to take two indices (n, m) and return the Hamiltonian matrix element V_{n,m}, \n",
    "        which is <n|V|m> in Dirac's Bra-Ket notation and V = \\delta(x-5)\n",
    "    \n",
    "    Arguments\n",
    "    ---------\n",
    "    n : int\n",
    "        the index corresponding to the bra state\n",
    "    m : int\n",
    "        the index corresponding to the ket state \n",
    "        \n",
    "    Returns\n",
    "    -------\n",
    "    V_nm : float\n",
    "         the matrix element corresponding to <n|V|m> = \\psi_n(5) * psi_m(5)\n",
    "         \n",
    "    Example\n",
    "    -------\n",
    "    >>> V_12 = Potential_matrix_element(1,2)\n",
    "    >>> V_33 = Potential_matrix_element(3,3)\n",
    "    \"\"\"\n",
    "    V_nm = energy_eigenfunction(n, 10, 5) * energy_eigenfunction(m, 10, 5)\n",
    "    return V_nm"
   ]
  },
  {
   "cell_type": "markdown",
   "metadata": {},
   "source": [
    "#### Variational optimization\n",
    "\n",
    "Since we see that the linear Variational Method can be cast as an eigenvalue equation ${\\bf H} {\\bf c} = E {\\bf c}$, \n",
    "we can find the Variational ground-state energy and wavefunction through the following steps:\n",
    "- Build the matrix ${\\bf H}$; we will do this in the basis of energy eigenfunctions of the ordinary particle in a box\n",
    "- Diagonalize ${\\bf H}$; the lowest eigenvalue will be the variational approximation to the ground-state energy and the corresponding eigenvector will represent the expansion coeefficients for the variational ground-state wavefunction in terms of the basis functions.\n",
    "\n",
    "We can use `np.linalg.eigh()` to diagonalize the Hamiltonian matrix."
   ]
  },
  {
   "cell_type": "markdown",
   "metadata": {},
   "source": [
    "The following code block contains a helper function called `build_matrices(n_basis)` that will \n",
    "build and return the Hamiltonian, Kinetic Energy, and Potential Energy matrices defined above.  \n",
    "The argument `n_basis` will be used to determine the number of basis functions, and the \n",
    "size of the resulsing matrices will be `n_basis x n_basis`.  "
   ]
  },
  {
   "cell_type": "code",
   "execution_count": 10,
   "metadata": {},
   "outputs": [],
   "source": [
    "def build_matrices(n_basis):\n",
    "    \"\"\" Function that will build and return the Hamiltonian, Kinetic, and Potential energy matrices\n",
    "    \n",
    "    Arguments\n",
    "    ---------\n",
    "    n_basis : int\n",
    "        the number of basis functions used to build the matrices\n",
    "        \n",
    "    Returns\n",
    "    -------\n",
    "    H : n_basis x n_basis array of floats\n",
    "         the total Hamiltonian matrix\n",
    "         \n",
    "    T : n_basis x n_basis array of floats\n",
    "         the kinetic energy matrix\n",
    "         \n",
    "    V : n_basis x n_basis array of floats\n",
    "         the potential energy matrix \n",
    "         \n",
    "    Example\n",
    "    -------\n",
    "    >>> H, T, V = build_matrices(3)\n",
    "    \"\"\"\n",
    "    H = np.zeros((n_basis, n_basis))\n",
    "    T = np.zeros((n_basis, n_basis))\n",
    "    V = np.zeros((n_basis, n_basis))\n",
    "    \n",
    "    for i in range(n_basis):\n",
    "        n = i + 1 # i starts from 0 but n should start at 1\n",
    "        for j in range(n_basis):\n",
    "            m = j + 1 # j starts at 0 but m should start at 1\n",
    "            H[i, j] = Hamiltonian_matrix_element(n, m)\n",
    "            T[i, j] = Kinetic_matrix_element(n, m)\n",
    "            V[i, j] = Potential_matrix_element(n, m)\n",
    "    return H, T, V\n"
   ]
  },
  {
   "cell_type": "markdown",
   "metadata": {},
   "source": [
    "The following line calls our `build_matrices` function to build ${\\bf H}$, ${\\bf T}$, and ${\\bf V}$ matrices.\n",
    "We will call the array that stores ${\\bf H}$ `Hamiltonian_matrix`. "
   ]
  },
  {
   "cell_type": "code",
   "execution_count": 11,
   "metadata": {},
   "outputs": [],
   "source": [
    "n_basis = 3\n",
    "Hamiltonian_matrix, Kinetic_matrix, Potential_matrix = build_matrices(n_basis)"
   ]
  },
  {
   "cell_type": "markdown",
   "metadata": {},
   "source": [
    "The following lines will find the eigenvalues and eigenvectors of ${\\bf H}$.  The lowest energy \n",
    "eigenvalue will be the variational estimate of the ground-state energy and the associated eigenvector\n",
    "will be the variational estimate of the ground-state wavefunction."
   ]
  },
  {
   "cell_type": "code",
   "execution_count": 12,
   "metadata": {},
   "outputs": [
    {
     "name": "stdout",
     "output_type": "stream",
     "text": [
      "The variational ground state energy with 3 basis functions is 0.165735 atomic units\n"
     ]
    }
   ],
   "source": [
    "# compute eigenvalues and eigenvectors of Hamiltonian_matrix\n",
    "# store eigenvalues to E_opt and eigenvectors to c_opt\n",
    "E_opt, c_opt = np.linalg.eigh(Hamiltonian_matrix)\n",
    "\n",
    "# print lowest eigenvalues corresponding to the \n",
    "# variational estimate of the ground state energy\n",
    "print(F'The variational ground state energy with {n_basis} basis functions is {E_opt[0]:.6f} atomic units')"
   ]
  },
  {
   "cell_type": "markdown",
   "metadata": {},
   "source": [
    "#### Visualizing the variational ground-state\n",
    "Now that we have the variational eigenvectors (along with the eigenvalues), we can visualize the \n",
    "variational ground-state wavefunction by expanding it in terms of the basis functions $\\psi_n(x)$ using\n",
    "the expansion coefficients from the ground-state eigenvector:\n",
    "$$ \\Phi(x) = \\sum_n c_n \\psi_n(x). $$\n",
    "The ground-state eigenvector can be accessed as a slice of `c_opt` as follows:\n",
    "`c_opt[:,0]`\n",
    "\n",
    "We will build a numpy array of values from this expansion and plot it using `pyplot`."
   ]
  },
  {
   "cell_type": "code",
   "execution_count": 16,
   "metadata": {},
   "outputs": [
    {
     "data": {
      "text/plain": [
       "<matplotlib.legend.Legend at 0x1379622b0>"
      ]
     },
     "execution_count": 16,
     "metadata": {},
     "output_type": "execute_result"
    },
    {
     "data": {
      "image/png": "[encoded data removed]",
      "text/plain": [
       "<Figure size 640x480 with 1 Axes>"
      ]
     },
     "metadata": {},
     "output_type": "display_data"
    }
   ],
   "source": [
    "# initialize a numpy array for Phi_gs as an array of zeros with the same length as the x-axis used in the first cell\n",
    "Phi_gs = np.zeros_like(x)\n",
    "\n",
    "# loop through the basis states and add c_n \\psi_n(x) to Phi_gs \n",
    "for i in range(n_basis):\n",
    "    n = i + 1\n",
    "    Phi_gs += c_opt[i,0] * energy_eigenfunction(n, 10, x)\n",
    "    \n",
    "# now plot the variational ground state along with the ground-state of the ordinary PIB\n",
    "plt.plot(x, Phi_gs ** 2, \"blue\", label=\"Variational ground-state Probability Density\")\n",
    "plt.plot(x, energy_eigenfunction(1, 10, x) ** 2, \"red\", label=\"PIB ground state Probability Density\")\n",
    "# optionally plot the delta potential\n",
    "plt.plot(x, V, \"purple\", label=\"Potential\")\n",
    "plt.ylim(0, 2/10  * 1.5)\n",
    "plt.legend()"
   ]
  },
  {
   "cell_type": "markdown",
   "metadata": {},
   "source": [
    "### Questions Part 2:\n",
    "1.  Is the energy you calculated above higher or lower than the ground state energy of the ordinary particle in a box system (that is, without the delta function potential)?\n",
    "2.  Why do you think mixing in functions that correspond to excited states in the ordinary particle in a box system actually helped to improve (i.e. lower) your energy in the system with the delta function potential?\n",
    "3.  Increase the number of basis functions to 50 (so that ${\\bf H}$ is a 50x50 matrix and ${\\bf c}$ is a vector with 50 entries) and repeat your calculation of the variational estimate of the ground state energy.  Does the energy improve (lower) compared to what it was when 3 basis functions were used?  Do you notice any difference in the plot of the variational estimate of the ground-state probability density?"
   ]
  },
  {
   "cell_type": "markdown",
   "metadata": {},
   "source": [
    "### Behavior of Total Energy, Kinetic Energy, and Potential Energy functionals with basis set size."
   ]
  },
  {
   "cell_type": "markdown",
   "metadata": {},
   "source": [
    "Typically speaking, the quality of the variational ground-state energy improves with the basis set size.\n",
    "Here we will look at the behavior of the total energy, the kinetic energy, and the potential energy of the \n",
    "trial wavefunction as a function of basis set size. \n",
    "\n",
    "For a given trial wavefunction (as determined by the variationally determined ground-state eigenvector ${\\bf c}$,\n",
    "we can define the total energy as\n",
    "\\begin{equation}\n",
    "E = {\\bf c}^t {\\bf H} {\\bf c} \n",
    "\\end{equation}\n",
    "the kinetic energy as \n",
    "\\begin{equation}\n",
    "T = {\\bf c}^t {\\bf T} {\\bf c},\n",
    "\\end{equation}\n",
    "and the potential energy as \n",
    "\\begin{equation}\n",
    "V = {\\bf c}^t {\\bf V} {\\bf c}.\n",
    "\\end{equation}\n",
    "\n",
    "where ${\\bf c}^t$ is just the transpose of ${\\bf c}$. We will perform this computation for \n",
    "basis set sizes spanning `n_basis = 2` to `n_basis = 202`, and we will compare to the \n",
    "ground state and first excited state of the ordinary particle in a box ($E_1$ and $E_2$).\n"
   ]
  },
  {
   "cell_type": "code",
   "execution_count": 17,
   "metadata": {},
   "outputs": [],
   "source": [
    "# define the number of basis functions\n",
    "n_basis_list = []\n",
    "E_list = []\n",
    "T_list = []\n",
    "V_list = []\n",
    "E_1_list = []\n",
    "E_2_list = []\n",
    "for i in range(2,202, 2):\n",
    "    n_basis_list.append(i)\n",
    "    H, T, V = build_matrices(i)\n",
    "    e_t, c_t = np.linalg.eigh(H)\n",
    "    E_list.append(e_t[0])\n",
    "    T_c = np.dot(T, c_t[:,0])\n",
    "    T_list.append( np.dot( np.transpose(c_t[:,0]), T_c ) )\n",
    "    V_c = np.dot(V, c_t[:,0])\n",
    "    V_list.append( np.dot( np.transpose(c_t[:,0]), V_c ) )\n",
    "    E_1_list.append(T[0,0])\n",
    "    E_2_list.append(T[1,1])\n",
    "    \n",
    "    \n",
    "\n",
    "    \n",
    "    \n",
    "\n"
   ]
  },
  {
   "cell_type": "code",
   "execution_count": 15,
   "metadata": {},
   "outputs": [
    {
     "data": {
      "text/plain": [
       "<matplotlib.legend.Legend at 0x1267b3af0>"
      ]
     },
     "execution_count": 15,
     "metadata": {},
     "output_type": "execute_result"
    },
    {
     "data": {
      "image/png": "[encoded data removed]",
      "text/plain": [
       "<Figure size 640x480 with 1 Axes>"
      ]
     },
     "metadata": {},
     "output_type": "display_data"
    }
   ],
   "source": [
    "plt.plot(n_basis_list, E_list, label=\"E\")\n",
    "plt.plot(n_basis_list, T_list, label=\"T\")\n",
    "plt.plot(n_basis_list, V_list, label=\"V\")\n",
    "plt.plot(n_basis_list, E_1_list, label=\"E_1\")\n",
    "plt.plot(n_basis_list, E_2_list, label=\"E_2\")\n",
    "plt.legend()\n"
   ]
  }
 ],
 "metadata": {
  "kernelspec": {
   "display_name": "Python 3 (ipykernel)",
   "language": "python",
   "name": "python3"
  },
  "language_info": {
   "codemirror_mode": {
    "name": "ipython",
    "version": 3
   },
   "file_extension": ".py",
   "mimetype": "text/x-python",
   "name": "python",
   "nbconvert_exporter": "python",
   "pygments_lexer": "ipython3",
   "version": "3.11.11"
  },
  "vscode": {
   "interpreter": {
    "hash": "2463cbcb379b8a49ed799784d6e0033fd634b3823d327a76d1d60741708bab10"
   }
  }
 },
 "nbformat": 4,
 "nbformat_minor": 2
}