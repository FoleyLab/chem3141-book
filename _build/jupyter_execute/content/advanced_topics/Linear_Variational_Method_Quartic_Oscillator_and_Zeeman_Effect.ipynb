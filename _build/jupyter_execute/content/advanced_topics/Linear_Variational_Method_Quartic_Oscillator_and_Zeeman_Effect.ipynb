{
 "cells": [
  {
   "cell_type": "markdown",
   "id": "023AsRTfvIYI",
   "metadata": {
    "id": "023AsRTfvIYI"
   },
   "source": [
    "# Linear Variational Method - Anharmonic Oscillator\n",
    "Jay Foley, UNC Charlotte"
   ]
  },
  {
   "cell_type": "markdown",
   "id": "fc3d6571",
   "metadata": {},
   "source": [
    "# Run the next two cells before beginning!"
   ]
  },
  {
   "cell_type": "code",
   "execution_count": 1,
   "id": "6703398e",
   "metadata": {
    "id": "6703398e"
   },
   "outputs": [],
   "source": [
    "# library imports for the entire notebook\n",
    "import numpy as np\n",
    "from matplotlib import pyplot as plt\n",
    "import numpy as np\n",
    "from numpy import trapz\n",
    "from scipy.special import hermite\n",
    "from math import factorial\n",
    "\n",
    "# conversion factor from atomic units of energy to wavenumbers in inverse centimeters\n",
    "au_to_wn = 219474.63068"
   ]
  },
  {
   "cell_type": "code",
   "execution_count": 2,
   "id": "67da5a03",
   "metadata": {
    "id": "67da5a03"
   },
   "outputs": [],
   "source": [
    "def compute_alpha(k, mu):\n",
    "    \"\"\" Helper function to compute \\alpha = \\sqrt{k * \\omega / \\hbar}\n",
    "\n",
    "    Arguments\n",
    "    ---------\n",
    "    k : float\n",
    "        the Harmonic force constant\n",
    "\n",
    "    mu : float\n",
    "        the reduced mass\n",
    "\n",
    "    Returns\n",
    "    -------\n",
    "    alpha : float\n",
    "        \\alpha = \\sqrt{k * \\omega / \\hbar}\n",
    "\n",
    "    \"\"\"\n",
    "    # hbar\n",
    "    hbar = 1.0\n",
    "    # compute omega\n",
    "    omega = np.sqrt( k / mu )\n",
    "\n",
    "    # compute alpha\n",
    "    alpha =  mu * omega / hbar\n",
    "\n",
    "    # return alpha\n",
    "    return alpha\n",
    "\n",
    "def N(n, alpha):\n",
    "    \"\"\" Helper function to take the quantum number n of the Harmonic Oscillator and return the normalization constant\n",
    "\n",
    "    Arguments\n",
    "    ---------\n",
    "    n : int\n",
    "        the quantum state of the harmonic oscillator\n",
    "\n",
    "    Returns\n",
    "    -------\n",
    "    N_n : float\n",
    "        the normalization constant\n",
    "    \"\"\"\n",
    "\n",
    "    return  np.sqrt( 1 / (2 ** n * factorial(n)) ) * ( alpha / np.pi ) ** (1/4)\n",
    "\n",
    "def psi(n, alpha, r, r_eq):\n",
    "    \"\"\" Helper function to evaluate the Harmonic Oscillator energy eigenfunction for state n\n",
    "\n",
    "    Arguments\n",
    "    ---------\n",
    "    n : int\n",
    "        the quantum state of the harmonic oscillator\n",
    "\n",
    "    alpha : float\n",
    "        alpha value\n",
    "\n",
    "\n",
    "    r : float\n",
    "        position at which psi_n will be evaluated\n",
    "\n",
    "    r_eq : float\n",
    "        equilibrium bondlength\n",
    "\n",
    "    Returns\n",
    "    -------\n",
    "    psi_n : float\n",
    "        value of the harmonic oscillator energy eigenfunction\n",
    "\n",
    "    \"\"\"\n",
    "\n",
    "    Hr = hermite(n)\n",
    "\n",
    "    psi_n = N(n, alpha) * Hr( np.sqrt(alpha) * ( r - r_eq )) * np.exp( -0.5 * alpha  * (r - r_eq)**2)\n",
    "\n",
    "    return psi_n\n",
    "\n",
    "def harmonic_eigenvalue(n, k, mu):\n",
    "    \"\"\" Helper function to evaluate the energy eigenvalue of the harmonic oscillator for state n\"\"\"\n",
    "    hbar = 1.0\n",
    "    return hbar * np.sqrt(k/mu) * (n + 1/2)\n",
    "\n",
    "\n",
    "def potential_matrix_element(n, m, alpha, r, r_eq, V_p):\n",
    "    \"\"\" Helper function to compute <n|V_p|m> where V_p is the perturbing potential\n",
    "\n",
    "    Arguments\n",
    "    ---------\n",
    "    n : int\n",
    "        quantum number of the bra state\n",
    "\n",
    "    m : int\n",
    "        quantum number of the ket state\n",
    "\n",
    "    alpha : float\n",
    "        alpha constant for bra/ket states\n",
    "\n",
    "    r : float\n",
    "        position grid for bra/ket states\n",
    "\n",
    "    r_eq : float\n",
    "        equilibrium bondlength for bra/ket states\n",
    "\n",
    "    V_p : float\n",
    "        potential array\n",
    "\n",
    "    Returns\n",
    "    -------\n",
    "    V_nm : float\n",
    "        <n | V_p | m >\n",
    "\n",
    "    \"\"\"\n",
    "    # bra\n",
    "    psi_n = psi(n, alpha, r, r_eq)\n",
    "\n",
    "    # ket\n",
    "    psi_m = psi(m, alpha, r, r_eq)\n",
    "\n",
    "    # integrand\n",
    "    integrand = np.conj(psi_n) * V_p * psi_m\n",
    "\n",
    "    # integrate\n",
    "    V_nm = np.trapz(integrand, r)\n",
    "\n",
    "    return V_nm"
   ]
  },
  {
   "cell_type": "markdown",
   "id": "947240ff",
   "metadata": {
    "id": "947240ff"
   },
   "source": [
    "## Computing Fundamental Transition of CO under different levels of approximation using the linear variational method\n",
    "We will illustrate approximations to the vibrational transition energies, specifically the fundamental ($n=0 \\rightarrow n=1$) transition, using a quartic oscillator model for the diatomic molecule CO.  \n",
    "\n",
    "\n",
    "Within the Morse model, the vibrational Hamiltonian can be written as\n",
    "\\begin{equation}\n",
    "\\hat{H}_{vib} = -\\frac{\\hbar^2}{2\\mu} \\frac{d^2}{dr^2} + V_{Quartic}(r), \\tag{1}\n",
    "\\end{equation}\n",
    "where\n",
    "\\begin{equation}\n",
    "V_{Quartic}(r) = \\frac{1}{2} k (r - r_{eq})^2 + \\frac{1}{6}g (r - r_{eq})^3 + \\frac{1}{24} h (r - r_{eq})^4. \\tag{2}\n",
    "\\end{equation}\n",
    "\n",
    "We will express this Hamiltonian in atomic units, with the following values:\n",
    "\n",
    "| Parameter | Value      |\n",
    "| :-------- | :-------:  |\n",
    "| $r_{eq}$  | 2.1321            |\n",
    "| $\\mu$ | 12506.119134   |\n",
    "| $k$   | 1.56106        |\n",
    "| $g$   | -6.4419        |\n",
    "| $h$   | 20.67601       |\n",
    "\n",
    "\n",
    "### Approach\n",
    "We will compute the fundamental transition ($E_1 - E_0$) using the linear variational method to compute both $E_1$ and $E_0$.  Here we assume that the trial wavefunction is the following:\n",
    "\n",
    "$$ |\\phi(x)\\rangle = \\sum_{n=0}^{N_{max}} c_n |\\psi_n(x)\\rangle $$\n",
    "\n",
    "where $|\\psi_n(x)\\rangle$ represent the Harmonic oscillator energy eigenfunctions.  \n",
    "\n",
    "We will need to be able to build and diagonalize the matrix representation of the Hamiltonian, which has elements given by\n",
    "\n",
    "$$ H_{nm} = \\langle \\psi_n(x) | \\hat{H} | \\psi_m(x) \\rangle $$\n"
   ]
  },
  {
   "cell_type": "code",
   "execution_count": 3,
   "id": "225e5cbe",
   "metadata": {
    "id": "225e5cbe"
   },
   "outputs": [],
   "source": [
    "# assing value of r_eq\n",
    "r_eq_au = 2.1321\n",
    "\n",
    "# assign value of mu\n",
    "mu = 12506.119134\n",
    "\n",
    "# assign value of k\n",
    "k = 1.56106\n",
    "\n",
    "# assign value of g\n",
    "g = -6.4419\n",
    "\n",
    "# assign value of h\n",
    "h = 20.6760\n",
    "\n",
    "# create grid of r values\n",
    "r = np.linspace(0, 2.5 * r_eq_au, 500)\n",
    "\n",
    "# create harmonic potential on grid of r values\n",
    "V_H = 1/2 * k * (r - r_eq_au) ** 2\n",
    "\n",
    "# create cubic potential on grid of r values\n",
    "V_C = 1/6 * g * (r - r_eq_au) ** 3\n",
    "\n",
    "# create quartic potential on grid of r values\n",
    "V_Q = 1/24 * h * (r - r_eq_au) ** 4"
   ]
  },
  {
   "cell_type": "code",
   "execution_count": 4,
   "id": "1-GXr26ZwGQg",
   "metadata": {
    "colab": {
     "base_uri": "https://localhost:8080/"
    },
    "id": "1-GXr26ZwGQg",
    "outputId": "4ff97ca3-8213-4c66-d9b9-6740e7c5e427"
   },
   "outputs": [
    {
     "name": "stdout",
     "output_type": "stream",
     "text": [
      "Total Hamiltonian\n",
      "[[ 5.61932217e-03 -6.89496986e-04  9.36093827e-05 -5.62971931e-04\n",
      "   5.40454023e-05 -2.22970871e-20 -2.80608374e-20 -5.04889846e-20\n",
      "   1.85653683e-20 -2.26777019e-20]\n",
      " [-6.89496986e-04  1.69241583e-02 -1.95019198e-03  2.70227012e-04\n",
      "  -1.12594386e-03  1.20849193e-04 -1.83354571e-19  5.64028855e-20\n",
      "  -1.31763429e-19  9.69728934e-20]\n",
      " [ 9.36093827e-05 -1.95019198e-03  2.83613782e-02 -3.58273143e-03\n",
      "   5.35022187e-04 -1.78027356e-03  2.09316943e-04 -6.79256614e-19\n",
      "   2.07789320e-19 -1.60713571e-20]\n",
      " [-5.62971931e-04  2.70227012e-04 -3.58273143e-03  3.99309816e-02\n",
      "  -5.51597588e-03  8.88056579e-04 -2.51768702e-03  3.19736912e-04\n",
      "  -1.18250647e-18 -6.22638951e-19]\n",
      " [ 5.40454023e-05 -1.12594386e-03  5.35022187e-04 -5.51597588e-03\n",
      "   5.16329688e-02 -7.70881065e-03  1.32934113e-03 -3.33058686e-03\n",
      "   4.52176277e-04 -1.22735555e-18]\n",
      " [-2.18735706e-20  1.20849193e-04 -1.78027356e-03  8.88056579e-04\n",
      "  -7.70881065e-03  6.34673396e-02 -1.01334948e-02  1.85887902e-03\n",
      "  -4.21289617e-03  6.06658136e-04]\n",
      " [ 5.82048054e-21 -2.13000724e-19  2.09316943e-04 -2.51768702e-03\n",
      "   1.32934113e-03 -1.01334948e-02  7.54340940e-02 -1.27696629e-02\n",
      "   2.47667147e-03 -5.15972298e-03]\n",
      " [-3.72540948e-20  8.12200754e-21 -6.41987164e-19  3.19736912e-04\n",
      "  -3.33058686e-03  1.85887902e-03 -1.27696629e-02  8.75332321e-02\n",
      "  -1.56015358e-02  3.18271901e-03]\n",
      " [ 1.89888848e-20 -1.41927824e-19  2.28118110e-19 -1.10288537e-18\n",
      "   4.52176277e-04 -4.21289617e-03  2.47667147e-03 -1.56015358e-02\n",
      "   9.97647539e-02 -1.86164186e-02]\n",
      " [-5.73704300e-21  6.81737734e-20 -7.36695976e-20 -6.04004227e-19\n",
      "  -1.28156566e-18  6.06658136e-04 -5.15972298e-03  3.18271901e-03\n",
      "  -1.86164186e-02  1.12128659e-01]]\n",
      "Harmonic Hamiltonian\n",
      "[[0.00558623 0.         0.         0.         0.         0.\n",
      "  0.         0.         0.         0.        ]\n",
      " [0.         0.01675868 0.         0.         0.         0.\n",
      "  0.         0.         0.         0.        ]\n",
      " [0.         0.         0.02793113 0.         0.         0.\n",
      "  0.         0.         0.         0.        ]\n",
      " [0.         0.         0.         0.03910358 0.         0.\n",
      "  0.         0.         0.         0.        ]\n",
      " [0.         0.         0.         0.         0.05027604 0.\n",
      "  0.         0.         0.         0.        ]\n",
      " [0.         0.         0.         0.         0.         0.06144849\n",
      "  0.         0.         0.         0.        ]\n",
      " [0.         0.         0.         0.         0.         0.\n",
      "  0.07262094 0.         0.         0.        ]\n",
      " [0.         0.         0.         0.         0.         0.\n",
      "  0.         0.08379339 0.         0.        ]\n",
      " [0.         0.         0.         0.         0.         0.\n",
      "  0.         0.         0.09496585 0.        ]\n",
      " [0.         0.         0.         0.         0.         0.\n",
      "  0.         0.         0.         0.1061383 ]]\n",
      "The fundamental is 2420.691660943128 cm^-1\n",
      "The fundamental harmonic is 2452.069887228941\n"
     ]
    },
    {
     "name": "stderr",
     "output_type": "stream",
     "text": [
      "/var/folders/dp/63x0n7nd4_q9b8cbskjk1xpr0000gp/T/ipykernel_42797/3937728167.py:121: DeprecationWarning: `trapz` is deprecated. Use `trapezoid` instead, or one of the numerical integration functions in `scipy.integrate`.\n",
      "  V_nm = np.trapz(integrand, r)\n"
     ]
    }
   ],
   "source": [
    "# set the number of harmonic oscillator functions to use in the basis\n",
    "N_max = 10\n",
    "\n",
    "H_linear_variational = np.zeros((N_max, N_max))\n",
    "H_harmonic = np.zeros((N_max, N_max))\n",
    "\n",
    "# loop over bra states\n",
    "for n in range(N_max):\n",
    "    # loop over ket states\n",
    "    for m in range(N_max):\n",
    "        # compute alpha\n",
    "        alpha = compute_alpha(k, mu)\n",
    "        H_nm_Cubic = potential_matrix_element(n, m, alpha, r, r_eq_au, V_C)\n",
    "        H_nm_Quartic = potential_matrix_element(n, m, alpha, r, r_eq_au, V_Q)\n",
    "        H_nm_Harmonic = harmonic_eigenvalue(m, k, mu) * (n == m)\n",
    "        #print(F\"H {n,m} Harmonic = {H_nm_Harmonic}\")\n",
    "        #print(F\"H {n,m} Cubic = {H_nm_Cubic}\")\n",
    "        #print(F\"H {n,m} Quartic = {H_nm_Quartic}\")\n",
    "        H_nm = H_nm_Harmonic + H_nm_Cubic + H_nm_Quartic\n",
    "        #print(F\"H {n,m} = {H_nm}\")\n",
    "        H_linear_variational[n, m] = H_nm\n",
    "        H_harmonic[n, m] = H_nm_Harmonic\n",
    "\n",
    "print(\"Total Hamiltonian\")\n",
    "print(H_linear_variational)\n",
    "\n",
    "print(\"Harmonic Hamiltonian\")\n",
    "print(H_harmonic)\n",
    "\n",
    "vals, vecs = np.linalg.eigh(H_linear_variational)\n",
    "fundamental = (vals[1] - vals[0]) * au_to_wn\n",
    "print(F'The fundamental is {fundamental} cm^-1')\n",
    "\n",
    "fundamental_harmonic = (H_harmonic[1,1] - H_harmonic[0,0]) * au_to_wn\n",
    "print(F'The fundamental harmonic is {fundamental_harmonic}')"
   ]
  },
  {
   "cell_type": "code",
   "execution_count": 5,
   "id": "1d82af2c",
   "metadata": {
    "colab": {
     "base_uri": "https://localhost:8080/",
     "height": 455
    },
    "id": "1d82af2c",
    "outputId": "d322b0ae-0a1a-46b7-becc-b82e4eb6439b"
   },
   "outputs": [
    {
     "data": {
      "image/png": "[encoded data removed]",
      "text/plain": [
       "<Figure size 640x480 with 1 Axes>"
      ]
     },
     "metadata": {},
     "output_type": "display_data"
    }
   ],
   "source": [
    "plt.plot(r, V_H, 'r--', label=\"Harmonic Potential\")\n",
    "plt.plot(r, V_H + V_C, 'b--', label=\"Cubic Potential\")\n",
    "plt.plot(r, V_H + V_C + V_Q, 'g--', label=\"Quartic Potential\")\n",
    "plt.xlim(0.5 * r_eq_au, 2.5 * r_eq_au)\n",
    "plt.ylim(0, 1)\n",
    "plt.xlabel(\"Bondlength (Bohr radii)\")\n",
    "plt.ylabel(\"Energy (Hartrees)\")\n",
    "plt.legend()\n",
    "plt.show()"
   ]
  },
  {
   "cell_type": "markdown",
   "id": "f48a7225",
   "metadata": {
    "id": "f48a7225"
   },
   "source": [
    "# Compute the fundamental transition energies\n",
    "Now we will compute the fundamental transition energies at all levels of theory and plot the results in both atomic units and in wavenumbers."
   ]
  },
  {
   "cell_type": "code",
   "execution_count": null,
   "id": "E1mqmhcJZEOd",
   "metadata": {
    "id": "E1mqmhcJZEOd"
   },
   "outputs": [],
   "source": []
  }
 ],
 "metadata": {
  "colab": {
   "provenance": []
  },
  "kernelspec": {
   "display_name": "Python 3 (ipykernel)",
   "language": "python",
   "name": "python3"
  },
  "language_info": {
   "codemirror_mode": {
    "name": "ipython",
    "version": 3
   },
   "file_extension": ".py",
   "mimetype": "text/x-python",
   "name": "python",
   "nbconvert_exporter": "python",
   "pygments_lexer": "ipython3",
   "version": "3.11.0"
  }
 },
 "nbformat": 4,
 "nbformat_minor": 5
}