{
 "cells": [
  {
   "cell_type": "code",
   "execution_count": 1,
   "id": "79405478",
   "metadata": {},
   "outputs": [
    {
     "name": "stdout",
     "output_type": "stream",
     "text": [
      "Effective charge of HF is -0.4688158269027078 atomic units\n"
     ]
    },
    {
     "data": {
      "image/png": "[encoded data removed]",
      "text/plain": [
       "<Figure size 640x480 with 1 Axes>"
      ]
     },
     "metadata": {},
     "output_type": "display_data"
    }
   ],
   "source": [
    "import numpy as np\n",
    "from matplotlib import pyplot as plt\n",
    "from morse import Morse\n",
    "from numpy import linalg as la\n",
    "from matplotlib import cm\n",
    "from matplotlib import rcParams\n",
    "\n",
    "rcParams['font.family'] = 'serif'\n",
    "rcParams['font.size'] = 10\n",
    "\n",
    "\n",
    "# Atom masses in atomic mass units\n",
    "mH, mF = 1., 19.\n",
    "\n",
    "# Equilibrium bondlength in meters\n",
    "re = 0.915801e-10\n",
    "\n",
    "# dipole moment of HF at the equilibrium bondlength\n",
    "dipole_au = -0.8113388\n",
    "\n",
    "# frequency of second overtone in cm^-1\n",
    "omega_p_so_wn = 3979.09\n",
    "omega_p_so_au = omega_p_so_wn / 219474.63068\n",
    "\n",
    "\n",
    "# potential energy at minimum, ok to set at zero\n",
    "Te = 0\n",
    "\n",
    "# Morse parameters in atomic units \n",
    "we_au, wexe_au = 0.01911889333688861, 0.0004944018798851136\n",
    "# Morse parameters in wavenumbers\n",
    "we, wexe = 4196.112054123941, 108.50866999528301\n",
    "\n",
    "# create Morse object \n",
    "X = Morse(mH, mF, we, wexe, re, Te, dipole_au, 0.001, omega_p_so_au)\n",
    "\n",
    "# create Morse grid - will make grids in SI (self.r) and atomic units (self.r_au)\n",
    "X.make_rgrid()\n",
    "\n",
    "# create Morse potential on SI grid, will make potential in SI (self.V) and atomic units (self.V_au)\n",
    "X.V = X.Vmorse(X.r)\n",
    "\n",
    "\n",
    "print(F'Effective charge of HF is {X.q_au} atomic units')\n",
    "\n",
    "\n",
    "# plot Morse potential in atomic units\n",
    "plt.plot(X.r_au, X.V_au)\n",
    "plt.xlabel(\"Bond length (atomic units)\")\n",
    "plt.ylabel(\"Potential (atomic units)\")\n",
    "plt.show()"
   ]
  },
  {
   "cell_type": "code",
   "execution_count": 2,
   "id": "ec0d0539-e4f6-4394-96a1-96d8e1e3c4e3",
   "metadata": {},
   "outputs": [
    {
     "name": "stdout",
     "output_type": "stream",
     "text": [
      "0.6329039491176327\n",
      "-2.4842370287369446\n",
      "7.584095389875678\n"
     ]
    }
   ],
   "source": [
    "De_au = X.De * 2.294e+17 \n",
    "\n",
    "a_au = X.a / 1.89e+10\n",
    "\n",
    "k = 2 * De_au * a_au ** 2\n",
    "print(k)\n",
    "g = -6 * De_au * a_au ** 3\n",
    "print(g)\n",
    "h = 14 * De_au * a_au ** 4\n",
    "print(h)"
   ]
  },
  {
   "cell_type": "markdown",
   "id": "623dddde-221f-439a-beec-30b5cd023e25",
   "metadata": {},
   "source": [
    "Recall the three coupled Hamiltonians:\n",
    "p dot A Hamiltonian,\n",
    "\\begin{equation}\n",
    "    \\hat{H}_{\\rm p \\cdot A} = \\frac{\\hat{p}^2}{2m} + V(\\hat{x})  + \\hbar \\omega \\hat{b}^{\\dagger} \\hat{b} -  \\frac{z}{m} \\hat{p} \\cdot  {\\bf A}_0 ( \\hat{b}^{\\dagger} + \\hat{b}) + \\frac{z^2}{2m}  {\\bf A}_0^2 ( \\hat{b}^{\\dagger} + \\hat{b})^2,\n",
    "\\end{equation}\n",
    "the d dot E Hamiltonian,\n",
    "\\begin{equation}\n",
    "    \\hat{H}_{\\rm d \\cdot E} = \\frac{\\hat{p}^2}{2m} + V(\\hat{x}) + \\hbar \\omega \\hat{b}^{\\dagger} \\hat{b} + i\\omega \\hat{\\mu} \\cdot {\\bf A}_0 ( \\hat{b}^{\\dagger} - \\hat{b}) +\\frac{\\omega_{{\\rm cav}}}{\\hbar} ( \\hat{\\mu} \\cdot {\\bf A}_0)^2\n",
    "\\end{equation}\n",
    "or the Pauli-Fierz (PF) Hamiltonian,\n",
    "\\begin{equation}\n",
    "    \\hat{H}_{\\rm d \\cdot E} = \\frac{\\hat{p}^2}{2m}+ V(\\hat{x}) + \\hbar \\omega \\hat{b}^{\\dagger} \\hat{b} - \\omega \\hat{\\mu} \\cdot {\\bf A}_0 ( \\hat{b}^{\\dagger} + \\hat{b}) +\\frac{\\omega_{{\\rm cav}}}{\\hbar} ( \\hat{\\mu} \\cdot {\\bf A}_0)^2\n",
    "\\end{equation}\n",
    "\n",
    "The matter Hamiltonian terms $\\frac{\\hat{p}^2}{2m} + V(\\hat{x})$ have been solved by either our Morse, quartic perturbation, or finite difference approach and our photon Hamiltonian term $\\hbar \\omega \\hat{b}^{\\dagger} \\hat{b}$ is also already known.  We need to evaluate \n",
    "the additional coupling elements.  For the d.E and PF Hamiltonians, the coupling elements will involve matter matrix elements with of the form \n",
    "\\begin{equation}\n",
    "\\langle \\psi_i | \\hat{\\mu} | \\psi_f \\rangle = z \\langle \\psi_i | \\hat{x} | \\psi_f \\rangle\n",
    "\\end{equation}\n",
    "and the p.A Hamiltonian will have matrix elements of the form\n",
    "\\begin{equation}\n",
    "\\langle \\psi_i | \\hat{p} | \\psi_f \\rangle = i m \\left(E_i - E_f \\right) \\langle \\psi_i | \\hat{x} | \\psi_f \\rangle\n",
    "\\end{equation}\n",
    "where $E_n$ is the energy associated with matter state $n$, $m$ is the reduced mass, and $i$ is the imaginary unit.  Hence, we need to be able to compute matrix elements of the position operator with our matter states.  \n"
   ]
  },
  {
   "cell_type": "code",
   "execution_count": 3,
   "id": "eb007d24-fef0-4686-8899-4de1502dc68d",
   "metadata": {},
   "outputs": [
    {
     "name": "stdout",
     "output_type": "stream",
     "text": [
      " Basis states\n",
      "[(0, 0), (1, 0), (2, 0), (3, 0), (4, 0), (5, 0), (6, 0), (7, 0), (8, 0), (9, 0), (0, 1), (1, 1), (2, 1), (3, 1), (4, 1), (5, 1), (6, 1), (7, 1), (8, 1), (9, 1), (0, 2), (1, 2), (2, 2), (3, 2), (4, 2), (5, 2), (6, 2), (7, 2), (8, 2), (9, 2), (0, 3), (1, 3), (2, 3), (3, 3), (4, 3), (5, 3), (6, 3), (7, 3), (8, 3), (9, 3), (0, 4), (1, 4), (2, 4), (3, 4), (4, 4), (5, 4), (6, 4), (7, 4), (8, 4), (9, 4), (0, 5), (1, 5), (2, 5), (3, 5), (4, 5), (5, 5), (6, 5), (7, 5), (8, 5), (9, 5), (0, 6), (1, 6), (2, 6), (3, 6), (4, 6), (5, 6), (6, 6), (7, 6), (8, 6), (9, 6), (0, 7), (1, 7), (2, 7), (3, 7), (4, 7), (5, 7), (6, 7), (7, 7), (8, 7), (9, 7), (0, 8), (1, 8), (2, 8), (3, 8), (4, 8), (5, 8), (6, 8), (7, 8), (8, 8), (9, 8), (0, 9), (1, 9), (2, 9), (3, 9), (4, 9), (5, 9), (6, 9), (7, 9), (8, 9), (9, 9)]\n",
      "-0.4688158269027078\n"
     ]
    }
   ],
   "source": [
    "# Build mixed matter - photon basis\n",
    "X.photon_dim = 10\n",
    "X.matter_dim = 10\n",
    "X.build_basis()\n",
    "print(\" Basis states\")\n",
    "print(X.basis)\n",
    "print(X.q_au)"
   ]
  },
  {
   "cell_type": "code",
   "execution_count": 4,
   "id": "e6ec964c-449a-48dc-8485-0acc67caa7e9",
   "metadata": {},
   "outputs": [
    {
     "ename": "KeyboardInterrupt",
     "evalue": "",
     "output_type": "error",
     "traceback": [
      "\u001b[31m---------------------------------------------------------------------------\u001b[39m",
      "\u001b[31mKeyboardInterrupt\u001b[39m                         Traceback (most recent call last)",
      "\u001b[36mCell\u001b[39m\u001b[36m \u001b[39m\u001b[32mIn[4]\u001b[39m\u001b[32m, line 15\u001b[39m\n\u001b[32m     13\u001b[39m X.build_d_dot_E_Hamiltonian()\n\u001b[32m     14\u001b[39m X.build_p_dot_A_Hamiltonian()\n\u001b[32m---> \u001b[39m\u001b[32m15\u001b[39m X.build_PF_Hamiltonian()\n\u001b[32m     16\u001b[39m vals_PdA, vecs_PdA = la.eigh(X.H_p_dot_A)\n\u001b[32m     17\u001b[39m vals_DdE, vecs_EdE = la.eigh(X.H_d_dot_E)\n",
      "\u001b[36mFile \u001b[39m\u001b[32m~/Code/chem3141-book-files/chem3141-book/content/advanced_topics/morse.py:468\u001b[39m, in \u001b[36mMorse.build_PF_Hamiltonian\u001b[39m\u001b[34m(self)\u001b[39m\n\u001b[32m    466\u001b[39m \u001b[38;5;28mself\u001b[39m.H_dse[i,j]   = \u001b[38;5;28mself\u001b[39m.compute_dipole_self_energy_element(bra_m, bra_p, ket_m, ket_p)\n\u001b[32m    467\u001b[39m \u001b[38;5;28mself\u001b[39m.H_pho [i,j]   = \u001b[38;5;28mself\u001b[39m.compute_photon_element(bra_m, bra_p, ket_m, ket_p)\n\u001b[32m--> \u001b[39m\u001b[32m468\u001b[39m \u001b[38;5;28mself\u001b[39m.H_coup[i,j]   = \u001b[38;5;28mself\u001b[39m.compute_coupling_element_PF(bra_m, bra_p, ket_m, ket_p)\n\u001b[32m    469\u001b[39m \u001b[38;5;28mself\u001b[39m.H_PF[i,j] = \u001b[38;5;28mself\u001b[39m.H_matter[i,j] + \u001b[38;5;28mself\u001b[39m.H_dse[i,j] + \u001b[38;5;28mself\u001b[39m.H_pho[i,j] + \u001b[38;5;28mself\u001b[39m.H_coup[i,j]\n",
      "\u001b[36mFile \u001b[39m\u001b[32m~/Code/chem3141-book-files/chem3141-book/content/advanced_topics/morse.py:323\u001b[39m, in \u001b[36mMorse.compute_coupling_element_PF\u001b[39m\u001b[34m(self, bra_m, bra_p, ket_m, ket_p)\u001b[39m\n\u001b[32m    320\u001b[39m A0 = \u001b[38;5;28mself\u001b[39m.A0_au\n\u001b[32m    322\u001b[39m \u001b[38;5;66;03m# <m|\\hat{x}|m'>\u001b[39;00m\n\u001b[32m--> \u001b[39m\u001b[32m323\u001b[39m x_val = \u001b[38;5;28mself\u001b[39m.position_matrix_element(bra_m, ket_m)\n\u001b[32m    325\u001b[39m coupling_val = -\u001b[32m1\u001b[39m * z * omega * A0 * x_val * (np.sqrt(ket_p + \u001b[32m1\u001b[39m ) * (bra_p == ket_p + \u001b[32m1\u001b[39m) + np.sqrt(ket_p) * (bra_p == ket_p - \u001b[32m1\u001b[39m))\n\u001b[32m    326\u001b[39m \u001b[38;5;28;01mreturn\u001b[39;00m coupling_val\n",
      "\u001b[36mFile \u001b[39m\u001b[32m~/Code/chem3141-book-files/chem3141-book/content/advanced_topics/morse.py:491\u001b[39m, in \u001b[36mMorse.position_matrix_element\u001b[39m\u001b[34m(self, i, j)\u001b[39m\n\u001b[32m    471\u001b[39m \u001b[38;5;28;01mdef\u001b[39;00m\u001b[38;5;250m \u001b[39m\u001b[34mposition_matrix_element\u001b[39m(\u001b[38;5;28mself\u001b[39m, i, j):\n\u001b[32m    472\u001b[39m \u001b[38;5;250m    \u001b[39m\u001b[33;03m\"\"\" A function to compute position matrix elements between states i and j using grid x\u001b[39;00m\n\u001b[32m    473\u001b[39m \n\u001b[32m    474\u001b[39m \u001b[33;03m    Arguments\u001b[39;00m\n\u001b[32m   (...)\u001b[39m\u001b[32m    489\u001b[39m \n\u001b[32m    490\u001b[39m \u001b[33;03m    \"\"\"\u001b[39;00m\n\u001b[32m--> \u001b[39m\u001b[32m491\u001b[39m     \u001b[38;5;28mself\u001b[39m.calc_psi_z(i)\n\u001b[32m    492\u001b[39m     psi_i = \u001b[38;5;28mself\u001b[39m.psi_au\n\u001b[32m    493\u001b[39m     \u001b[38;5;28mself\u001b[39m.calc_psi_z(j)\n",
      "\u001b[36mFile \u001b[39m\u001b[32m~/Code/chem3141-book-files/chem3141-book/content/advanced_topics/morse.py:209\u001b[39m, in \u001b[36mMorse.calc_psi_z\u001b[39m\u001b[34m(self, v)\u001b[39m\n\u001b[32m    206\u001b[39m z = \u001b[38;5;28mself\u001b[39m.z \n\u001b[32m    207\u001b[39m alpha = \u001b[32m2\u001b[39m*(\u001b[38;5;28mself\u001b[39m.lam - v) - \u001b[32m1\u001b[39m\n\u001b[32m    208\u001b[39m psi = (z**(\u001b[38;5;28mself\u001b[39m.lam-v-\u001b[32m0.5\u001b[39m) * np.exp(-z/\u001b[32m2\u001b[39m) *\n\u001b[32m--> \u001b[39m\u001b[32m209\u001b[39m        genlaguerre(v, alpha)(z))\n\u001b[32m    210\u001b[39m Nv = np.sqrt(factorial(v) * (\u001b[32m2\u001b[39m*\u001b[38;5;28mself\u001b[39m.lam - \u001b[32m2\u001b[39m*v - \u001b[32m1\u001b[39m) /\n\u001b[32m    211\u001b[39m              gamma(\u001b[32m2\u001b[39m*\u001b[38;5;28mself\u001b[39m.lam - v))\n\u001b[32m    213\u001b[39m \u001b[38;5;28mself\u001b[39m.psi_si = psi * Nv\n",
      "\u001b[36mFile \u001b[39m\u001b[32m~/miniconda3/envs/jbook/lib/python3.11/site-packages/scipy/special/_orthogonal.py:662\u001b[39m, in \u001b[36mgenlaguerre\u001b[39m\u001b[34m(n, alpha, monic)\u001b[39m\n\u001b[32m    660\u001b[39m \u001b[38;5;28;01melse\u001b[39;00m:\n\u001b[32m    661\u001b[39m     n1 = n\n\u001b[32m--> \u001b[39m\u001b[32m662\u001b[39m x, w = roots_genlaguerre(n1, alpha)\n\u001b[32m    663\u001b[39m \u001b[38;5;28;01mdef\u001b[39;00m\u001b[38;5;250m \u001b[39m\u001b[34mwfunc\u001b[39m(x):\n\u001b[32m    664\u001b[39m     \u001b[38;5;28;01mreturn\u001b[39;00m exp(-x) * x ** alpha\n",
      "\u001b[36mFile \u001b[39m\u001b[32m~/miniconda3/envs/jbook/lib/python3.11/site-packages/scipy/special/_orthogonal.py:504\u001b[39m, in \u001b[36mroots_genlaguerre\u001b[39m\u001b[34m(n, alpha, mu)\u001b[39m\n\u001b[32m    499\u001b[39m     \u001b[38;5;28;01mreturn\u001b[39;00m pp\n\u001b[32m    501\u001b[39m \u001b[38;5;66;03m# Generalized Laguerre               L^(alpha)_n(x)\u001b[39;00m\n\u001b[32m--> \u001b[39m\u001b[32m504\u001b[39m \u001b[38;5;28;01mdef\u001b[39;00m\u001b[38;5;250m \u001b[39m\u001b[34mroots_genlaguerre\u001b[39m(n, alpha, mu=\u001b[38;5;28;01mFalse\u001b[39;00m):\n\u001b[32m    505\u001b[39m \u001b[38;5;250m    \u001b[39m\u001b[33mr\u001b[39m\u001b[33;03m\"\"\"Gauss-generalized Laguerre quadrature.\u001b[39;00m\n\u001b[32m    506\u001b[39m \n\u001b[32m    507\u001b[39m \u001b[33;03m    Compute the sample points and weights for Gauss-generalized\u001b[39;00m\n\u001b[32m   (...)\u001b[39m\u001b[32m    542\u001b[39m \n\u001b[32m    543\u001b[39m \u001b[33;03m    \"\"\"\u001b[39;00m\n\u001b[32m    544\u001b[39m     m = \u001b[38;5;28mint\u001b[39m(n)\n",
      "\u001b[31mKeyboardInterrupt\u001b[39m: "
     ]
    }
   ],
   "source": [
    "# plot lowest 4 eigenvalues for each representation\n",
    "A_vals = np.array([0, 0.002, 0.004, 0.006, 0.008, 0.010, 0.012, 0.014, 0.016, 0.018, 0.02]) \n",
    "\n",
    "N_roots = len(X.basis)\n",
    "\n",
    "pda_vals = np.zeros((11,N_roots))\n",
    "dde_vals = np.zeros((11,N_roots))\n",
    "pf_vals = np.zeros((11,N_roots))\n",
    "\n",
    "idx = 0\n",
    "for Av in A_vals:\n",
    "    X.A0_au = Av\n",
    "    X.build_d_dot_E_Hamiltonian()\n",
    "    X.build_p_dot_A_Hamiltonian()\n",
    "    X.build_PF_Hamiltonian()\n",
    "    vals_PdA, vecs_PdA = la.eigh(X.H_p_dot_A)\n",
    "    vals_DdE, vecs_EdE = la.eigh(X.H_d_dot_E)\n",
    "    vals_PF, vecs_PF = la.eigh(X.H_PF)\n",
    "    pda_vals[idx,:] = np.copy(vals_PdA)\n",
    "    dde_vals[idx,:] = np.copy(vals_DdE)\n",
    "    pf_vals[idx,:] = np.copy(vals_PF)\n",
    "    idx += 1\n"
   ]
  },
  {
   "cell_type": "code",
   "execution_count": null,
   "id": "567193be-8467-4618-978b-19ad85a913c5",
   "metadata": {},
   "outputs": [],
   "source": [
    "COLOUR1 = \"firebrick\"\n",
    "COLOUR2 = \"darkgreen\"\n",
    "COLOUR3 = \"royalblue\"\n",
    "COLOUR4 = \"rebeccapurple\"\n",
    "COLOUR5 = 'darkorchid'\n",
    "COLOUR6 = 'olivedrab'\n",
    "    \n",
    "plt.plot(A_vals, pda_vals[:,0] * X.au_to_wn, color=COLOUR1, linestyle=\"solid\", marker=\"s\", ms=\"8\", mfc=COLOUR1, label=\"p . A\")\n",
    "plt.plot(A_vals, pf_vals[:,0] * X.au_to_wn, color=COLOUR2, linestyle=\"solid\", marker=\"s\", ms=\"8\", mfc=\"none\", label=\"PF\")\n",
    "plt.plot(A_vals, dde_vals[:,0] * X.au_to_wn, color=COLOUR3, linestyle=\"dashed\", marker=\"o\", ms=\"6\", mfc=COLOUR3, label=\"d . E\")\n",
    "plt.ylim(4060.4735,4060.4775)\n",
    "plt.xlabel(\"A$_0$ (atomic units)\")\n",
    "plt.ylabel(\"Ground state energy (cm$^{-1}$)\")\n",
    "plt.tight_layout()\n",
    "plt.legend()\n",
    "plt.savefig(\"Ground_state_coupled_system_fundamental_all_hamiltonians.png\", dpi=200)\n",
    "plt.show()\n"
   ]
  },
  {
   "cell_type": "code",
   "execution_count": null,
   "id": "ccb4ec18-8fbc-475c-93cd-70a0ce226ae5",
   "metadata": {},
   "outputs": [],
   "source": [
    "plt.plot(A_vals, pda_vals[:,1] * X.au_to_wn, color=COLOUR1, linestyle=\"solid\", marker=\"s\", ms=\"8\", mfc=COLOUR1, label=\"p . A\")\n",
    "plt.plot(A_vals, pf_vals[:,1] * X.au_to_wn, color=COLOUR2, linestyle=\"solid\", marker=\"s\", ms=\"8\", mfc=\"none\", label=\"PF\")\n",
    "plt.plot(A_vals, dde_vals[:,1] * X.au_to_wn, color=COLOUR3, linestyle=\"dashed\", marker=\"o\", ms=\"6\", mfc=COLOUR3, label=\"d . E\")\n",
    "plt.plot(A_vals, pda_vals[:,2] * X.au_to_wn, color=COLOUR1, linestyle=\"solid\", marker=\"s\", ms=\"8\", mfc=COLOUR1)\n",
    "plt.plot(A_vals, pf_vals[:,2] * X.au_to_wn, color=COLOUR2, linestyle=\"solid\", marker=\"s\", ms=\"8\", mfc=\"none\")\n",
    "plt.plot(A_vals, dde_vals[:,2] * X.au_to_wn, color=COLOUR3, linestyle=\"dashed\", marker=\"o\", ms=\"6\", mfc=COLOUR3)\n",
    "plt.xlabel(\"A$_0$ (atomic units)\")\n",
    "plt.ylabel(\"Polariton Energies (cm$^{-1}$)\")\n",
    "plt.tight_layout()\n",
    "plt.legend()\n",
    "plt.savefig(\"Polariton_Energies_coupled_system_fundamental_all_hamiltonians.png\", dpi=200)\n",
    "plt.show()"
   ]
  },
  {
   "cell_type": "code",
   "execution_count": null,
   "id": "34f115dc-755b-47ba-8cd1-bde2df125cc8",
   "metadata": {},
   "outputs": [],
   "source": [
    "pda_Rabi_splitting_au = pda_vals[10,2]-pda_vals[10,1]\n",
    "pda_Rabi_splitting_wn = pda_Rabi_splitting_au * X.au_to_wn\n",
    "\n",
    "dde_Rabi_splitting_au = dde_vals[10,2]-dde_vals[10,1]\n",
    "dde_Rabi_splitting_wn = dde_Rabi_splitting_au * X.au_to_wn\n",
    "\n",
    "pf_Rabi_splitting_au = pf_vals[10,2]-pf_vals[10,1]\n",
    "pf_Rabi_splitting_wn = pf_Rabi_splitting_au * X.au_to_wn\n",
    "\n",
    "print(F' The p.A Rabi splitting in atomic units is {pda_Rabi_splitting_au:8.2e}')\n",
    "print(F' The p.A Rabi splitting in wavenumbers is  {pda_Rabi_splitting_wn:8.2f}')\n",
    "print(F' The d.E Rabi splitting in atomic units is {dde_Rabi_splitting_au:8.2e}')\n",
    "print(F' The d.E Rabi splitting in wavenumbers is  {dde_Rabi_splitting_wn:8.2f}')\n",
    "print(F' The PF Rabi splitting in atomic units is  {pf_Rabi_splitting_au:8.2e}')\n",
    "print(F' The PF Rabi splitting in wavenumbers is   {pf_Rabi_splitting_wn:8.2f}')\n",
    "      "
   ]
  }
 ],
 "metadata": {
  "kernelspec": {
   "display_name": "Python 3 (ipykernel)",
   "language": "python",
   "name": "python3"
  },
  "language_info": {
   "codemirror_mode": {
    "name": "ipython",
    "version": 3
   },
   "file_extension": ".py",
   "mimetype": "text/x-python",
   "name": "python",
   "nbconvert_exporter": "python",
   "pygments_lexer": "ipython3",
   "version": "3.11.0"
  }
 },
 "nbformat": 4,
 "nbformat_minor": 5
}