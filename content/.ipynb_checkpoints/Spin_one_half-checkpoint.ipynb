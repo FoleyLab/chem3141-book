{
 "cells": [
  {
   "cell_type": "markdown",
   "id": "d849ac90",
   "metadata": {
    "id": "d849ac90"
   },
   "source": [
    "# Chapter 2: Introduction to Spin 1/2\n",
    "[Jay Foley, University of North Carolina Charlotte](https://foleylab.github.io/)\n",
    "\n",
    "#### Learning Outcomes\n",
    "By the end of this workbook, students should be able to\n",
    "- Identify the eigenstates of z-spin\n",
    "- Use the eigenstates of z-spin as a basis for computing expectation values of x-spin and y-spin \n",
    "- Explain the concept of matrix representations of operators\n",
    "- Utilize NumPy to build matrix representations of operators\n",
    "- Utilize NumPy to identify eigenstates of x-spin and y-spin\n",
    "- Utilize NumPy to confirm the commutation relations for the matrix representations of operators\n",
    "- Use the Design Recipe to compose functions\n",
    "\n",
    "\n",
    "#### Summary\n",
    "We will use Python and NumPy to illustrate basic formalism of spin 1/2 in quantum mechanics.  We assume familiarity with this formalism; for background on this topic, we recommend you read [this chapter on Spin](https://foleylab.github.io/chem3141-book/content/note05.md).  \n",
    "\n",
    "Spin angular momentum is an observable in quantum mechanics and has\n",
    "associated operators with eigenstates.  Traditionally, the components of angular momentum are represented along the $x$, $y$, and $z$ axes, and we have \n",
    "Hermitian operators associated with each component ($\\hat{S}_x, \\hat{S}_y, \\hat{S}_z$), along with the square magnitude $\\hat{S}^2$.  For particles like electrons, protons, and neutrons, these component operators \n",
    "all have exactly two eigenstates with eigenvalues $\\pm \\frac{1}{2}\\hbar$; hence we talk about the formalism of spin for these systems as the formalism of spin 1/2.\n",
    "In this workbook, we will introduce matrix representations of each of these component operators, and the eigenstates will then have vector representations.  We will specifically introduce the eigenvectors of the matrix associated with $\\hat{S}_z$ as the basis vectors for any state of spin 1/2.  We will then be able to write the matrices associated with \n",
    "$\\hat{S}_x$ and $\\hat{S}_y$ in this basis, and perform useful computations with them, including finding their eigenstates and verifying so-called commutation relations between these operators."
   ]
  },
  {
   "cell_type": "markdown",
   "id": "9b6a9845",
   "metadata": {
    "id": "9b6a9845"
   },
   "source": [
    "# Import statements\n",
    "Python has intrinsic functionality as a programming language, but there are also many special-purpose libraries that are helpful.  Here we will use the library `numpy` for numerical computing."
   ]
  },
  {
   "cell_type": "code",
   "execution_count": null,
   "id": "21528317",
   "metadata": {
    "id": "21528317"
   },
   "outputs": [],
   "source": [
    "import numpy as np\n",
    "from numpy import linalg as la"
   ]
  },
  {
   "cell_type": "markdown",
   "id": "mgSXTlJpxehq",
   "metadata": {
    "id": "mgSXTlJpxehq"
   },
   "source": [
    "# Functions\n",
    "In Python, functions are reusable blocks of code designed to perform specific tasks. They help organize code, making it more modular and easier to maintain. A function is defined using the `def` keyword, followed by a name, parentheses `()`, and a colon `:`. Inside the function, you can include any number of statements that define what the function does. Functions can take inputs, called parameters, and can return a value after processing. By calling a function by its name, you can execute the code within it whenever needed, making your programs more efficient and easier to understand.\n",
    "\n",
    "Here's an example function that multipies an input number by 3:\n",
    "\n",
    "```\n",
    "def multiply_by_three(x):\n",
    "    \"\"\"\n",
    "    Multiplies the input by three.\n",
    "    \n",
    "    Arguments\n",
    "    ---------\n",
    "    x: A number to be multiplied by three.\n",
    "    \n",
    "    Returns\n",
    "    -------\n",
    "    result: The input multiplied by three.\n",
    "    \n",
    "    Example:\n",
    "    multiply_by_three(5) == 15\n",
    "    \"\"\"\n",
    "    result = 3 * x\n",
    "    return result\n",
    "```\n",
    "\n",
    "**Important** Your function must be indented relative to the `def` statement.\n",
    "\n",
    "We will use a practice called [Design Recipe](https://www.cs.toronto.edu/~ahchinaei/teaching/20165/csc148/function_design_recipe.pdf) to design our functions.  \n",
    "The Design Recipe can be implemented in the following steps:\n",
    "\n",
    "1. **Header:** Define the function's name, input parameters, and their data types. Specify the data type of the return value.\n",
    "2. **Purpose:** Write a concise one-line description explaining the function's purpose.\n",
    "3. **Examples:** Provide examples of how to call the function with different inputs and the expected outputs. These examples will be used to test the function.\n",
    "4. **Body:** Write the actual code that implements the function's logic, based on the header, purpose, and examples.\n",
    "5. **Test** Test your function aon all your example cases; try to identify additional tricky cases.\n",
    "6. **Debug/Iterate** If your tests fail, re-read your code, check your logic, check your syntax, and fix any mistakes that you catch.  If you cannot catch mistakes, think about additional test cases that can help reveal flaws in your logic.  Continue until your function passes tests.\n",
    "\n",
    "We will illustrate this process by examining a function that will print a message some specified number of times, and also return the repeated message.  We want the repeated message to be printed all on a single line, and we do not want any spaces between the sub-messages.\n",
    "\n",
    "Let's go through this step-by-step:\n",
    "\n",
    "1. **Header** Doest the function name make sense?  Are the input parameters adequate for what we will need to pass to the function?  Is the return statement adequate for what we want the function to return?\n",
    "\n",
    "2. **Purpose** Does the purpose string adequatly capture the functions behavior?\n",
    "\n",
    "3. **Examples** One example is given; add a second example!\n",
    "\n",
    "4. **Body** Read the body of the function and track what is happening in each line.\n",
    "\n",
    "5. **Test** Test your code against your two examples!\n",
    "\n",
    "6. **Debug/Iterate** Did your tests pass?  If yes, great!  If not, you know what to do!"
   ]
  },
  {
   "cell_type": "code",
   "execution_count": null,
   "id": "HluGlUv1ddtW",
   "metadata": {
    "colab": {
     "base_uri": "https://localhost:8080/"
    },
    "id": "HluGlUv1ddtW",
    "outputId": "1a2bfae1-f690-4678-b460-fdf2683bf5a9"
   },
   "outputs": [
    {
     "name": "stdout",
     "output_type": "stream",
     "text": [
      "HelloHelloHello\n",
      "byebye\n",
      "PChem\n"
     ]
    }
   ],
   "source": [
    "def print_message_multiple_times(message, times):\n",
    "    \"\"\"\n",
    "    Prints a given string a specified number of times and returns the concatenated result.\n",
    "\n",
    "    Arguments\n",
    "    ---------\n",
    "        message : the message you want to print\n",
    "\n",
    "        times   : The number of times the message should be repeated.\n",
    "\n",
    "    Returns:\n",
    "        repeated_message : The concatenated message repeated 'times' times.\n",
    "\n",
    "    Example:\n",
    "        print_message_multiple_times(\"Hello\", 3)\n",
    "        Output:\n",
    "        HelloHelloHello\n",
    "    \"\"\"\n",
    "    # Concatenate the message 'times' times\n",
    "    repeated_message = message * times\n",
    "\n",
    "    # print the repeated message\n",
    "    print(repeated_message)\n",
    "\n",
    "    # return it\n",
    "    return repeated_message\n",
    "\n",
    "# test against first example\n",
    "assert print_message_multiple_times(\"Hello\", 3) == \"HelloHelloHello\"\n",
    "\n",
    "assert print_message_multiple_times(\"bye\", 2) == \"byebye\"\n",
    "\n",
    "assert print_message_multiple_times(\"PChem\", 1) == \"PChem\""
   ]
  },
  {
   "cell_type": "markdown",
   "id": "9RMD24j-oJQs",
   "metadata": {
    "id": "9RMD24j-oJQs"
   },
   "source": [
    "We used an [assert](https://www.programiz.com/python-programming/assert-statement) statement to test our functions execution.  Simply put, if an assert statement is followed by something that is True, nothing happens, but if it is followed by something that is False, it gives an error.  Assert statements are used widely in testing, where you set up a test to give a False if the test fails and a True if it passes.  This way when the assert meets a passing tests, the program moves on smoothly, and if it meets a failing test, it stops immediately.\n",
    "\n",
    "**What statement evaluated to True in our first test?**\n",
    "\n",
    "**Some Questions**. Think back to our function `print_repeated_message(message, times)`.  \n",
    "\n",
    "- What type of variable was `message`?\n",
    "- What type of variable was `times`?\n",
    "- What would happen if we only included the `print(repeated_message)` statement and not the `return` statement?\n",
    "- What would happen if we only included the `return repeated_message` statment and not the `print` statement?\n"
   ]
  },
  {
   "cell_type": "markdown",
   "id": "T3WKJYGV4xxt",
   "metadata": {
    "id": "T3WKJYGV4xxt"
   },
   "source": []
  },
  {
   "cell_type": "markdown",
   "id": "c8f39e10",
   "metadata": {
    "id": "c8f39e10"
   },
   "source": [
    "## Numpy matrices: Spinors and spin matrices\n",
    "Numpy matrices are special types of variables that can make use of different mathematical operation in the numpy library.  We will see that a lot of linear algebra operations can be performed with numpy matrices using very simple syntax.  Numpy matrices are always 2-dimensional (unlike numpy arrays which can have arbitrary dimension),\n",
    "we will use 2-dimensional numpy matrices with\n",
    "a single column and multiple rows to denote a column vector as a representation of a ket.  We can take the Hermitian conjugate of our kets to get bras, which are represented as row vectors.\n",
    "\n",
    "Here we will introduce the vector representation of special spin states (spinors) that have precise value of z-spin, that is, they are the eigenstates of the $\\hat{S}_z$ operator:\n",
    "\n",
    "\\begin{equation}\n",
    "|\\alpha \\rangle=\n",
    "\\begin{bmatrix}\n",
    "  1 \\\\\n",
    "  0 \\\\\n",
    "\\end{bmatrix}\n",
    "\\end{equation}\n",
    "\n",
    "\n",
    "\\begin{equation}\n",
    "|\\beta \\rangle =\n",
    "\\begin{bmatrix}\n",
    "  0 \\\\\n",
    "  1 \\\\\n",
    "\\end{bmatrix}\n",
    "\\end{equation}\n",
    "\n",
    "We refer to these column vector representations of states as kets.\n",
    "\n",
    "$|\\alpha\\rangle$ can be formed using the following syntax:\n",
    "`ket_alpha = np.matrix('1; 0')`\n",
    "\n",
    "We can get the number of rows and number of columns (the shape) of this vector using `np.shape(ket_alpha)`."
   ]
  },
  {
   "cell_type": "code",
   "execution_count": null,
   "id": "a36ab6a7",
   "metadata": {
    "colab": {
     "base_uri": "https://localhost:8080/"
    },
    "id": "a36ab6a7",
    "outputId": "b58e7822-8a98-4949-c7f7-9a7b3f886f94"
   },
   "outputs": [
    {
     "name": "stdout",
     "output_type": "stream",
     "text": [
      "|alpha>\n",
      "[[1]\n",
      " [0]]\n",
      "(2, 1)\n",
      "|beta>\n",
      "[[0]\n",
      " [1]]\n"
     ]
    }
   ],
   "source": [
    "# insert code to assign ket alpha\n",
    "ket_alpha = np.matrix('1 ; 0')\n",
    "\n",
    "\n",
    "# insert code to assign ket beta\n",
    "ket_beta = np.matrix('0 ; 1')\n",
    "\n",
    "# insert code to print both kets\n",
    "print(\"|alpha>\")\n",
    "print(ket_alpha)\n",
    "print(np.shape(ket_alpha))\n",
    "\n",
    "print(\"|beta>\")\n",
    "print(ket_beta)\n",
    "\n",
    "\n"
   ]
  },
  {
   "cell_type": "markdown",
   "id": "8f75c4f8",
   "metadata": {
    "id": "8f75c4f8"
   },
   "source": [
    "We can form the bras corresponding to these kets by taking the complex conjugate and transpose of the column vectors we have just formed.  The result will be row vectors, keeping the correspondence to the \"bra\" - \"ket\" convention.\n",
    "\n",
    "$$ \\langle \\alpha | = |\\alpha \\rangle ^{\\dagger} = [1^* \\: 0^*] $$\n",
    "\n",
    "$$ \\langle \\beta| = |\\beta \\rangle ^{\\dagger} = [0^* \\: 1^*]$$\n",
    "\n",
    "This operation can be computed using the following syntax:\n",
    "`bra_alpha = ket_alpha.H`\n",
    "\n",
    "You can compute the shape of the bras in the same way as you used for the kets; take note of how the shape changes."
   ]
  },
  {
   "cell_type": "code",
   "execution_count": null,
   "id": "05a0f223",
   "metadata": {
    "colab": {
     "base_uri": "https://localhost:8080/"
    },
    "id": "05a0f223",
    "outputId": "f95115c6-addc-449c-ab4d-dbbd5593c188"
   },
   "outputs": [
    {
     "name": "stdout",
     "output_type": "stream",
     "text": [
      "<alpha|\n",
      "[[1 0]]\n",
      "<beta|\n",
      "[[0 1]]\n"
     ]
    }
   ],
   "source": [
    "# insert code to assign bra alpha as adjoint of ket alpha\n",
    "bra_alpha = ket_alpha.H\n",
    "\n",
    "# insert code to assign bra beta as adjoint of ket beta\n",
    "bra_beta = ket_beta.H\n",
    "\n",
    "# insert code to print both bras\n",
    "print(\"<alpha|\")\n",
    "print(bra_alpha)\n",
    "\n",
    "print(\"<beta|\")\n",
    "print(bra_beta)\n"
   ]
  },
  {
   "cell_type": "markdown",
   "id": "510d294e",
   "metadata": {
    "id": "510d294e"
   },
   "source": [
    "## Computing the bra-ket\n",
    "We can view the bra-ket (also called the inner product between the bra and the ket) as a test of how much the state in the bra projects on to the state in the ket.  The answer can be anywhere between 0 (the states do not project onto each other at all, they are orthogonal states, they do not overlap at all) to 1 (these states perfectly project onto one another, they have perfect overlap, they are identical states).  We know (or will soon learn) that the spin states are orthonormal states: they have perfect overlap with themselves and zero overlap with each other.  This is codified with the following mathematical statements\n",
    "\n",
    "$$\\langle \\chi_n | \\chi_m\\rangle = \\delta_{nm} $$\n",
    "\n",
    "where where have used the Kronecker delta function $\\delta_{nm} = 0$ if $n\\neq m$ and $\\delta_{nm} = 1$ if $n=m$ and\n",
    "we are using $\\chi_n$ and $\\chi_m$ to represent arbitrary spin states.\n",
    "\n",
    "With their vector representations, we can compute the bra-ket using the dot product as follows:\n",
    "`bra_ket_aa = bra_alpha * ket_alpha`\n",
    "\n",
    "## Function to compute the bra-ket\n",
    "Let's write a function that will compute the bra-ket for any arbitrary\n",
    "bra state and any arbitrary ket state.  \n",
    "\n",
    "1. **Header** What should we name the function?  What input parameters should the function accept?  What should their data types be?  What will the function return?  What data type will it be?\n",
    "\n",
    "2. **Purpose** What is a single sentence that describes the purpose of the function?\n",
    "\n",
    "3. **Examples** Come up with 2 examples where different messages are printed different numbers of times.\n",
    "\n",
    "4. **Body** Now attempt to write the body of your function.  \n",
    "\n",
    "5. **Test** Test your code against your examples.\n",
    "\n",
    "6. **Debug/Iterate** Did your tests pass?  If yes, great!  If not, you know what to do!"
   ]
  },
  {
   "cell_type": "code",
   "execution_count": null,
   "id": "TthbeidtHJ0H",
   "metadata": {
    "id": "TthbeidtHJ0H"
   },
   "outputs": [],
   "source": [
    "def bra_ket_solve(choose_bra, choose_ket):\n",
    "  \"\"\" A function to compute the bra-ket between choose_bra and choose_ket and return the value\n",
    "\n",
    "  Arguments\n",
    "  ---------\n",
    "  choose_bra : a row vector representing <choose_bra|\n",
    "\n",
    "  choose_ket : a column vector representing |choose_ket>\n",
    "\n",
    "  Returns\n",
    "  -------\n",
    "  bra_ket_val : a number representing the value of <choose_bra | choose_ket>\n",
    "\n",
    "  Examples\n",
    "  --------\n",
    "  bra_ket_solve(np.matrix('1 0'), np.matrix('1 ; 0')) == 1\n",
    "  bra_ket_solve(np.matrix('0 1'), np.matrix('1 ; 0')) == 0\n",
    "  \"\"\"\n",
    "  bra_ket_val = choose_bra * choose_ket\n",
    "  return bra_ket_val"
   ]
  },
  {
   "cell_type": "markdown",
   "id": "J_-6sespG5Wh",
   "metadata": {
    "id": "J_-6sespG5Wh"
   },
   "source": [
    "When thinking about examples, consider the possible brakets we could compute with the alpha and beta states we defined above:\n",
    "\n",
    "\\begin{align}\n",
    "\\langle \\alpha | \\alpha \\rangle \\\\\n",
    "\\langle \\alpha | \\beta \\rangle \\\\\n",
    "\\langle \\beta | \\alpha \\rangle \\\\\n",
    "\\langle \\beta | \\beta \\rangle\n",
    "\\end{align}\n",
    "\n",
    "**Think about what you expect the results to be and write these into your examples!**"
   ]
  },
  {
   "cell_type": "code",
   "execution_count": null,
   "id": "b0775882",
   "metadata": {
    "id": "b0775882"
   },
   "outputs": [],
   "source": [
    "# insert code to compute <alpha|alpha> and store to bra_ket_aa\n",
    "bra_ket_aa = bra_ket_solve(bra_alpha, ket_alpha)\n",
    "\n",
    "# insert code to compute <alpha|beta> and store to bra_ket_ab\n",
    "bra_ket_ab = bra_ket_solve(bra_alpha, ket_beta)\n",
    "\n",
    "# insert code to compute <beta|alpha> and store to bra_ket_ba\n",
    "bra_ket_ba = bra_ket_solve(bra_beta, ket_alpha)\n",
    "\n",
    "# insert code to compute <beta|beta> and store to bra_ket_bb\n",
    "bra_ket_bb = bra_ket_solve(bra_beta, ket_beta)\n",
    "\n",
    "# define what we expect the brakets to give\n",
    "_expected_bra_ket_aa = 1\n",
    "_expected_bra_ket_ab = 0\n",
    "_expected_bra_ket_ba = 0\n",
    "_expected_bra_ket_bb = 1\n",
    "\n",
    "# test1: does bra_ket_aa match the expected value?\n",
    "assert np.isclose(bra_ket_aa, _expected_bra_ket_aa)\n",
    "\n",
    "# add test2\n",
    "assert np.isclose(bra_ket_ab, _expected_bra_ket_ab)\n",
    "\n",
    "# add test 3\n",
    "assert np.isclose(bra_ket_ba, _expected_bra_ket_ba)\n",
    "\n",
    "# add test 4\n",
    "assert np.isclose(bra_ket_bb, _expected_bra_ket_bb)\n"
   ]
  },
  {
   "cell_type": "markdown",
   "id": "dfacb04b",
   "metadata": {
    "id": "dfacb04b"
   },
   "source": [
    "## Numpy arrays: Matrices\n",
    "We will use 2-dimensional numpy arrays with\n",
    "a an equal number of rows and columns to denote square matrices.  \n",
    "Let's use as an example matrix representation of the $\\hat{S}_z$ operator.\n",
    "\n",
    "\\begin{equation}\n",
    "\\mathbb{S}_z = \\frac{\\hbar}{2}\n",
    "\\begin{bmatrix}\n",
    "  1 & 0 \\\\\n",
    "  0 & -1 \\\\\n",
    "\\end{bmatrix}\n",
    "\\end{equation}\n",
    "\n",
    "\n",
    "$\\mathbb{S}_z$ can be formed using the following syntax:\n",
    "`Sz = hbar / 2 * np.matrix(' 1 0 ; 0 -1')`\n",
    "\n",
    "You can take the shape of the Sz matrix as before; take note of how its shape compares to the shape of the bras and kets.\n",
    "\n",
    "**Note** The value of $\\hbar$ in atomic units is 1."
   ]
  },
  {
   "cell_type": "code",
   "execution_count": null,
   "id": "a7022d3c",
   "metadata": {
    "colab": {
     "base_uri": "https://localhost:8080/"
    },
    "id": "a7022d3c",
    "outputId": "8d139a5e-1f4c-4b9b-9d69-53f66a4e2a95"
   },
   "outputs": [
    {
     "name": "stdout",
     "output_type": "stream",
     "text": [
      "[[ 0.5  0. ]\n",
      " [ 0.  -0.5]]\n",
      "(2, 2)\n"
     ]
    }
   ],
   "source": [
    "# define hbar in atomic units\n",
    "hbar = 1\n",
    "\n",
    "# insert code to define the Sz matrix\n",
    "Sz = hbar / 2 * np.matrix('1 0 ; 0 -1')\n",
    "\n",
    "# insert code to print the matrix\n",
    "print(Sz)\n",
    "\n",
    "# print shape of Sz\n",
    "print(np.shape(Sz))"
   ]
  },
  {
   "cell_type": "markdown",
   "id": "5b2f67b3",
   "metadata": {
    "id": "5b2f67b3"
   },
   "source": [
    "## Matrix-vector products\n",
    "An important property of the basis kets $|\\alpha \\rangle$ and $|\\beta \\rangle$ is that they are eigenstates of the $\\hat{S}_z$ operator satisfying\n",
    "\n",
    "$$ \\hat{S}_z |\\alpha \\rangle = +\\frac{\\hbar}{2}|\\alpha \\rangle $$\n",
    "\n",
    "$$ \\hat{S}_z |\\beta\\rangle = -\\frac{\\hbar}{2}|\\beta \\rangle $$\n",
    "\n",
    "This property should be preserved with the matrix and vector representations of these operators and states, respectively.  We can confirm this by taking the matrix-vector product between $\\mathbb{S}_z$ and the vectors corresponding to these basis kets using the syntax\n",
    "\n",
    "`Sz_ket_a = Sz * ket_alpha`\n",
    "\n",
    "\n",
    "## Function to compute the action of an operator on a state\n",
    "Let's write a function that will compute the action of the matrix representation of an operator on an arbitrary ket state\n",
    "\n",
    "\n",
    "1. **Header** What should we name the function?  What input parameters should the function accept?  What should their data types be?  What will the function return?  What data type will it be?\n",
    "\n",
    "2. **Purpose** What is a single sentence that describes the purpose of the function?\n",
    "\n",
    "3. **Examples** Come up with 2 examples where different messages are printed different numbers of times.\n",
    "\n",
    "4. **Body** Now attempt to write the body of your function.  \n",
    "\n",
    "5. **Test** Test your code against your examples.\n",
    "\n",
    "6. **Debug/Iterate** Did your tests pass?  If yes, great!  If not, you know what to do!"
   ]
  },
  {
   "cell_type": "code",
   "execution_count": null,
   "id": "SXG3_aSQH3GH",
   "metadata": {
    "id": "SXG3_aSQH3GH"
   },
   "outputs": [],
   "source": [
    "def operator_state_solve(operator, ket_state):\n",
    "  \"\"\"\n",
    "  To compute action of an operator on a state\n",
    "\n",
    "  Arguments\n",
    "  ---------\n",
    "  operator : numpy matrix representing an operator\n",
    "\n",
    "  ket_state : numpy matrix representing a ket state (column vector)\n",
    "\n",
    "  Returns\n",
    "  -------\n",
    "  new_ket : numpy matrix representing the resulting ket\n",
    "\n",
    "  Example\n",
    "  -------\n",
    "  operator_state_solve(Sz, ket_alpha) == 0.5 * hbar * ket_alpha\n",
    "  operator_state_solve(Sz, ket_beta) == -0.5 * hbar * ket_beta\n",
    "\n",
    "  \"\"\"\n",
    "  new_ket = operator * ket_state\n",
    "  return new_ket\n",
    "\n"
   ]
  },
  {
   "cell_type": "markdown",
   "id": "uc_uPE2-Hyj4",
   "metadata": {
    "id": "uc_uPE2-Hyj4"
   },
   "source": [
    "When thinking about examples, consider the two examples we just illustrated above.\n",
    "\n",
    "\n",
    "**Think about what you expect the results to be and write these into your examples!**"
   ]
  },
  {
   "cell_type": "code",
   "execution_count": null,
   "id": "518f6394",
   "metadata": {
    "colab": {
     "base_uri": "https://localhost:8080/"
    },
    "id": "518f6394",
    "outputId": "bbee1d8f-f1b2-4c38-ab78-c0e1235ccc01"
   },
   "outputs": [
    {
     "name": "stdout",
     "output_type": "stream",
     "text": [
      "[[ 0. ]\n",
      " [-0.5]]\n"
     ]
    }
   ],
   "source": [
    "# compute product of Sz and ket_alpha and store to Sz_on_ket_alpha\n",
    "Sz_on_ket_alpha = operator_state_solve(Sz, ket_alpha)\n",
    "\n",
    "# compute product of Sz and ket_beta and store to Sz_on_ket_beta\n",
    "Sz_on_ket_beta = operator_state_solve(Sz, ket_beta)\n",
    "\n",
    "# define expected output of Sz on |alpha>\n",
    "_expected_Sz_on_ket_alpha = 0.5 * hbar * ket_alpha\n",
    "assert np.allclose(Sz_on_ket_alpha, _expected_Sz_on_ket_alpha)\n",
    "\n",
    "# print product of Sz and ket_beta\n",
    "print(Sz_on_ket_beta)"
   ]
  },
  {
   "cell_type": "markdown",
   "id": "5ebbd429",
   "metadata": {
    "id": "5ebbd429"
   },
   "source": [
    "## Hermitian matrices\n",
    "The matrix representations of operators in quantum mechanics are called Hermitian matrices.  Hermitian matrices have the special relationship that they are equal to their adjoint (i.e., their complex conjugate transpose or Hermitian transpose).  \n",
    "\n",
    "You can confirm that $\\mathbb{S}_z$ is Hermitian by the following syntax:\n",
    "\n",
    "`Sz_adjoint = Sz.H`\n",
    "\n",
    "which computes the adjoint of Sz, and then\n",
    "\n",
    "`print(np.allclose(Sz_adjoint, Sz))`\n",
    "\n",
    "where the first line computes the adjoint of $\\mathbb{S}_z$ and stores it to a variable `Sz_adjoint` and\n",
    "the second line prints the result of comparing all elements of `Sz_adjoint` to `Sz`.  The return value of `True` will\n",
    "indicate that `Sz_adjoint` is numerically equal to `Sz`."
   ]
  },
  {
   "cell_type": "code",
   "execution_count": null,
   "id": "d2c7ec8b",
   "metadata": {
    "colab": {
     "base_uri": "https://localhost:8080/"
    },
    "id": "d2c7ec8b",
    "outputId": "3c96be45-878b-48e2-a567-023806a8270e"
   },
   "outputs": [
    {
     "name": "stdout",
     "output_type": "stream",
     "text": [
      "True\n"
     ]
    }
   ],
   "source": [
    "# Confirm Sz is Hermitian here\n",
    "Sz_adjoint = Sz.H\n",
    "print(np.allclose(Sz_adjoint, Sz))"
   ]
  },
  {
   "cell_type": "markdown",
   "id": "b561924d",
   "metadata": {
    "id": "b561924d"
   },
   "source": [
    "## Eigenvalues and eigenvectors\n",
    "An important property of Hermitian matrices is that their eigevalues are real numbers.  In quantum mechanics, we associate the possible outcomes of measurements with the eigenvalues of Hermitian operators corresponding to the observable being measured.  In this notebook, we have been talking about the observable of spin angular momentum, which is a vector quantity. We have been specifically looking at the operators and eigenstates related to the z-component of spin angular momentum, denoted $S_z$. We have seen that this operator has two eigenstates,\n",
    "$|\\chi_{\\alpha}^{(z)}\\rangle$ and $|\\chi_{\\beta}^{(z)}\\rangle$ with associated eigenvalues $\\frac{\\hbar}{2}$ and $-\\frac{\\hbar}{2}$, which are both real numbers.  \n",
    "\n",
    "These relationships are preserved when we use the matrix - vector representation of operators and eigenstates.  In general, an eigenvalue equation with matrices and vectors satisfies\n",
    "\n",
    "$$ \\mathbb{M} \\bf{x} = \\lambda \\bf{x} $$\n",
    "\n",
    "where $\\lambda$ is an eigenvalue (which is a number) and $\\bf{x}$ is an eigenvector.  One way of interpreting these equations is to say that the action of a matrix on its eigenvectors is simply to scale the magnitude of the vector by a number (specifically, scale it by its eigenvalue).  This is a very special situation, because typically speaking, when a vector is multiplied by a matrix, the result is a new vector that points along a new direction and has a different magnitude.  For a lovely explanation with graphical illustrations, please consult [this vide](https://youtu.be/PFDu9oVAE-g).  In fact, the entire 3b1b series on linear algebra is wonderful!\n",
    "\n",
    "We have already seen that vectors associated with the basis kets $|\\chi_{\\alpha}^{(z)}\\rangle$ and $|\\chi_{\\beta}^{(z)}\\rangle$ obey this relationship with $\\mathbb{S}_z$.  What we will now do, is consider the matrices associated with the spin angular momentum components along $x$ and $y$.  We will first see that the\n",
    "basis kets $|\\chi_{\\alpha}^{(z)}\\rangle$ and $|\\chi_{\\beta}^{(z)}\\rangle$ are not eigenvectors of $\\mathbb{S}_x$ and $\\mathbb{S}_y$.  We will then use numpy's linear algebra sub-library to compute the eigenvalues and eigenvectors of these matrices, which will turn out to be linear combinations of $|\\chi_{\\alpha}^{(z)}\\rangle$ and $|\\chi_{\\beta}^{(z)}\\rangle$.  \n",
    "\n",
    "### Build matrix form of $\\mathbb{S}_x$ and $\\mathbb{S}_y$\n",
    "The operator $\\hat{S}_x$ has the matrix form\n",
    "\\begin{equation}\n",
    "\\mathbb{S}_x = \\frac{\\hbar}{2}\n",
    "\\begin{bmatrix}\n",
    "  0 & 1 \\\\\n",
    "  1 & 0 \\\\\n",
    "\\end{bmatrix}\n",
    "\\end{equation}\n",
    "and the operator $\\hat{S}_y$ has the matrix form\n",
    "\\begin{equation}\n",
    "\\mathbb{S}_y = \\frac{\\hbar}{2}\n",
    "\\begin{bmatrix}\n",
    "  0 & -i \\\\\n",
    "  i & 0 \\\\\n",
    "\\end{bmatrix}.\n",
    "\\end{equation}\n",
    "\n",
    "**Hint** The imaginary unit $i = \\sqrt{-1}$ can be accessed as `1j` in python."
   ]
  },
  {
   "cell_type": "code",
   "execution_count": null,
   "id": "76254128",
   "metadata": {
    "colab": {
     "base_uri": "https://localhost:8080/"
    },
    "id": "76254128",
    "outputId": "5d5dce43-4bfe-4661-8772-5071b05bbf41"
   },
   "outputs": [
    {
     "name": "stdout",
     "output_type": "stream",
     "text": [
      "[[0.  0.5]\n",
      " [0.5 0. ]]\n",
      "[[0.+0.j  0.-0.5j]\n",
      " [0.+0.5j 0.+0.j ]]\n"
     ]
    }
   ],
   "source": [
    "# insert code to build Sx\n",
    "Sx = hbar / 2 * np.matrix('0 1 ; 1 0')\n",
    "\n",
    "# insert code to build Sy\n",
    "Sy = hbar / 2 * np.matrix('0 -1j ; 1j 0')\n",
    "\n",
    "# print Sx\n",
    "print(Sx)\n",
    "\n",
    "# print Sy\n",
    "print(Sy)"
   ]
  },
  {
   "cell_type": "markdown",
   "id": "92c6ceee",
   "metadata": {
    "id": "92c6ceee"
   },
   "source": [
    "### Take matrix-vector product of $\\mathbb{S}_x$ and $\\mathbb{S}_y$ with the basis kets\n",
    "Just as we did with $\\mathbb{S}_z$, take the following matrix-vector products:\n",
    "$$ \\mathbb{S}_x |\\chi_{\\alpha}^{(z)}\\rangle $$\n",
    "$$ \\mathbb{S}_x |\\chi_{\\beta}^{(z)}\\rangle $$\n",
    "$$ \\mathbb{S}_y |\\chi_{\\alpha}^{(z)}\\rangle $$\n",
    "$$ \\mathbb{S}_y |\\chi_{\\beta}^{(z)}\\rangle $$\n",
    "\n",
    "**Question 1:** After inspecting the results of each matrix-vector product, do you think the basis kets are eigenstates of\n",
    "$\\mathbb{S}_x$ and $\\mathbb{S}_y$?  Explain your reasoning.\n",
    "\n",
    "**Question 2:** What is the shape of the result of each matrix-vector product?\n"
   ]
  },
  {
   "cell_type": "code",
   "execution_count": null,
   "id": "11d5d8ff",
   "metadata": {
    "id": "11d5d8ff"
   },
   "outputs": [],
   "source": [
    "# compute product of Sx and ket_alpha and store to Sx_ket_a; print it\n",
    "\n",
    "\n",
    "# compute product of Sx and ket_beta and store to Sx_ket_b; print it\n",
    "\n",
    "\n",
    "# compute product of Sy and ket_beta and store to Sy_ket_b; print it\n",
    "\n",
    "\n",
    "# compute product of Sy and ket_alpha and store to Sy_ket_b; print it\n",
    "\n",
    "\n"
   ]
  },
  {
   "cell_type": "markdown",
   "id": "2d5951ef",
   "metadata": {
    "id": "2d5951ef"
   },
   "source": [
    "### Use `eigh()` to compute the eigenvectors and eigenvalues of $\\mathbb{S}_x$ and $\\mathbb{S}_y$\n",
    "Numpy has a linear algebra library that can compute eigenvalues and eigenvectors of Hermitian matrices that is called using the syntax\n",
    "\n",
    "`eigenvalues, eigenvectors = la.eigh(M)`\n",
    "\n",
    "where `eigenvalues` will store all of the eigenvectors and `eigenvectors` will store all the eigenvectors.  \n",
    "Use this method to compute the eigenvalues and eigenvectors of $\\mathbb{S}_x$ and $\\mathbb{S}_y$.\n",
    "\n",
    "**Note** A namedtuple with the following attributes:\n",
    "eigenvectors[:, i] is the normalized eigenvector corresponding to the eigenvalue eigenvalues[i].\n",
    "\n",
    "\n",
    "**Question 3:** What is the shape of the vals_x?  What is the shape of vecs_x?\n",
    "\n",
    "**Question 4:** Do these matrices have the same eigenvalues as $\\mathbb{S}_z$?  Do they have the same eigenvectors as $\\mathbb{S}_z$?"
   ]
  },
  {
   "cell_type": "code",
   "execution_count": null,
   "id": "17bda9c5",
   "metadata": {
    "id": "17bda9c5",
    "outputId": "91edb4fc-059a-4c05-9303-f2ddc5549044"
   },
   "outputs": [
    {
     "ename": "NameError",
     "evalue": "name 'vals_x' is not defined",
     "output_type": "error",
     "traceback": [
      "\u001b[0;31m---------------------------------------------------------------------------\u001b[0m",
      "\u001b[0;31mNameError\u001b[0m                                 Traceback (most recent call last)",
      "Cell \u001b[0;32mIn [12], line 13\u001b[0m\n\u001b[1;32m      1\u001b[0m \u001b[38;5;66;03m# compute eigenvectors and eigenvalues of Sx, store them to vals_x, vecs_x\u001b[39;00m\n\u001b[1;32m      2\u001b[0m \n\u001b[1;32m      3\u001b[0m \n\u001b[0;32m   (...)\u001b[0m\n\u001b[1;32m      9\u001b[0m \n\u001b[1;32m     10\u001b[0m \u001b[38;5;66;03m# print shape of vecs_x\u001b[39;00m\n\u001b[0;32m---> 13\u001b[0m \u001b[38;5;28mprint\u001b[39m(\u001b[43mvals_x\u001b[49m)\n\u001b[1;32m     14\u001b[0m \u001b[38;5;28mprint\u001b[39m(vecs_x)\n\u001b[1;32m     15\u001b[0m \u001b[38;5;28mprint\u001b[39m(vals_y)\n",
      "\u001b[0;31mNameError\u001b[0m: name 'vals_x' is not defined"
     ]
    }
   ],
   "source": [
    "# compute eigenvectors and eigenvalues of Sx, store them to vals_x, vecs_x\n",
    "\n",
    "\n",
    "# compute eigenvectors and eigenvalues of Sy, store them to vals_y, vecs_y\n",
    "\n",
    "\n",
    "# print shape of vals_x\n",
    "\n",
    "\n",
    "# print shape of vecs_x\n",
    "\n",
    "\n",
    "print(vals_x)\n",
    "print(vecs_x)\n",
    "print(vals_y)\n",
    "print(vecs_y)"
   ]
  },
  {
   "cell_type": "markdown",
   "id": "8a1f741d",
   "metadata": {
    "id": "8a1f741d"
   },
   "source": [
    "### Expectation values\n",
    "Another important operation in quantum mechanics is the computation of an expectation value, which can be written as a bra-ket sandwiching an operator:\n",
    "\n",
    "$$ \\langle n | \\hat{O}| m \\rangle. $$\n",
    "\n",
    "The result will depend on what $\\hat{O}$ does to $|m\\rangle$, and how the resulting ket projects upon $\\langle n|$.\n",
    "\n",
    "We can use the different eigenvectors from our last block as kets, and their adjoints as bras, along with the matrix form of the operators to compute these operations.  \n",
    "\n",
    "`expectation_value = bra * Operator * ket`\n",
    "\n",
    "\n",
    "\n",
    "## Function to compute an expectation value\n",
    "Let's write a function that will compute an expectation value with an arbitrary operator on an arbitrary state\n",
    "\n",
    "\n",
    "1. **Header** What should we name the function?  What input parameters should the function accept?  What should their data types be?  What will the function return?  What data type will it be?\n",
    "\n",
    "2. **Purpose** What is a single sentence that describes the purpose of the function?\n",
    "\n",
    "3. **Examples** Come up with 2 examples where different messages are printed different numbers of times.\n",
    "\n",
    "4. **Body** Now attempt to write the body of your function.  \n",
    "\n",
    "5. **Test** Test your code against your examples.\n",
    "\n",
    "6. **Debug/Iterate** Did your tests pass?  If yes, great!  If not, you know what to do!\n",
    "\n",
    "\n",
    "**Question 5:** If we associate $|\\chi_{\\alpha}^{(x)}\\rangle$ with `vec_x[:,1]`, what is the expectation value corresponding to $\\langle \\chi_{\\alpha}^{(x)} | \\hat{S}_x | \\chi_{\\alpha}^{(x)} \\rangle $?\n",
    "\n",
    "**Question 6:** If we associate $|\\chi_{\\alpha}^{(y)}\\rangle$ with `vec_y[:,1]`, what is the expectation value corresponding to $\\langle \\chi_{\\alpha}^{(y)} | \\hat{S}_z | \\chi_{\\alpha}^{(y)} \\rangle $?"
   ]
  },
  {
   "cell_type": "code",
   "execution_count": null,
   "id": "050dc8c3",
   "metadata": {
    "id": "050dc8c3"
   },
   "outputs": [],
   "source": [
    "# Compute <alpha_x|Sx|alpha_x>; print the result\n",
    "\n",
    "# Compute <alpha_y|Sz|alpha_y>; print the result"
   ]
  },
  {
   "cell_type": "markdown",
   "id": "f4f73b71",
   "metadata": {
    "id": "f4f73b71"
   },
   "source": [
    "### Commutators\n",
    "We will learn later in 3141 about generalized uncertainty relations.  An important mathematical operation in formulation of uncertainty relations is the commutator, which can be taken between two operators or two matrices representing operators.  The commutator between operators $\\hat{A}$ and $\\hat{B}$ can be written as\n",
    "\n",
    "$$ [\\hat{A}, \\hat{B}] = \\hat{A} \\hat{B} - \\hat{B} \\hat{A} $$,\n",
    "and the same relation holds for the matrix form of the operators.\n",
    "A few things we should note about commutators right now is:\n",
    "1. If the equation above goes to zero, we say the operators commute\n",
    "2. If the equation above is not zero, we say the operators do not commute\n",
    "3. Commuting operators share the same set of eigenstates, and their matrix representations share the same set of eigenvectors\n",
    "4. Commuting operators are related to special pairs of observables that are called compatibile observables; we can simultaneously know the value of compatible observables with unlimited precision\n",
    "5. Operators that do not commute correspond to pairs of observables that are not compatible, there are strict limits on the precision with which we can simultaneously know the values of incompatible observables.\n",
    "\n",
    "The spin operators, and their corresponding matrices, obey the following commutation relations:\n",
    "\n",
    "$$[\\hat{S}_x, \\hat{S}_y] = i\\hbar \\hat{S}_z $$\n",
    "\n",
    "$$[\\hat{S}_y, \\hat{S}_z] = i\\hbar \\hat{S}_x $$\n",
    "\n",
    "$$[\\hat{S}_z, \\hat{S}_x] = i\\hbar \\hat{S}_y $$\n",
    "\n",
    "**Question 7:** Are the observables corresponding to $\\hat{S}_x$ compatible with the observables corresponding to $\\hat{S}_y$?  Explain your reasoning.\n",
    "\n",
    "**Question 8:** Confirm that the matrices $\\mathbb{S}_x$, $\\mathbb{S}_y$, and $\\mathbb{S}_z$ obey the same commutation relations as shown above.  The syntax for computing matrix products is either `np.dot(A,B)` or equivalently `A @ B`:\n",
    "\n",
    "`SxSy = np.dot(Sx, Sy)`\n",
    "\n",
    "is the same as\n",
    "\n",
    "`SxSy = Sx @ Sy`\n",
    "\n"
   ]
  },
  {
   "cell_type": "code",
   "execution_count": null,
   "id": "co4tmTPofMId",
   "metadata": {
    "id": "co4tmTPofMId"
   },
   "outputs": [],
   "source": [
    "def commutator(A,B):\n",
    "  \"\"\"\n",
    "  Computes the commutator of two matrices A and B.\n",
    "\n",
    "  Args:\n",
    "      A: The first matrix.\n",
    "      B: The second matrix.\n",
    "\n",
    "  Returns:\n",
    "      The commutator [A, B] = AB - BA.\n",
    "  \"\"\"\n",
    "  # insert code to compute commutator and store it to commutator_AB\n",
    "\n",
    "  # return commutator_AB\n",
    "  return commutator_AB\n"
   ]
  },
  {
   "cell_type": "code",
   "execution_count": null,
   "id": "fdc47d36",
   "metadata": {
    "id": "fdc47d36"
   },
   "outputs": [],
   "source": [
    "# compute commutator of Sx and Sy and compare to i*hbar*Sz\n",
    "\n",
    "# compute the commutator of Sy and Sz and compare to i*hbar*Sx\n",
    "\n",
    "# compute the commutator of Sz and Sx and compare to i*hbar*Sy"
   ]
  },
  {
   "cell_type": "code",
   "execution_count": null,
   "id": "bab0149e",
   "metadata": {
    "id": "bab0149e"
   },
   "outputs": [],
   "source": []
  }
 ],
 "metadata": {
  "colab": {
   "provenance": []
  },
  "kernelspec": {
   "display_name": "Python 3 (ipykernel)",
   "language": "python",
   "name": "python3"
  },
  "language_info": {
   "codemirror_mode": {
    "name": "ipython",
    "version": 3
   },
   "file_extension": ".py",
   "mimetype": "text/x-python",
   "name": "python",
   "nbconvert_exporter": "python",
   "pygments_lexer": "ipython3",
   "version": "3.11.11"
  }
 },
 "nbformat": 4,
 "nbformat_minor": 5
}
