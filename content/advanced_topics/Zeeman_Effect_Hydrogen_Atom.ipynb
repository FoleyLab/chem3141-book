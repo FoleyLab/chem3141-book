{
  "cells": [
    {
      "cell_type": "code",
      "execution_count": null,
      "metadata": {
        "id": "NXyjL0hak5B7"
      },
      "outputs": [],
      "source": [
        "# Zeeman Effect Solved\n",
        "Jay Foley, UNC Charlotte "
      ]
    },
    {
      "cell_type": "markdown",
      "metadata": {
        "id": "TmsnRisVlCOq"
      },
      "source": [
        "Consider a hydrogen atom in the presence of an external magnetif field \\( B = 2 T \\) oriented along the \\( z \\)-axis. We want to analyze the effect of this magnetic field on the energy levels of the \\( n = 2 \\) state of the hydrogen atom. We will specifically consider the effect of the magnetic field on the orbital angular momentum, and will neglect the impact on intrinsic spin angular momentum.  Note the Tesla is the SI unit of magnetic field strength and can be expressed in fundamental SI units as $T = 1 kg \\: s^{-2} \\: A^{-1}$.\n",
        "\n",
        "The unperturbed Hamiltonian of the hydrogen atom:\n",
        "\n",
        "$$ \\hat{H}_0 = -\\frac{\\hbar^2}{2m_e}\\nabla^2 - \\frac{e^2}{4 \\pi \\epsilon_0 r} $$\n",
        "The magnetic moment associated with the orbital angular momentum is given by $ \\vec{\\mu} = -\\frac{e}{2m} \\vec{L} $.\n",
        "The perturbing Hamiltonian due to the magnetic field is:\n",
        "$$\n",
        "\\hat{H}' = -\\vec{\\mu} \\cdot \\vec{B} = -\\frac{e B}{2m_e} \\hat{L}_z\n",
        "$$\n",
        "where $ \\hat{L}_z $ is the $ z $-component of the orbital angular momentum operator\n",
        "\n",
        "\n",
        "Use first-order perturbation theory to determine the energy shifts of the $n = 2 $ states due to the applied magnetic field.\n",
        "\n",
        "# Solution\n",
        "\n",
        "## 1. Identify the Perturbation\n",
        "The perturbing Hamiltonian is\n",
        "$$\n",
        "\\hat{H}' = \\frac{e B}{2m_e} \\hat{L}_z\n",
        "$$\n",
        "Since $\\hat{L}_z $is an operator, its eigenvalues are given by $ \\hbar m $, where $ m = -1, 0, 1 $ for the $ l = 1 $ states of $ n = 2 $.\n",
        "\n",
        "## 2. Unperturbed Energy Levels\n",
        "For the hydrogen atom, the unperturbed energy levels depend only on the principal quantum number $ n $:\n",
        "$$\n",
        "E^{(0)}_{n} = -\\frac{2.179 \\cdot 10^{-18} \\, \\text{J}}{n^2}\n",
        "$$\n",
        "For $ n = 2 $, the unperturbed energy is\n",
        "$$\n",
        "E^{(0)}_2 = -\\frac{2.179 \\cdot 10^{-18} \\text{J}}{4} = -5.447 \\cdot 10^{-19}, \\text{J}\n",
        "$$\n",
        "The $ n = 2 $ level is four-fold degenerate, with states labeled by $ l = 0, 1 $ and $ m_l = -1, 0, 1 $ for $ l = 1 $.\n",
        "\n",
        "## 3. Unperturbed states\n",
        "The zeroth-order (unperturbed) states are the energy eigenstates of the hydrogen atom, which we can see satisfy the zeroth-order eigenvalue equation\n",
        "$$\n",
        "\\hat{H}_0 |\\psi^{(0)}_{n, l, m}\\rangle = E^{(0)}_n |\\psi^{(0)}_{n, l, m}\\rangle\n",
        "$$\n",
        "\n",
        "\n",
        "## 4. Apply First-Order Perturbation Theory}\n",
        "The energy shift for a state due to the perturbation $ H' $ is given by\n",
        "$$\n",
        "E_n^{(1)} = \\langle \\psi^{(0)}_{n, l, m}  | \\hat{H}' | \\psi^{(0)}_{n, l, m}  \\rangle\n",
        "$$\n",
        "For the $ n = 2 $ states with $ l = 1 $, we use the eigenstates $ |\\psi^{(0)}_{2, 1, m}  \\rangle $, which are eigenstates of $ \\hat{L}_z $ with eigenvalues $ \\hbar m $. Thus:\n",
        "$$\n",
        "E_{n,m}^{(1)}  = -\\frac{e B}{2m_e} \\langle \\psi^{(0)}_{2, 1, m}  | L_z |\\psi^{(0)}_{2, 1, m}  \\rangle = -\\frac{e B}{2m_e} \\cdot \\hbar m\n",
        "$$\n",
        "$$\n",
        "E_{n,m}^{(1)} = -\\frac{e \\hbar B}{2m_e} \\hbar m\n",
        "$$\n",
        "\n",
        "## 5. Resulting Energy Shifts}\n",
        "For each value of $ m $, the energy shifts are:\n",
        "\n",
        "For $ m = 1 $: $E_{2,1}^{(1)}  = -\\frac{e \\hbar B}{2m_e} $\n",
        "\n",
        "\n",
        "For $ m = 0 $: $ E_{2,1}^{(1)} = 0 $\n",
        "\n",
        "For $m = -1 $: $ E_{2,1}^{(1)} = \\frac{e \\hbar B}{2m_e} $\n",
        "\n",
        "\n",
        "These shifts correspond to the splitting of the $ n = 2 $, $ l = 1$ state into three levels under the magnetic field, with energies:\n",
        "$$\n",
        "E_{2, m} = E^{(0)}_2 + E_{2,m}^{(1)} = -5.447 \\cdot 10^{-19} \\text{J} - m \\frac{e \\hbar B}{2m_e}\n",
        "$$\n",
        "\n",
        "## Are the units of the perturbation consistent?\n",
        "We noted that the magnetic field strength can be expressed in SI units as 2 Tesla.  The perturbation also contains the electron charge $e$, reduced Planck's constant $\\hbar$, and the electron mass $m_e$.  Let's express each of these terms in their base SI units:\n",
        "\\begin{align*}   \n",
        "T &\\rightarrow kg \\cdot s^{-2} \\cdot A^{-1} \\rightarrow kg \\cdot s^{-1} \\cdot C^{-1}\\\\\n",
        "e &\\rightarrow C \\\\\n",
        "\\hbar &\\rightarrow kg \\cdot m^2 \\cdot s^{-1} \\\\\n",
        "m_e & \\rightarrow kg\n",
        "\\end{align*}\n",
        "where we have made use of the fact that the Ampere (SI unit of electrical current) is one coulomb per second, $A = C \\cdot s^{-1}$.\n",
        "Using this, we can see that the units of the perturbation work out as follows:\n",
        "\\begin{align*}\n",
        "     \\frac{e \\hbar B}{2m_e} &\\rightarrow \\frac{C \\cdot kg \\cdot m^2 \\cdot s^{-1} \\cdot kg \\cdot s^{-1} \\cdot C^{-1}}{kg} \\\\\n",
        "    \\frac{e \\hbar B}{2m_e}  & \\rightarrow kg \\: m^2 s^{-2} = J\n",
        "\\end{align*}\n",
        "\n",
        "\n",
        "## Finally, compute the energies to first order!"
      ]
    },
    {
      "cell_type": "code",
      "execution_count": null,
      "metadata": {
        "colab": {
          "base_uri": "https://localhost:8080/"
        },
        "id": "8z_jRmt6lDlm",
        "outputId": "7d97b41d-938b-46cc-85b9-725429ede2f0"
      },
      "outputs": [
        {
          "name": "stdout",
          "output_type": "stream",
          "text": [
            "Printing Energies to first order\n",
            "E_2,1,1  = -5.465548020156724e-19 J\n",
            "E_2,1,0  = -5.447e-19 J\n",
            "E_2,1,-1 = -5.428451979843276e-19 J\n"
          ]
        }
      ],
      "source": [
        "import numpy as np\n",
        "from scipy import constants\n",
        "\n",
        "\n",
        "# define zeroth-order ground state energy in Joules\n",
        "E_1_zo = -2.179e-18\n",
        "\n",
        "# define zeroth-order first excited state(s) energy in Joules\n",
        "E_2_zo = -5.447e-19\n",
        "\n",
        "# get hbar from scipy constants\n",
        "hbar = constants.hbar\n",
        "\n",
        "# get electron charge from scipy constants\n",
        "e = constants.e\n",
        "\n",
        "# get electron mass from scipy constants\n",
        "me = constants.m_e\n",
        "\n",
        "# value of the magnetic field in Tesla (SI units)\n",
        "B = 200\n",
        "\n",
        "# get first order correction for n = 2, l = 1, m = 1\n",
        "E_211_fo = -e * hbar * B / (2 * me)\n",
        "\n",
        "# get first order correction for n = 2, l = 1, m = 0\n",
        "E_210_fo = 0\n",
        "\n",
        "# get first order correction for n = 2, l = 1, m = -1\n",
        "E_21m1_fo = e * hbar * B / (2 * me)\n",
        "\n",
        "# print results\n",
        "E_211 = E_2_zo + E_211_fo\n",
        "E_210 = E_2_zo + E_210_fo\n",
        "E_21m1 = E_2_zo + E_21m1_fo\n",
        "\n",
        "print(\"Printing Energies to first order\")\n",
        "print(f\"E_2,1,1  = {E_211} J\")\n",
        "print(f\"E_2,1,0  = {E_210} J\")\n",
        "print(f\"E_2,1,-1 = {E_21m1} J\")\n",
        "\n"
      ]
    },
    {
      "cell_type": "markdown",
      "metadata": {
        "id": "_pN8xY6J4Lbc"
      },
      "source": [
        "# Applying linear variational method to the Zeeman effect\n",
        "We will build trial wavefunctions as linear combinations of the hydrogen atom energy eigenstates:\n",
        "\n",
        "$$ |\\Phi\\rangle = \\sum_{n,l,m}^{N,L,M} c_{nlm} |\\psi_{nlm}\\rangle, $$\n",
        "where $N$ denotes the maximum value of $n$ in the expansion, $L$ denotes the maximum value of $l$ in the expansion, and $m$ denotes the maximum value of $m$.\n",
        "\n",
        "Minimizing the energy of this trial wavefunction is equivalent to diagonalizing the Hamiltonian matrix with elements given by\n",
        "\n",
        "$$ H_{nlm; n'l'm'} = \\langle \\psi_{nlm} | \\hat{H} | \\psi_{n'l'm'} \\rangle $$.\n",
        "\n",
        "Given the form of the Hamiltonian, we can easily evaluate these matrix elements as follows:\n",
        "\n",
        "$$ H_{nlm; n'l'm'} = (E_{n'} - \\hbar m \\frac{e B}{2 m_e}) \\delta_{nn'} \\delta_{ll'} \\delta_{mm'} $$.\n",
        "\n"
      ]
    },
    {
      "cell_type": "code",
      "execution_count": null,
      "metadata": {
        "colab": {
          "base_uri": "https://localhost:8080/"
        },
        "id": "FAMmPdIZn-MV",
        "outputId": "86a61db5-4c76-4e7f-fa35-5b3ca2b0ab04"
      },
      "outputs": [
        {
          "data": {
            "text/plain": [
              "[(1, 0, 0),\n",
              " (2, 0, 0),\n",
              " (2, 1, -1),\n",
              " (2, 1, 0),\n",
              " (2, 1, 1),\n",
              " (3, 0, 0),\n",
              " (3, 1, -1),\n",
              " (3, 1, 0),\n",
              " (3, 1, 1),\n",
              " (3, 2, -2),\n",
              " (3, 2, -1),\n",
              " (3, 2, 0),\n",
              " (3, 2, 1),\n",
              " (3, 2, 2)]"
            ]
          },
          "execution_count": 7,
          "metadata": {},
          "output_type": "execute_result"
        }
      ],
      "source": [
        "# prompt: Generate a list of tuples containing values of n between 1 and 4, l between 0 and n, and m between -l and l\n",
        "\n",
        "def generate_nlm_tuples(n_max=3):\n",
        "  \"\"\"Generates a list of tuples (n, l, m) for hydrogen atom states.\n",
        "\n",
        "  Args:\n",
        "    n_max: The maximum value of n to consider.\n",
        "\n",
        "  Returns:\n",
        "    A list of tuples (n, l, m) where:\n",
        "      n is the principal quantum number (1 to n_max).\n",
        "      l is the azimuthal quantum number (0 to n-1).\n",
        "      m is the magnetic quantum number (-l to l).\n",
        "  \"\"\"\n",
        "  nlm_tuples = []\n",
        "  for n in range(1, n_max + 1):\n",
        "    for l in range(0, n):\n",
        "      for m in range(-l, l + 1):\n",
        "        nlm_tuples.append((n, l, m))\n",
        "  return nlm_tuples\n",
        "\n",
        "\n",
        "# Generate and print the list of tuples\n",
        "nlm_list = generate_nlm_tuples()\n",
        "nlm_list"
      ]
    },
    {
      "cell_type": "code",
      "execution_count": null,
      "metadata": {
        "id": "VYDSA1MP7WHN"
      },
      "outputs": [],
      "source": [
        "Hamiltonian_Matrix = np.zeros((len(nlm_list), len(nlm_list)))\n",
        "\n",
        "i_ctr = -1\n",
        "for nlm_tuple in nlm_list:\n",
        "  n = nlm_tuple[0]\n",
        "  l = nlm_tuple[1]\n",
        "  m = nlm_tuple[2]\n",
        "  i_ctr += 1\n",
        "  j_ctr = -1\n",
        "  for nlm_prime_tuple in nlm_list:\n",
        "    npr = nlm_prime_tuple[0]\n",
        "    lpr = nlm_prime_tuple[1]\n",
        "    mpr = nlm_prime_tuple[2]\n",
        "    j_ctr += 1\n",
        "    Hamiltonian_Matrix[i_ctr, j_ctr] = (E_1_zo / npr ** 2 - e * hbar * mpr * B / (2 * me)) * (n == npr) * (l == lpr) * (m == mpr)"
      ]
    },
    {
      "cell_type": "code",
      "execution_count": null,
      "metadata": {
        "colab": {
          "base_uri": "https://localhost:8080/"
        },
        "id": "KXvWQyXF7qLA",
        "outputId": "8133b0a6-abb7-49c5-f5c2-f5091d1ffd1e"
      },
      "outputs": [
        {
          "name": "stdout",
          "output_type": "stream",
          "text": [
            "[[-2.17900000e-18 -0.00000000e+00 -0.00000000e+00 -0.00000000e+00\n",
            "  -0.00000000e+00 -0.00000000e+00 -0.00000000e+00 -0.00000000e+00\n",
            "  -0.00000000e+00 -0.00000000e+00 -0.00000000e+00 -0.00000000e+00\n",
            "  -0.00000000e+00 -0.00000000e+00]\n",
            " [-0.00000000e+00 -5.44750000e-19 -0.00000000e+00 -0.00000000e+00\n",
            "  -0.00000000e+00 -0.00000000e+00 -0.00000000e+00 -0.00000000e+00\n",
            "  -0.00000000e+00 -0.00000000e+00 -0.00000000e+00 -0.00000000e+00\n",
            "  -0.00000000e+00 -0.00000000e+00]\n",
            " [-0.00000000e+00 -0.00000000e+00 -5.42895198e-19 -0.00000000e+00\n",
            "  -0.00000000e+00 -0.00000000e+00 -0.00000000e+00 -0.00000000e+00\n",
            "  -0.00000000e+00 -0.00000000e+00 -0.00000000e+00 -0.00000000e+00\n",
            "  -0.00000000e+00 -0.00000000e+00]\n",
            " [-0.00000000e+00 -0.00000000e+00 -0.00000000e+00 -5.44750000e-19\n",
            "  -0.00000000e+00 -0.00000000e+00 -0.00000000e+00 -0.00000000e+00\n",
            "  -0.00000000e+00 -0.00000000e+00 -0.00000000e+00 -0.00000000e+00\n",
            "  -0.00000000e+00 -0.00000000e+00]\n",
            " [-0.00000000e+00 -0.00000000e+00 -0.00000000e+00 -0.00000000e+00\n",
            "  -5.46604802e-19 -0.00000000e+00 -0.00000000e+00 -0.00000000e+00\n",
            "  -0.00000000e+00 -0.00000000e+00 -0.00000000e+00 -0.00000000e+00\n",
            "  -0.00000000e+00 -0.00000000e+00]\n",
            " [-0.00000000e+00 -0.00000000e+00 -0.00000000e+00 -0.00000000e+00\n",
            "  -0.00000000e+00 -2.42111111e-19 -0.00000000e+00 -0.00000000e+00\n",
            "  -0.00000000e+00 -0.00000000e+00 -0.00000000e+00 -0.00000000e+00\n",
            "  -0.00000000e+00 -0.00000000e+00]\n",
            " [-0.00000000e+00 -0.00000000e+00 -0.00000000e+00 -0.00000000e+00\n",
            "  -0.00000000e+00 -0.00000000e+00 -2.40256309e-19 -0.00000000e+00\n",
            "  -0.00000000e+00 -0.00000000e+00 -0.00000000e+00 -0.00000000e+00\n",
            "  -0.00000000e+00 -0.00000000e+00]\n",
            " [-0.00000000e+00 -0.00000000e+00 -0.00000000e+00 -0.00000000e+00\n",
            "  -0.00000000e+00 -0.00000000e+00 -0.00000000e+00 -2.42111111e-19\n",
            "  -0.00000000e+00 -0.00000000e+00 -0.00000000e+00 -0.00000000e+00\n",
            "  -0.00000000e+00 -0.00000000e+00]\n",
            " [-0.00000000e+00 -0.00000000e+00 -0.00000000e+00 -0.00000000e+00\n",
            "  -0.00000000e+00 -0.00000000e+00 -0.00000000e+00 -0.00000000e+00\n",
            "  -2.43965913e-19 -0.00000000e+00 -0.00000000e+00 -0.00000000e+00\n",
            "  -0.00000000e+00 -0.00000000e+00]\n",
            " [-0.00000000e+00 -0.00000000e+00 -0.00000000e+00 -0.00000000e+00\n",
            "  -0.00000000e+00 -0.00000000e+00 -0.00000000e+00 -0.00000000e+00\n",
            "  -0.00000000e+00 -2.38401507e-19 -0.00000000e+00 -0.00000000e+00\n",
            "  -0.00000000e+00 -0.00000000e+00]\n",
            " [-0.00000000e+00 -0.00000000e+00 -0.00000000e+00 -0.00000000e+00\n",
            "  -0.00000000e+00 -0.00000000e+00 -0.00000000e+00 -0.00000000e+00\n",
            "  -0.00000000e+00 -0.00000000e+00 -2.40256309e-19 -0.00000000e+00\n",
            "  -0.00000000e+00 -0.00000000e+00]\n",
            " [-0.00000000e+00 -0.00000000e+00 -0.00000000e+00 -0.00000000e+00\n",
            "  -0.00000000e+00 -0.00000000e+00 -0.00000000e+00 -0.00000000e+00\n",
            "  -0.00000000e+00 -0.00000000e+00 -0.00000000e+00 -2.42111111e-19\n",
            "  -0.00000000e+00 -0.00000000e+00]\n",
            " [-0.00000000e+00 -0.00000000e+00 -0.00000000e+00 -0.00000000e+00\n",
            "  -0.00000000e+00 -0.00000000e+00 -0.00000000e+00 -0.00000000e+00\n",
            "  -0.00000000e+00 -0.00000000e+00 -0.00000000e+00 -0.00000000e+00\n",
            "  -2.43965913e-19 -0.00000000e+00]\n",
            " [-0.00000000e+00 -0.00000000e+00 -0.00000000e+00 -0.00000000e+00\n",
            "  -0.00000000e+00 -0.00000000e+00 -0.00000000e+00 -0.00000000e+00\n",
            "  -0.00000000e+00 -0.00000000e+00 -0.00000000e+00 -0.00000000e+00\n",
            "  -0.00000000e+00 -2.45820715e-19]]\n"
          ]
        }
      ],
      "source": [
        "print(Hamiltonian_Matrix)"
      ]
    },
    {
      "cell_type": "code",
      "execution_count": null,
      "metadata": {
        "id": "OyH7x4Rl-kVi"
      },
      "outputs": [],
      "source": []
    }
  ],
  "metadata": {
    "colab": {
      "provenance": []
    },
    "kernelspec": {
      "display_name": "Python 3",
      "name": "python3"
    },
    "language_info": {
      "name": "python"
    }
  },
  "nbformat": 4,
  "nbformat_minor": 0
}
