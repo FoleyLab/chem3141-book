{
 "cells": [
  {
   "cell_type": "markdown",
   "metadata": {
    "slideshow": {
     "slide_type": "slide"
    }
   },
   "source": [
    "## Visualizing Spherical harmonics"
   ]
  },
  {
   "cell_type": "code",
   "execution_count": null,
   "metadata": {
    "slideshow": {
     "slide_type": "slide"
    }
   },
   "outputs": [],
   "source": [
    "%matplotlib inline\n",
    "\n",
    "# First load the numpy/scipy/matplotlib\n",
    "import matplotlib.pyplot as plt\n",
    "import numpy as np\n",
    "\n",
    "# 3D plotting\n",
    "from matplotlib import cm, colors\n",
    "from mpl_toolkits.mplot3d import Axes3D\n",
    "\n",
    "#Interactive widgets\n",
    "import ipywidgets as widgets\n",
    "from IPython.display import display\n",
    "\n",
    "#Increase resolution of plots\n",
    "%config InlineBackend.figure_format = 'retina'"
   ]
  },
  {
   "cell_type": "markdown",
   "metadata": {
    "slideshow": {
     "slide_type": "slide"
    }
   },
   "source": [
    "### Import [spherical harmonics](https://docs.scipy.org/doc/scipy/reference/generated/scipy.special.sph_harm.html#scipy.special.sph_harm) from scipy [special functions collection](https://docs.scipy.org/doc/scipy/reference/special.html)\n"
   ]
  },
  {
   "cell_type": "code",
   "execution_count": null,
   "metadata": {
    "slideshow": {
     "slide_type": "fragment"
    }
   },
   "outputs": [],
   "source": [
    "#Import spherical harmonics\n",
    "from scipy.special import sph_harm"
   ]
  },
  {
   "cell_type": "markdown",
   "metadata": {
    "slideshow": {
     "slide_type": "fragment"
    }
   },
   "source": [
    "$$\n",
    "Y_{lm}(\\phi,\\theta) = \\sqrt{\\frac{2l+1}{4\\pi} \\frac{(l-m)!}{(l+m)!} } P_{lm}(cos \\phi) \\cdot e^{im\\theta}\n",
    "$$"
   ]
  },
  {
   "cell_type": "markdown",
   "metadata": {
    "slideshow": {
     "slide_type": "fragment"
    }
   },
   "source": [
    "Notice that scipy adopts slightly different convenient of angles than what is adopted in textbook. \n",
    "\n",
    "- **m array_like**\n",
    "Order of the harmonic (int); must have |m| <= l.\n",
    "\n",
    "- **l array_like**\n",
    "Degree of the harmonic (int); must have l >= 0. \n",
    "\n",
    "- **$\\theta$ array_like**\n",
    "Azimuthal (longitudinal) coordinate; must be in $[0, 2\\pi]$.\n",
    "\n",
    "- **$\\phi$ array_like**\n",
    "Polar (colatitudinal) coordinate; must be in $[0, \\pi]$."
   ]
  },
  {
   "cell_type": "code",
   "execution_count": null,
   "metadata": {
    "inputHidden": false,
    "outputHidden": false,
    "slideshow": {
     "slide_type": "slide"
    }
   },
   "outputs": [],
   "source": [
    "# Create 2D grid of angular variables\n",
    "\n",
    "phi = np.linspace(0, np.pi, 100)\n",
    "theta = np.linspace(0, 2*np.pi, 100)\n",
    "phi, theta = np.meshgrid(phi, theta)\n",
    "\n",
    "# Convert to cartesian coordinates. r=const=1 for convenience\n",
    "x = np.sin(phi) * np.cos(theta)\n",
    "y = np.sin(phi) * np.sin(theta)\n",
    "z = np.cos(phi)"
   ]
  },
  {
   "cell_type": "code",
   "execution_count": null,
   "metadata": {
    "inputHidden": false,
    "outputHidden": false,
    "slideshow": {
     "slide_type": "slide"
    }
   },
   "outputs": [],
   "source": [
    "fig = plt.figure(figsize=(10,10))\n",
    "ax = fig.add_subplot(111, projection='3d')\n",
    "\n",
    "m, l = 4, 4\n",
    "Ylm  = sph_harm(m, l, theta, phi).real\n",
    "\n",
    "#normalize color to [0,1] corresponding to magnitude of spherical harmonic\n",
    "\n",
    "fcolors = (Ylm - Ylm.min())/(Ylm.max() - Ylm.min())\n",
    "\n",
    "ax.plot_surface(x, y, z, facecolors=cm.seismic(fcolors))\n",
    "\n",
    "# Turn off the axis planes\n",
    "ax.set_axis_off()"
   ]
  },
  {
   "cell_type": "code",
   "execution_count": null,
   "metadata": {
    "slideshow": {
     "slide_type": "slide"
    }
   },
   "outputs": [],
   "source": [
    "@widgets.interact(l = np.arange(0,10,1),m=np.arange(-l,l+1,1))\n",
    "\n",
    "def plot_SphHarm(l=1,m=0):\n",
    "\n",
    "    fig = plt.figure(figsize=(10,10))\n",
    "    ax = fig.add_subplot(111, projection='3d')\n",
    "\n",
    "    Ylm  = sph_harm(m, l, theta, phi).real\n",
    "\n",
    "    fcolors = (Ylm - Ylm.min())/(Ylm.max() - Ylm.min())\n",
    "\n",
    "    ax.plot_surface(x, y, z, facecolors=cm.seismic(fcolors))\n",
    "\n",
    "    ax.set_axis_off()\n",
    "    \n",
    "\n",
    "    # Set axes limit to keep aspect ratio 1:1:1\n",
    "    ax.set_xlim(-1, 1)\n",
    "    ax.set_ylim(-1, 1)\n",
    "    ax.set_zlim(-1, 1)"
   ]
  },
  {
   "cell_type": "markdown",
   "metadata": {
    "slideshow": {
     "slide_type": "slide"
    }
   },
   "source": [
    "### Making volume plot with ipyvolumes\n",
    "\n",
    "\n",
    "- [IPyvolume](https://ipyvolume.readthedocs.io/en/latest/index.html) is a Python library to visualize 3D volumes. "
   ]
  },
  {
   "cell_type": "code",
   "execution_count": null,
   "metadata": {
    "slideshow": {
     "slide_type": "fragment"
    }
   },
   "outputs": [],
   "source": [
    "import ipyvolume as ipv"
   ]
  },
  {
   "cell_type": "code",
   "execution_count": null,
   "metadata": {
    "slideshow": {
     "slide_type": "slide"
    }
   },
   "outputs": [],
   "source": [
    "ipv.figure()\n",
    "\n",
    "m, l =  0, 1\n",
    "\n",
    "Ylm  = sph_harm(m, l, theta, phi).real  \n",
    "\n",
    "fcolors = (Ylm - Ylm.min())/(Ylm.max() - Ylm.min())\n",
    "\n",
    "mesh = ipv.plot_surface(x, y, z, color=cm.seismic(fcolors))  # Feeding our x,y,z and colormap defined previously\n",
    "\n",
    "ipv.show()"
   ]
  },
  {
   "cell_type": "code",
   "execution_count": null,
   "metadata": {},
   "outputs": [],
   "source": [
    "ipv.show()"
   ]
  }
 ],
 "metadata": {
  "kernel_info": {
   "name": "python3"
  },
  "kernelspec": {
   "display_name": "Python 3 (ipykernel)",
   "language": "python",
   "name": "python3"
  },
  "language_info": {
   "codemirror_mode": {
    "name": "ipython",
    "version": 3
   },
   "file_extension": ".py",
   "mimetype": "text/x-python",
   "name": "python",
   "nbconvert_exporter": "python",
   "pygments_lexer": "ipython3",
   "version": "3.11.0"
  },
  "latex_envs": {
   "LaTeX_envs_menu_present": true,
   "autoclose": false,
   "autocomplete": true,
   "bibliofile": "biblio.bib",
   "cite_by": "apalike",
   "current_citInitial": 1,
   "eqLabelWithNumbers": true,
   "eqNumInitial": 1,
   "hotkeys": {
    "equation": "Ctrl-E",
    "itemize": "Ctrl-I"
   },
   "labels_anchors": false,
   "latex_user_defs": false,
   "report_style_numbering": false,
   "user_envs_cfg": false
  },
  "nteract": {
   "version": "0.15.0"
  },
  "rise": {
   "theme": "sky"
  }
 },
 "nbformat": 4,
 "nbformat_minor": 4
}
